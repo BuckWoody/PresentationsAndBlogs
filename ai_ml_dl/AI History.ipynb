{
    "metadata": {
        "kernelspec": {
            "name": "python3",
            "display_name": "Python 3 (ipykernel)",
            "language": "python"
        },
        "language_info": {
            "name": "python",
            "version": "3.8.10",
            "mimetype": "text/x-python",
            "codemirror_mode": {
                "name": "ipython",
                "version": 3
            },
            "pygments_lexer": "ipython3",
            "nbconvert_exporter": "python",
            "file_extension": ".py"
        }
    },
    "nbformat_minor": 2,
    "nbformat": 4,
    "cells": [
        {
            "cell_type": "markdown",
            "source": [
                "# Artificial Intelligence Primer - an incomplete notebook\n",
                "\n",
                "**Note**: _This is a learning Notebook. It is not intended for production, has no practical use, and is for you to edit, own, and explore. Use at your own risk, on a test system only. Buck Woody or any company he works for takes any responsibilty for how you use the information or code herein._ \n",
                "\n",
                "In this set of examples, you can explore some of the basic concepts used in Artificial Intelligence constructs. There are many references for you to use on your journey. We'll start the history lesson with the maths and statistics that are prominent in Artificial Intelligence, and walk through AI, Machine Learning, Deep Learning and GPT concepts. It moves from simple to far more complex quickly, and this information should be used to help you come up to speed on how AI was developed. You should supplement this information with your own study. \n",
                "\n",
                "## The Maths\n",
                "\n",
                "Linear algebra is a branch of mathematics that deals with vector spaces and linear transformations between them. It is used in artificial intelligence algorithms to **represent** and **manipulate** high-dimensional data, such as images, text, speech, and graphs, using vectors and matrices. Linear algebra also helps to **solve** systems of linear equations, which often arise in optimization problems, such as finding the best model parameters or the shortest path.\n",
                "\n",
                "Some of the important concepts in linear algebra that are relevant for artificial intelligence are:\n",
                "\n",
                "- **Scalars** — Single numbers that can be real or natural. They are used to represent quantities or magnitudes, such as temperature, speed, or weight.\n",
                "- **Vectors** — Lists of numbers, arranged in order, that can represent points in space or directions. They are used to represent features or attributes of data, such as pixels, words, or ratings.\n",
                "- **Matrices** — Two-dimensional arrays of numbers, where each number is identified by two indices (row and column). They are used to represent collections of vectors, linear transformations, or relationships between data, such as images, weights, or adjacency matrices.\n",
                "- **Tensors** — Multi-dimensional arrays of numbers, arranged on a regular grid with N-axes. They are used to represent complex data structures, such as color images, videos, or neural networks.\n",
                "- **Eigenvectors and eigenvalues** — Special vectors and scalars that satisfy a linear equation involving a matrix. They are used to perform dimensionality reduction, which is a technique to reduce the number of variables or features in a dataset while preserving the most important information.\n",
                "- **Singular value decomposition** — A factorization of a matrix into three matrices that have certain properties. It is used to perform principal component analysis, which is another technique for dimensionality reduction that finds the directions of maximum variance in the data.\n",
                "\n",
                "Learn more about linear algebra in artificial intelligence:\n",
                "\n",
                "- [All the Math You Need to Know in Artificial Intelligence](https:\\www.freecodecamp.org\\news\\all-the-math-you-need-in-artificial-intelligence\\) by Jason Dsouza\n",
                "- [How Linear Algebra Is Used In Artificial Intelligence](https:\\www.surfactants.net\\how-linear-algebra-is-used-in-artificial-intelligence\\) by Surfactants\n",
                "- [Mathematics for Machine Learning: Linear Algebra](https:\\www.coursera.org\\learn\\linear-algebra-machine-learning) by Coursera\n",
                "- [Linear Algebra for AI: NLP and ML Use Cases](https:\\pub.towardsai.net\\linear-algebra-for-ai-nlp-and-ml-use-cases-simply-explained-c0bac7159a7f) by Towards AI"
            ],
            "metadata": {
                "azdata_cell_guid": "daf45f8f-62eb-4d90-97c6-07a88e543f28",
                "language": "python"
            },
            "attachments": {}
        },
        {
            "cell_type": "code",
            "source": [
                "# Dimensionality Reduction using SVD\n",
                "import numpy as np\n",
                " \n",
                "# Create a Matrix:\n",
                "myArray = np.array([[1,2,3]\n",
                "            ,[1,2,3]\n",
                "            ,[4,2,1]])\n",
                " \n",
                "# Run an SVD using numpy:\n",
                "U, S, VT = np.linalg.svd(myArray)\n",
                "\n",
                "\n",
                "# Create the original matrix using the U, D, VT values:\n",
                "myArray_remake = (U @ np.diag(S) @ VT)\n",
                "print(myArray_remake)"
            ],
            "metadata": {
                "azdata_cell_guid": "11479dbf-1482-406a-b1ad-18ecf9544ab9",
                "language": "python",
                "tags": []
            },
            "outputs": [
                {
                    "output_type": "stream",
                    "name": "stdout",
                    "text": "[[1. 2. 3.]\n [1. 2. 3.]\n [4. 2. 1.]]\n"
                }
            ],
            "execution_count": 45
        },
        {
            "cell_type": "markdown",
            "source": [
                "Calculus is a branch of mathematics that is used quite a bit in Machine Learning - specifically Deep Learning algorithms. It deals with changes in parameters, functions, errors and approximations. It is used in artificial intelligence algorithms to **optimize** complex objective functions, such as loss functions or error functions, that measure how well a model performs on a given task. Calculus also helps to **understand** the internal workings of different machine learning algorithms, such as the gradient descent algorithm, which iteratively updates the model parameters to minimize the error function.\n",
                "\n",
                "Some of the important concepts in calculus that are relevant for artificial intelligence are:\n",
                "\n",
                "- **Mean Square Error** — Measures the average of the square of the difference between predictions and actual observations.\n",
                "- **Root Mean Square Error** — Measures the (RMSE) which is the square root of Mean Square error.\n",
                "- **Mean Absolute Error** — Measures the  the average of the absolute difference between predictions and actual observations.\n",
                "- **Cross-Entropy Loss** — aAso known as the *Negative Log Likelihood*. It is most commonly used for classification, where you classify an example as belonging to one of more than two classes.\n",
                "\n",
                "Learn more about calculus in artificial intelligence:\n",
                "\n",
                "- [All the Math You Need to Know in Artificial Intelligence](https:\\www.freecodecamp.org\\news\\all-the-math-you-need-in-artificial-intelligence\\) by Jason Dsouza\n",
                "- [Calculus in Machine Learning: Why it Works](https:\\machinelearningmastery.com\\calculus-in-machine-learning-why-it-works\\) by Stefania Cristina\n",
                "- [Calculus Teaching Method Based on Artificial Intelligence](https:\\link.springer.com\\chapter\\10.1007\\978-981-15-5959-4_17) by Liang Li et al.\n",
                "- [Calculus and Artificial Intelligence](https:\\medium.com\\appengine-ai\\calculus-and-artificial-intelligence-part-2-6f1ebb83e98d) by AppEngine AI"
            ],
            "metadata": {
                "azdata_cell_guid": "deb21bd6-01a6-4468-ab1a-3c5a3c121404"
            },
            "attachments": {}
        },
        {
            "cell_type": "code",
            "source": [
                "# Cross-Entopy Loss Function\n",
                "from sklearn.metrics import log_loss\n",
                "log_loss([\"spam\", \"ham\", \"ham\", \"spam\"],\n",
                "         [[.1, .9], [.9, .1], [.8, .2], [.35, .65]])"
            ],
            "metadata": {
                "azdata_cell_guid": "bd639469-318d-4952-86ad-fd5e178057d3",
                "language": "python",
                "tags": [
                    "hide_input"
                ]
            },
            "outputs": [
                {
                    "output_type": "execute_result",
                    "execution_count": 16,
                    "data": {
                        "text/plain": "0.21616187468057912"
                    },
                    "metadata": {}
                }
            ],
            "execution_count": 16
        },
        {
            "cell_type": "code",
            "source": [
                "# With three sets of numbers, we want to know the probability of getting a certain distribution from those \"bins\". \n",
                "# So we can calculate the number of valid possibilities and divide it by the total number of possibilities.\n",
                "\n",
                "# Load our libraries\n",
                "import operator\n",
                "from functools import reduce\n",
                "from math import factorial\n",
                "\n",
                "# Get our randomly generated numbers:\n",
                "def nCr(n, r):\n",
                "# Calculate all possible combinations:\n",
                "    return(factorial(n)//(factorial(r)*factorial(n-r)))\n",
                "\n",
                "# Set our product function:\n",
                "def prod(iterable):\n",
                "    return(reduce(operator.mul, iterable, 1))\n",
                "\n",
                "# Define the bins to choose from:\n",
                "numbers = [\n",
                "    [10, 11, 12, 13, 14, 15, 16, 17, 18, 19],\n",
                "    [20, 21, 22, 23, 24],\n",
                "    [30, 31, 32, 33, 34, 35]\n",
                "    ]\n",
                "\n",
                "# What do we want to grab from the bins:\n",
                "n_taken = [3, 2, 1]\n",
                "\n",
                "\n",
                "# Get the  number of values in each bin:\n",
                "n_values = list(map(len, numbers))\n",
                "\n",
                "# Calculate total number of values from the bins:\n",
                "n_total = sum(n_values)\n",
                "\n",
                "# Figure out the number of ways this can happen:\n",
                "N1 = prod(map(nCr, n_values, n_taken))\n",
                "\n",
                "# Calculate all possibilities:\n",
                "N2 = nCr(n_total, sum(n_taken))\n",
                "\n",
                "# Divide the two to get the probability:\n",
                "print(\"About %\" + str((N1/N2)*100) + \" chance of getting a \" + str(n_taken) + \" distribution from \" + str([numbers]))"
            ],
            "metadata": {
                "azdata_cell_guid": "647ba8aa-9f67-49a2-ace3-c74f250fca18",
                "language": "python",
                "tags": [
                    "hide_input"
                ]
            },
            "outputs": [
                {
                    "output_type": "stream",
                    "name": "stdout",
                    "text": "About %13.268465280849181 chance of getting a [3, 2, 1] distribution from [[[10, 11, 12, 13, 14, 15, 16, 17, 18, 19], [20, 21, 22, 23, 24], [30, 31, 32, 33, 34, 35]]]\n"
                }
            ],
            "execution_count": 46
        },
        {
            "cell_type": "markdown",
            "source": [
                "## Statistics\n",
                "\n",
                "Statistics is a branch of mathematics that deals with collecting, analyzing, interpreting and presenting data. It is used in artificial intelligence algorithms to **model** complex phenomena, such as natural language, speech, vision, and human behavior, using probabilistic and statistical methods. Statistics also helps to **evaluate** the performance and reliability of different machine learning algorithms, such as classification, regression, clustering, and recommendation systems, using metrics and tests.\n",
                "\n",
                "Some of the important concepts in statistics that are relevant for artificial intelligence are:\n",
                "\n",
                "- **Probability** — Measures the likelihood of an event or outcome occurring. It is used to represent uncertainty and variability in data and models, and to make inferences and predictions based on evidence.\n",
                "- **Bayesian inference** — A method of updating _beliefs_ based on new data and prior knowledge. It is used to learn from data and incorporate domain knowledge into models, and to estimate parameters and uncertainties.\n",
                "- **Hypothesis testing** — A method of comparing two or more hypotheses or models based on data and significance levels. It is used to test the validity and generalizability of models, and to select the best model among alternatives.\n",
                "- **Regression analysis** — A method of modeling the relationship between a dependent variable and one or more independent variables. It is used to understand how variables affect each other, and to make predictions based on data.\n",
                "- **Dimensionality reduction** — A method of reducing the number of variables or features in a dataset while preserving the most important information. It is used to simplify data analysis, visualization, and modeling, and to reduce noise and redundancy.\n",
                "\n",
                "Learn more about statistics in artificial intelligence:\n",
                "\n",
                "- [All the Math You Need to Know in Artificial Intelligence](https:\\www.freecodecamp.org\\news\\all-the-math-you-need-in-artificial-intelligence\\) by Jason Dsouza\n",
                "- [Is there a role for statistics in artificial intelligence?](https:\\link.springer.com\\article\\10.1007\\s11634-021-00455-6) by Marco Bonetti et al.\n",
                "- [Artificial Intelligence (AI) worldwide - statistics & facts](https:\\www.statista.com\\topics\\3104\\artificial-intelligence-ai-worldwide\\) by Statista\n",
                "- [65 Artificial Intelligence Statistics for 2021 and Beyond](https:\\www.semrush.com\\blog\\artificial-intelligence-stats\\) by Semrush\n",
                "- [Global survey: The state of AI in 2021](https:\\www.mckinsey.com\\capabilities\\quantumblack\\our-insights\\global-survey-the-state-of-ai-in-2021) by McKinsey"
            ],
            "metadata": {
                "azdata_cell_guid": "ef442421-db3f-4fc8-9a52-bbb4e270e6b3",
                "language": "python"
            },
            "attachments": {}
        },
        {
            "cell_type": "markdown",
            "source": [
                "Chess Game\n",
                "\n",
                "<span style=\"font-size: 14px;\">https://en.wikipedia.org/wiki/Eight_queens_puzzle&nbsp;</span>   \n",
                "\n",
                "<span style=\"font-size: 14px;\"><a href=\"https://github.com/mikolaj-skrzypczak/chess-engine/tree/master\" data-href=\"https://github.com/mikolaj-skrzypczak/chess-engine/tree/master\" title=\"https://github.com/mikolaj-skrzypczak/chess-engine/tree/master\" is-markdown=\"true\" is-absolute=\"false\">https://github.com/mikolaj-skrzypczak/chess-engine/tree/master</a>&nbsp;</span>"
            ],
            "metadata": {
                "azdata_cell_guid": "f76fce81-ed86-49fc-87f3-386e57cddfdc",
                "language": "python"
            },
            "attachments": {}
        },
        {
            "cell_type": "markdown",
            "source": [
                "Means End Analysis - [https://www.section.io/engineering-education/basics-of-means-end-analysis-in-ai/](https:\\www.section.io\\engineering-education\\basics-of-means-end-analysis-in-ai\\) \n",
                "\n",
                "Problem Reduction - [https://github.com/tex216/Block-World](https:\\github.com\\tex216\\Block-World) \n",
                "\n",
                "Backwards and Forwards - https://en.wikipedia.org/wiki/Backtracking and https://brilliant.org/wiki/recursive-backtracking/"
            ],
            "metadata": {
                "azdata_cell_guid": "c5d3238a-2430-4db4-9bf4-1d1b4a554ab8"
            },
            "attachments": {}
        },
        {
            "cell_type": "code",
            "source": [
                "def permute(list, s):\n",
                "   if list == 1:\n",
                "      return s\n",
                "   else:\n",
                "      return [ \n",
                "         y + x\n",
                "         for y in permute(1, s)\n",
                "         for x in permute(list - 1, s)\n",
                "      ]\n",
                "print(permute(1, [\"1\",\"2\",\"3\"]))\n",
                "print(permute(2, [\"a\",\"b\",\"c\"]))"
            ],
            "metadata": {
                "azdata_cell_guid": "b5ab1199-724e-4e24-9779-9a24124019a1",
                "language": "python",
                "tags": [
                    "hide_input"
                ]
            },
            "outputs": [
                {
                    "output_type": "stream",
                    "name": "stdout",
                    "text": "['1', '2', '3']\n['aa', 'ab', 'ac', 'ba', 'bb', 'bc', 'ca', 'cb', 'cc']\n"
                }
            ],
            "execution_count": 21
        },
        {
            "cell_type": "markdown",
            "source": [
                "The A* algorithm is an artificial intelligence problem used for pathfinding and graph traversals. It is flexible and can be used in a wide range of contexts. The A* search algorithm uses the heuristic path cost, the starting point’s cost, and the ending point. It uses an informed algorithm as it uses a heuristic to guide the search. The algorithm starts from an initial start node, expands neighbors and updates the full path cost of each neighbor."
            ],
            "metadata": {
                "azdata_cell_guid": "9cf8524c-cf25-4a58-b25d-6f938fa3828e"
            },
            "attachments": {}
        },
        {
            "cell_type": "markdown",
            "source": [
                "First-order logic (FOL), also known as predicate logic, quantificational logic, and first-order predicate calculus, is a collection of formal systems used in mathematics, philosophy, linguistics, and computer science1. It is a logical system for reasoning about properties of objects. FOL augments the logical connectives from propositional logic with predicates functions that describe properties of objects, that map objects to one another, and quantifiers that allow us to reason about many objects at once2.\n",
                "\n",
                "In FOL, the predicate of a sentence or statement can only refer to a single subject3. For example, “All dogs are mammals” can be expressed in FOL as “For all x, if x is a dog then x is a mammal” 1.\n",
                "\n",
                "Python can be used to implement FOL using libraries like PyLog4, First-Order Logic Solver2, or NLTK5.\n"
            ],
            "metadata": {
                "azdata_cell_guid": "06164f18-6d72-4687-b372-4b5386a67dc9",
                "language": "python"
            },
            "attachments": {}
        },
        {
            "cell_type": "code",
            "source": [
                "# Function to simulate OR Gate\n",
                "def OR(A, B):\n",
                "\treturn A | B\t\n",
                "\n",
                "print(\"Output of 0 OR 0 is\", OR(0, 0))\n",
                "print(\"Output of 0 OR 1 is\", OR(0, 1))\n",
                "print(\"Output of 1 OR 0 is\", OR(1, 0))\n",
                "print(\"Output of 1 OR 1 is\", OR(1, 1))\n",
                "\n",
                "# Function to simulate AND Gate\n",
                "def AND(A, B):\n",
                "\treturn A & B\t\n",
                "\n",
                "print(\"Output of 0 AND 0 is\", AND(0, 0))\n",
                "print(\"Output of 0 AND 1 is\", AND(0, 1))\n",
                "print(\"Output of 1 AND 0 is\", AND(1, 0))\n",
                "print(\"Output of 1 AND 1 is\", AND(1, 1))\n",
                "\n",
                "\n",
                "# Function to simulate NOT Gate\n",
                "def NOT(A):\n",
                "\treturn ~A+2\t\n",
                "\n",
                "print(\"Output of NOT 0 is\", NOT(0))\n",
                "print(\"Output of NOT 1 is\", NOT(1))\n",
                "\n",
                "# Function to simulate AND Gate\n",
                "def AND(A, B):\n",
                "\treturn A & B;\t\n",
                "\n",
                "# Function to simulate NOT Gate\n",
                "def NOT(A):\n",
                "\treturn ~A+2\t\n",
                "\n",
                "# Function to simulate NAND Gate\n",
                "def NAND(A, B):\n",
                "\treturn NOT(AND(A, B))\n",
                "\n",
                "\n",
                "print(\"Output of 0 NAND 0 is\", NAND(0, 0))\n",
                "print(\"Output of 0 NAND 1 is\", NAND(0, 1))\n",
                "print(\"Output of 1 NAND 0 is\", NAND(1, 0))\n",
                "print(\"Output of 1 NAND 1 is\", NAND(1, 1))\n",
                "\n",
                "# Function to calculate OR Gate\n",
                "def OR(A, B):\n",
                "\treturn A | B;\t\n",
                "\n",
                "# Function to simulate NOT Gate\n",
                "def NOT(A):\n",
                "\treturn ~A+2\t\n",
                "\n",
                "# Function to simulate NOR Gate\n",
                "def NOR(A, B):\n",
                "\treturn NOT(OR(A, B))\n",
                "\n",
                "\n",
                "print(\"Output of 0 NOR 0 is\", NOR(0, 0))\n",
                "print(\"Output of 0 NOR 1 is\", NOR(0, 1))\n",
                "print(\"Output of 1 NOR 0 is\", NOR(1, 0))\n",
                "print(\"Output of 1 NOR 1 is\", NOR(1, 1))\n",
                "\n",
                "\n",
                "# Function to simulate XOR Gate\n",
                "def XOR(A, B):\n",
                "\treturn A ^ B\n",
                "\n",
                "print(\"Output of 0 XOR 0 is\", XOR(0, 0))\n",
                "print(\"Output of 0 XOR 1 is\", XOR(0, 1))\n",
                "print(\"Output of 1 XOR 0 is\", XOR(1, 0))\n",
                "print(\"Output of 1 XOR 1 is\", XOR(1, 1))\n",
                "\n",
                "\n",
                "# Function to simulate XOR Gate\n",
                "def XOR(A, B):\n",
                "\treturn A ^ B\n",
                "\n",
                "# Function to simulate NOT Gate\n",
                "def NOT(A):\n",
                "\treturn ~A+2\t\n",
                "\n",
                "# Function to simulate XNOR Gate\n",
                "def XNOR(A, B):\n",
                "\treturn NOT(XOR(A, B))\n",
                "\n",
                "\n",
                "print(\"Output of 0 XNOR 0 is\", XNOR(0, 0))\n",
                "print(\"Output of 0 XNOR 1 is\", XNOR(0, 1))\n",
                "print(\"Output of 1 XNOR 0 is\", XNOR(1, 0))\n",
                "print(\"Output of 1 XNOR 1 is\", XNOR(1, 1))\n"
            ],
            "metadata": {
                "azdata_cell_guid": "bb8fb8b7-c7d0-4447-8d64-136bca586bd1",
                "language": "python",
                "tags": [
                    "hide_input"
                ]
            },
            "outputs": [],
            "execution_count": null
        },
        {
            "cell_type": "markdown",
            "source": [
                "Heuristic Search: This implementation creates a graph of nodes and then finds the shortest path between the start and end nodes using the A\\* algorithm. The heuristic function calculates the Manhattan distance between two points. The astar function implements the A\\* algorithm using a priority queue to keep track of the nodes to be explored. The main function creates a graph of nodes and then finds the shortest path between the start and end nodes using the A\\* algorithm."
            ],
            "metadata": {
                "azdata_cell_guid": "02399075-ad40-49a1-a6ff-a1090fb6c097",
                "language": "python"
            },
            "attachments": {}
        },
        {
            "cell_type": "code",
            "source": [
                "import heapq\n",
                "\n",
                "def astar(start_node, end_node):\n",
                "    open_set = set([start_node])\n",
                "    closed_set = set([])\n",
                "    while open_set:\n",
                "        current_node = min(open_set, key=lambda o:o.g + o.h)\n",
                "        if current_node == end_node:\n",
                "            path = []\n",
                "            while current_node.parent:\n",
                "                path.append(current_node)\n",
                "                current_node = current_node.parent\n",
                "            path.append(current_node)\n",
                "            return path[::-1]\n",
                "        open_set.remove(current_node)\n",
                "        closed_set.add(current_node)\n",
                "        for neighbor in current_node.neighbors:\n",
                "            if neighbor in closed_set:\n",
                "                continue\n",
                "            if neighbor in open_set:\n",
                "                new_g = current_node.g + current_node.move_cost(neighbor)\n",
                "                if neighbor.g > new_g:\n",
                "                    neighbor.g = new_g\n",
                "                    neighbor.parent = current_node\n",
                "            else:\n",
                "                neighbor.g = current_node.g + current_node.move_cost(neighbor)\n",
                "                neighbor.h = heuristic(neighbor.position, end_node.position)\n",
                "                neighbor.parent = current_node\n",
                "                open_set.add(neighbor)\n",
                "    return None\n",
                "\n",
                "class Node:\n",
                "    def __init__(self, position):\n",
                "        self.position = position\n",
                "        self.neighbors = []\n",
                "        self.parent = None\n",
                "        self.g = 0\n",
                "        self.h = 0\n",
                "\n",
                "    def move_cost(self, other):\n",
                "        return 0 if self.position == other.position else 1\n",
                "\n",
                "def heuristic(a, b):\n",
                "    return abs(a[0] - b[0]) + abs(a[1] - b[1])\n",
                "\n",
                "def main():\n",
                "    graph = {}\n",
                "    nodes = []\n",
                "    for x in range(10):\n",
                "        for y in range(10):\n",
                "            graph[(x,y)] = Node((x,y))\n",
                "            nodes.append(graph[(x,y)])\n",
                "    for node in nodes:\n",
                "        if node.position[0] < 9:\n",
                "            node.neighbors.append(graph[(node.position[0]+1, node.position[1])])\n",
                "        if node.position[1] < 9:\n",
                "            node.neighbors.append(graph[(node.position[0], node.position[1]+1)])\n",
                "        if node.position[0] > 0:\n",
                "            node.neighbors.append(graph[(node.position[0]-1, node.position[1])])\n",
                "        if node.position[1] > 0:\n",
                "            node.neighbors.append(graph[(node.position[0], node.position[1]-1)])\n",
                "    start = graph[(0,0)]\n",
                "    end = graph[(9,9)]\n",
                "    result = astar(start, end)\n",
                "    print([(node.position) for node in result])\n",
                "\n",
                "if __name__ == '__main__':\n",
                "    main()"
            ],
            "metadata": {
                "azdata_cell_guid": "94e97792-ab3a-437e-81e0-a5aa41d8764c",
                "language": "python",
                "tags": [
                    "hide_input"
                ]
            },
            "outputs": [
                {
                    "output_type": "stream",
                    "name": "stdout",
                    "text": "[(0, 0), (1, 0), (1, 1), (2, 1), (2, 2), (3, 2), (3, 3), (4, 3), (5, 3), (5, 4), (6, 4), (7, 4), (7, 5), (7, 6), (7, 7), (7, 8), (8, 8), (8, 9), (9, 9)]\n"
                }
            ],
            "execution_count": 8
        },
        {
            "cell_type": "markdown",
            "source": [
                "A perceptron is a **single-layer neural network** that can be used for **supervised learning of binary classifiers**. A binary classifier is a function that can decide whether an input, represented by a vector of numbers, belongs to a certain class or not. For example, a perceptron can be trained to classify images of cats and dogs.\n",
                "\n",
                "A perceptron consists of four main parts: **input values**, **weights and bias**, **net sum**, and an **activation function**. The input values are the features of the data, such as pixels, colors, shapes, etc. The weights and bias are parameters that are adjusted during the learning process to optimize the performance of the perceptron. The net sum is the weighted sum of the input values plus the bias. The activation function is a nonlinear function that maps the net sum to an output value, usually between 0 and 1 or -1 and 1.\n",
                "\n",
                "The perceptron works by taking all the input values and multiplying them by their weights. Then, it adds all these multiplied values together with the bias to get the net sum. The net sum is then passed through the activation function to produce the output value. The output value is compared with the desired output (the class label) and the error is calculated. The error is used to update the weights and bias using a learning rule, such as gradient descent or stochastic gradient descent. This process is repeated until the error is minimized or a certain number of iterations is reached.\n",
                "\n",
                "The perceptron can be used for various applications that require binary classification, such as spam detection, sentiment analysis, face recognition, etc. However, the perceptron has some limitations, such as it cannot learn nonlinear functions or solve problems that are not linearly separable (such as XOR). To overcome these limitations, more complex neural networks with multiple layers and different activation functions can be used.\n",
                "\n",
                "Learn more about Perceptrons: \n",
                "Wikipedia. https://en.wikipedia.org/wiki/Perceptron\n",
                "Perceptron Definition | DeepAI. https://deepai.org/machine-learning-glossary-and-terms/perceptron\n",
                "Home - Perceptron. https://perceptron.com/ "
            ],
            "metadata": {
                "azdata_cell_guid": "9cd4fa6b-b428-4463-8af7-b4c9d4548417",
                "language": "python"
            },
            "attachments": {}
        },
        {
            "cell_type": "code",
            "source": [
                "# Perceptron example with Iris dataset\n",
                "\n",
                "import pandas as pd\n",
                "import numpy as np\n",
                "from sklearn.datasets import load_iris\n",
                "from sklearn.linear_model import Perceptron\n",
                "import matplotlib.pyplot as plt\n",
                "\n",
                "iris = load_iris()\n",
                "\n",
                "df=pd.DataFrame(iris.data, columns=iris.feature_names)\n",
                "df['label']=iris.target\n",
                "\n",
                "df = df.iloc[:100, [0, 1, -1]]\n",
                "df.columns = ['sepal length', 'sepal width', 'label']\n",
                "\n",
                "plt.figure()\n",
                "plt.scatter(df[:50]['sepal length'], df[:50]['sepal width'], label='0')\n",
                "plt.scatter(df[50:100]['sepal length'], df[50:100]['sepal width'], label='1')\n",
                "plt.ylabel('sepal length')\n",
                "plt.xlabel('sepal width')\n",
                "plt.legend()\n",
                "\n",
                "data = np.array(df)\n",
                "X, y = data[:,:-1], data[:,-1]\n",
                "y[y==0] = -1\n",
                "\n",
                "from sklearn.linear_model import Perceptron\n",
                "perceptron = Perceptron(fit_intercept=True, max_iter=1000, shuffle=True)\n",
                "perceptron.fit(X, y)\n",
                "w = perceptron.coef_[0]\n",
                "b = perceptron.intercept_\n",
                "\n",
                "fig = plt.figure()\n",
                "x_ticks = np.linspace(4.3, 7, 10)\n",
                "ax = plt.subplot(1,1,1)\n",
                "ax.set_ylim([1.9, 4.5])\n",
                "ax.set_xlim([4.2, 7.1])\n",
                "ax.set_xlabel('sepal length')\n",
                "ax.set_ylabel('sepal width')\n",
                "plt.scatter(df[:50]['sepal length'], df[:50]['sepal width'], label='0')\n",
                "plt.scatter(df[50:100]['sepal length'], df[50:100]['sepal width'], label='1')\n",
                "plt.plot(x_ticks, (w[0]*x_ticks+b)/-w[1], label='Perceptron')\n",
                "plt.legend()\n",
                "plt.show()\n"
            ],
            "metadata": {
                "azdata_cell_guid": "c797c356-d3cd-4f30-97cd-0b3d46ee5fb8",
                "language": "python",
                "tags": [
                    "hide_input"
                ]
            },
            "outputs": [
                {
                    "output_type": "display_data",
                    "data": {
                        "image/png": "[encoded data removed]",
                        "text/plain": "<Figure size 432x288 with 1 Axes>"
                    },
                    "metadata": {
                        "needs_background": "light"
                    }
                },
                {
                    "output_type": "display_data",
                    "data": {
                        "image/png": "[encoded data removed]",
                        "text/plain": "<Figure size 432x288 with 1 Axes>"
                    },
                    "metadata": {
                        "needs_background": "light"
                    }
                }
            ],
            "execution_count": 29
        },
        {
            "cell_type": "markdown",
            "source": [
                "An expert system is a computer program that uses artificial intelligence (AI) technologies to simulate the problem-solving ability of a human expert. It is designed to solve complex problems by reasoning through bodies of knowledge, represented mainly as if-then rules, rather than by following pre-programmed procedures.\n",
                "\n",
                "Here is an example of a simple rule-based system that mimics the early software program called \"Eliza\". It is the most simplistic example of a rules-based system, but is not presented as Artificial Intelligence. It is included here to show how simply language can appear as an intelligent system when it is not. \n",
                "\n",
                "One of the earliest languages to work with formal logic and expert systems was called \"Prolog\". You can now use Pyke, a Python-based knowledge engine, which introduces a form of Logic Programming (inspired by Prolog). Unlike Prolog, Pyke integrates with Python allowing you to invoke Pyke from Python and intermingle Python statements and expressions within your expert system rules.\n",
                "\n",
                "Learn more about Expert systems here: \n",
                "\n",
                "- Wikipedia - Expert systems - https://en.wikipedia.org/wiki/Expert_system \n",
                "- A simple medical system that expands on this concept - https://github.com/Moozzaart23/Medical-Expert-System/tree/master"
            ],
            "metadata": {
                "azdata_cell_guid": "f30b2fa9-4195-4600-ae18-eaf526ffd74f",
                "language": "python"
            },
            "attachments": {}
        },
        {
            "cell_type": "code",
            "source": [
                "# Eliza Demo - Definitely NOT AI\n",
                "\n",
                "#load regular expression library and random library\n",
                "import re\n",
                "import random\n",
                "\n",
                "# Let's set up a canned response for a few different inputs\n",
                "def eliza_response(input_string):\n",
                "    responses = {\n",
                "        r'[Hh]ello.*': ['Hello!', 'Hi there!', 'How can I help you?'],\n",
                "        r'[Hh]i.*': ['Hello!', 'Hi there!', 'How can I help you?'],\n",
                "        r'[Hh]ow are you.*': ['I am doing well, thank you!', 'I am fine, thank you!'],\n",
                "        r'[Ww]hat is your name.*': ['My name is Eliza.', 'I am Eliza.'],\n",
                "        r'[Ss]orry.*': ['It is okay.', 'No problem.'],\n",
                "        r'[Gg]oodbye.*': ['Goodbye!', 'Have a nice day!']\n",
                "    }\n",
                "\n",
                "# Check for a match in the input string\n",
                "    for pattern, responses_list in responses.items():\n",
                "        if re.match(pattern, input_string):\n",
                "            return random.choice(responses_list)\n",
                "# or just claim ignorance\n",
                "    return \"I'm sorry, I don't understand.\"\n",
                "\n",
                "# Get user input and respond\n",
                "while True:\n",
                "    user_input = input(\"User: \")\n",
                "    response = eliza_response(user_input)\n",
                "    print(\"Eliza: \" + response)"
            ],
            "metadata": {
                "azdata_cell_guid": "ed521183-f6fc-4ee2-887c-fbd6a2ce5867",
                "language": "python",
                "tags": [
                    "hide_input"
                ]
            },
            "outputs": [
                {
                    "output_type": "stream",
                    "name": "stdout",
                    "text": "Eliza: Hi there!\n"
                },
                {
                    "output_type": "stream",
                    "name": "stdout",
                    "text": "Eliza: I am fine, thank you!\n"
                },
                {
                    "output_type": "stream",
                    "name": "stdout",
                    "text": "Eliza: I am Eliza.\n"
                },
                {
                    "output_type": "stream",
                    "name": "stdout",
                    "text": "Eliza: I'm sorry, I don't understand.\n"
                }
            ],
            "execution_count": null
        },
        {
            "cell_type": "code",
            "source": [
                "# NLP with Python\n",
                "# code courtesy of https://nlpforhackers.io/language-models/\n",
                "\n",
                "# more here - https://www.nltk.org/\n",
                "import nltk\n",
                "from nltk.corpus import reuters\n",
                "from nltk import bigrams, trigrams\n",
                "from collections import Counter, defaultdict\n",
                "import random\n",
                "\n",
                "# get the corpus\n",
                "# nltk.download('reuters')\n",
                "# nltk.download('punkt')\n",
                "\n",
                "\n",
                "# Create a placeholder for model\n",
                "model = defaultdict(lambda: defaultdict(lambda: 0))\n",
                "\n",
                "# Count frequency of co-occurance  \n",
                "for sentence in reuters.sents():\n",
                "    for w1, w2, w3 in trigrams(sentence, pad_right=True, pad_left=True):\n",
                "        model[(w1, w2)][w3] += 1\n",
                " \n",
                "# Let's transform the counts to probabilities\n",
                "for w1_w2 in model:\n",
                "    total_count = float(sum(model[w1_w2].values()))\n",
                "    for w3 in model[w1_w2]:\n",
                "        model[w1_w2][w3] /= total_count\n",
                "\n",
                "# Predict the next word\n",
                "dict(model[\"today\", \"the\"])\n"
            ],
            "metadata": {
                "azdata_cell_guid": "07232ec9-dd33-4682-a0e0-4c945b031f64",
                "language": "python",
                "tags": [
                    "hide_input"
                ]
            },
            "outputs": [
                {
                    "output_type": "execute_result",
                    "execution_count": 58,
                    "data": {
                        "text/plain": "{'public': 0.05555555555555555,\n 'European': 0.05555555555555555,\n 'Bank': 0.05555555555555555,\n 'price': 0.1111111111111111,\n 'emirate': 0.05555555555555555,\n 'overseas': 0.05555555555555555,\n 'newspaper': 0.05555555555555555,\n 'company': 0.16666666666666666,\n 'Turkish': 0.05555555555555555,\n 'increase': 0.05555555555555555,\n 'options': 0.05555555555555555,\n 'Higher': 0.05555555555555555,\n 'pound': 0.05555555555555555,\n 'Italian': 0.05555555555555555,\n 'time': 0.05555555555555555}"
                    },
                    "metadata": {}
                }
            ],
            "execution_count": 58
        },
        {
            "cell_type": "code",
            "source": [
                "# Now let's generate a sentence (which probably will need a lot of editing :) \n",
                "\n",
                "# starting words\n",
                "text = [\"today\", \"the\", \"price\"]\n",
                "sentence_finished = False\n",
                " \n",
                "while not sentence_finished:\n",
                "  # select a random probability threshold  \n",
                "  r = random.random()\n",
                "  accumulator = .0\n",
                "\n",
                "  for word in model[tuple(text[-2:])].keys():\n",
                "      accumulator += model[tuple(text[-2:])][word]\n",
                "      # select words that are above the probability threshold\n",
                "      if accumulator >= r:\n",
                "          text.append(word)\n",
                "          break\n",
                "\n",
                "  if text[-2:] == [None, None]:\n",
                "      sentence_finished = True\n",
                " \n",
                "print (' '.join([t for t in text if t]))"
            ],
            "metadata": {
                "azdata_cell_guid": "636272b0-077a-4d73-bc0b-43edfcb002bb",
                "language": "python",
                "tags": [
                    "hide_input"
                ]
            },
            "outputs": [
                {
                    "output_type": "stream",
                    "name": "stdout",
                    "text": "today the price base on carbon , HSLA , and two thirds of the bank said later that the Shultz comments may indicate a Soviet trade official told Reuters .\n"
                }
            ],
            "execution_count": 59
        },
        {
            "cell_type": "markdown",
            "source": [
                "## Generative Pre-trained Transformers (GPT):\n",
                "\n",
                "- GPT is a type of **large language model (LLM)** and a prominent framework for **generative artificial intelligence**. It can generate novel human-like content from a given input, such as text, images, or code. \n",
                "- GPT is based on the **transformer architecture**, which is a deep neural network that uses **attention mechanisms** to process sequential data, such as natural language text. Attention mechanisms allow the model to selectively focus on segments of input text it predicts to be the most relevant. \n",
                "- GPT is trained in two stages: an unsupervised **generative pre-training** stage and a supervised **discriminative fine-tuning** stage. In the pre-training stage, the model learns from a large and diverse corpus of unlabelled text using a **language modeling objective**, which is to predict the next word given the previous words. In the fine-tuning stage, the model adapts to a specific task, such as text summarization, question answering, or sentiment analysis, using a small amount of labelled data. \n",
                "- GPT models are developed by OpenAI, an American artificial intelligence company. The first GPT model was introduced in 2018, followed by GPT-2 in 2019 and GPT-3 in 2020. The most recent model, GPT-4, was released in March 2023. Each of these models was significantly more capable than the previous one, due to increased size (number of trainable parameters) and training data. GPT-4 has 175 billion parameters and was trained on a dataset of 800 GB of text.  \n",
                "- GPT models have demonstrated strong **zero-shot and few-shot learning** on many tasks, which means they can perform well on new tasks without or with very little additional training data. For example, GPT-3 can generate coherent text on various topics, answer natural language questions, write computer code, and even create original artwork.  \n",
                "- GPT models have also inspired other researchers and companies to develop their own versions of generative pre-trained transformers for different domains and applications. For example, EleutherAI has created a series of open-source GPT models, Cerebras has created seven GPT models using its custom hardware, Salesforce has created EinsteinGPT for customer relationship management (CRM), and Bloomberg has created BloombergGPT for finance.   \n",
                "\n",
                "More Resources:\n",
                "\n",
                "- [Generative pre-trained transformer - Wikipedia](https://en.wikipedia.org/wiki/Generative_pre-trained_transformer)\n",
                "- [GPT-3 - Wikipedia](https://en.wikipedia.org/wiki/GPT-3)- [What are Generative Pre-trained Transformers (GPT)? - LinkedIn](https://www.linkedin.com/pulse/what-generative-pre-trained-transformers-gpt-scalebuildai/)\n",
                "- [Generative Pre-trained Transformer: A Comprehensive Review on Enabling Technologies and Applications](https://arxiv.org/abs/2305.10435)\n",
                "- [Nuclear fusion breakthrough as reactor runs seven times hotter than the Sun](https://news.yahoo.com/nuclear-fusion-breakthrough-reactor-runs-130157687.html)\n"
            ],
            "metadata": {
                "azdata_cell_guid": "0dfa05ae-173e-41bb-b05f-5091aa044f9d"
            },
            "attachments": {}
        },
        {
            "cell_type": "code",
            "source": [
                "# Install if needed\n",
                "# Note: The openai-python library support for Azure OpenAI is in preview.\n",
                "\n",
                "!pip install --upgrade openai"
            ],
            "metadata": {
                "azdata_cell_guid": "3ed3fc39-b095-46d5-9295-bd962d8721b0",
                "language": "python"
            },
            "outputs": [],
            "execution_count": null
        },
        {
            "cell_type": "code",
            "source": [
                "# Imports for OpneAI and JSON parsing\n",
                "import openai\n",
                "import json\n",
                "\n",
                "# Load config values\n",
                "with open(r'config.json') as config_file:\n",
                "    config_details = json.load(config_file)\n",
                "    \n",
                "openai.api_base = config_details['OPENAI_API_BASE']\n",
                "openai.api_type = config_details['OPENAI_TYPE']\n",
                "openai.api_version = config_details['OPENAI_API_VERSION']\n",
                "openai.api_key = config_details['OPENAI_API_KEY']\n",
                "\n",
                "PromptText = \"Generate 2000 letters of ad copy for Mountain-400-W Silver, 38: This bike delivers a high-level of performance on a budget. It is responsive and maneuverable, and offers peace-of-mind when you decide to go off-road.\"\n",
                "\n",
                "response = openai.ChatCompletion.create(\n",
                "  engine=\"bwoody-turbo\",\n",
                "    messages = [{\"role\":\"user\",\"content\":\"You are an experienced marketing expert.\" + PromptText +\".\"}],\n",
                "  temperature=0.5,\n",
                "  max_tokens=800,\n",
                "  top_p=0.95,\n",
                "  frequency_penalty=0,\n",
                "  presence_penalty=0,\n",
                "  stop=None)\n",
                "\n",
                "print(response['choices'][0]['message']['content'])"
            ],
            "metadata": {
                "azdata_cell_guid": "14d8c3ce-bf42-4d7f-a78c-60206ad44365",
                "language": "python"
            },
            "outputs": [],
            "execution_count": null
        }
    ]
}