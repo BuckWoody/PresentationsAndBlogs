{
    "metadata": {
        "kernelspec": {
            "name": "SQL",
            "display_name": "SQL",
            "language": "sql"
        },
        "language_info": {
            "name": "sql",
            "version": ""
        }
    },
    "nbformat_minor": 2,
    "nbformat": 4,
    "cells": [
        {
            "cell_type": "markdown",
            "source": [
                "# Using Microsoft Azure OpenAI and SQL Server Machine Learning Service\n",
                "\n",
                "### Proof-of-Concept Demonstration Project\n",
                "\n",
                "_Buck Woody, Principal Applied Data Scientist, Microsoft - Last edited 06/07/2023_\n",
                "\n",
                "_These sample scripts are provided <span style=\"color:#111111\">AS IS without warranty of any kind. Microsoft further disclaims all implied warranties</span> including, without limitation, any implied warranties of merchantability or of fitness for a particular purpose. The entire risk arising out of the use or performance of the sample scripts and documentation remains with you._\n",
                "\n",
                "_(_[Business Scenarios for AdventureWorks are here](https:\\learn.microsoft.com\\en-us\\previous-versions\\sql\\sql-server-2008\\ms124825(v=sql.100))_)_\n",
                "\n",
                "Restore the _AdventureWorks_ sample database suitable for your installation version. This example uses SQL Server 2019 Machine Learning Services in a Container, where the _AdventureWorks_ backup file has been copied to the Container."
            ],
            "metadata": {
                "azdata_cell_guid": "d8cc16dc-de8e-4dbc-a7b3-08f3ed1f9c6e"
            },
            "attachments": {}
        },
        {
            "cell_type": "code",
            "source": [
                "USE master;\r\n",
                "GO\r\n",
                "RESTORE DATABASE [AdventureWorks]\r\n",
                "FROM DISK = '/var/opt/mssql/data/AdventureWorks2019.bak'\r\n",
                "WITH MOVE 'AdventureWorks2019' TO '/var/opt/mssql/data/AdventureWorks_Data.mdf'\r\n",
                ", MOVE 'AdventureWorks2019_Log' TO '/var/opt/mssql/log/AdventureWorks_Log.ldf'\r\n",
                ", RECOVERY, REPLACE, STATS = 10;"
            ],
            "metadata": {
                "language": "sql",
                "azdata_cell_guid": "7e71a25c-3662-4311-92b5-b5b979fb1e7e"
            },
            "outputs": [
                {
                    "output_type": "display_data",
                    "data": {
                        "text/html": "Commands completed successfully."
                    },
                    "metadata": {}
                },
                {
                    "output_type": "display_data",
                    "data": {
                        "text/html": "Total execution time: 00:00:00.002"
                    },
                    "metadata": {}
                }
            ],
            "execution_count": 26
        },
        {
            "cell_type": "markdown",
            "source": [
                "Check to ensure Machine Learning Services are installed, turn on if not configured. Also ensure the _SQLLaunchpad_ Service is enabled and started in _SQL Server Configuration Manager_. \n",
                "\n",
                "You can learn more about [installing SQL Server Machine Learning Services here](https:\\learn.microsoft.com\\en-us\\sql\\machine-learning\\install\\sql-machine-learning-services-windows-install?view=sql-server-ver15&viewFallbackFrom=sql-server-ver16)."
            ],
            "metadata": {
                "language": "sql",
                "azdata_cell_guid": "ffa53aeb-d604-4eed-849f-a94d2c99474d"
            },
            "attachments": {}
        },
        {
            "cell_type": "code",
            "source": [
                "/* Check to see if the feature is enabled... */\r\n",
                "EXEC sp_configure 'clr enabled'\r\n",
                "\r\n",
                "/* If 0, then */\r\n",
                "EXEC sp_configure 'clr enabled', 1\r\n",
                "EXEC sp_configure 'external scripts enabled', 1;\r\n",
                "RECONFIGURE WITH OVERRIDE; \r\n",
                "\r\n",
                "/* A quick text return from Python combining the input data with a string */\r\n",
                "EXECUTE sp_execute_external_script @language = N'Python'\r\n",
                "    , @input_data_1 = N'SELECT ''Hello'''\r\n",
                "    , @input_data_1_name = N'testvalue'\r\n",
                "    , @script = N'OutputDataSet = testvalue + '' there, General Kenobi...'''\r\n",
                "WITH RESULT SETS(([Grievous] VARCHAR(MAX) NOT NULL));"
            ],
            "metadata": {
                "language": "sql",
                "azdata_cell_guid": "eec352f9-e9c1-463b-9101-474ebeb2ffb4"
            },
            "outputs": [
                {
                    "output_type": "display_data",
                    "data": {
                        "text/html": "Configuration option 'clr enabled' changed from 1 to 1. Run the RECONFIGURE statement to install."
                    },
                    "metadata": {}
                },
                {
                    "output_type": "display_data",
                    "data": {
                        "text/html": "Configuration option 'external scripts enabled' changed from 1 to 1. Run the RECONFIGURE statement to install."
                    },
                    "metadata": {}
                },
                {
                    "output_type": "display_data",
                    "data": {
                        "text/html": "(1 row affected)"
                    },
                    "metadata": {}
                },
                {
                    "output_type": "display_data",
                    "data": {
                        "text/html": "Total execution time: 00:00:03.151"
                    },
                    "metadata": {}
                },
                {
                    "output_type": "execute_result",
                    "execution_count": 1,
                    "data": {
                        "application/vnd.dataresource+json": {
                            "schema": {
                                "fields": [
                                    {
                                        "name": "name"
                                    },
                                    {
                                        "name": "minimum"
                                    },
                                    {
                                        "name": "maximum"
                                    },
                                    {
                                        "name": "config_value"
                                    },
                                    {
                                        "name": "run_value"
                                    }
                                ]
                            },
                            "data": [
                                {
                                    "name": "clr enabled",
                                    "minimum": "0",
                                    "maximum": "1",
                                    "config_value": "1",
                                    "run_value": "1"
                                }
                            ]
                        },
                        "text/html": "<table><tr><th>name</th><th>minimum</th><th>maximum</th><th>config_value</th><th>run_value</th></tr><tr><td>clr enabled</td><td>0</td><td>1</td><td>1</td><td>1</td></tr></table>"
                    },
                    "metadata": {}
                },
                {
                    "output_type": "execute_result",
                    "execution_count": 1,
                    "data": {
                        "application/vnd.dataresource+json": {
                            "schema": {
                                "fields": [
                                    {
                                        "name": "Grievous"
                                    }
                                ]
                            },
                            "data": [
                                {
                                    "Grievous": "Hello there, General Kenobi..."
                                }
                            ]
                        },
                        "text/html": "<table><tr><th>Grievous</th></tr><tr><td>Hello there, General Kenobi...</td></tr></table>"
                    },
                    "metadata": {}
                }
            ],
            "execution_count": 1
        },
        {
            "cell_type": "markdown",
            "source": [
                "Use Microsoft Azure OpenAI Studio to obtain the _api\\_base_, _api\\_type_, _api\\_version_, and _api\\_key_ values from your deployment. [More on creating a Microsoft Azure OpenAI Deployment is here](https:\\learn.microsoft.com\\en-us\\azure\\cognitive-services\\openai\\how-to\\create-resource?pivots=web-portal). \n",
                "\n",
                "**NOTE**: _This data should be in a restricted table, or encrypted at the row or value level to ensure the highest security. Alternatively, you could store the data in Microsoft Azure Vault, and use the Python_\n",
                "\n",
                "_code that follows later to retrieve those values_."
            ],
            "metadata": {
                "language": "sql",
                "azdata_cell_guid": "31df407e-595c-4127-8791-778f6f10e670"
            },
            "attachments": {}
        },
        {
            "cell_type": "code",
            "source": [
                "USE AdventureWorks; \r\n",
                "GO \r\n",
                "\r\n",
                "INSERT INTO OpenAIData (api_base, api_type, api_version, api_key)\r\n",
                "VALUES ('<Your API Base Value Here>'\r\n",
                ", '<Your API Type Value Here>'\r\n",
                ", '<Your API Version Value Here>'\r\n",
                ", '<Your API Key Value Here>');\r\n",
                "GO"
            ],
            "metadata": {
                "language": "sql",
                "azdata_cell_guid": "36b758e8-c7f0-4812-9569-18573e188f80"
            },
            "outputs": [],
            "execution_count": null
        },
        {
            "cell_type": "markdown",
            "source": [
                "SQL Server Machine Learning Services takes one input variable to the script (in this case Python), so we need to \"flatten\" the values for our connection information and the item we want to query. We'll experiment a bit here to get that into a single string."
            ],
            "metadata": {
                "language": "sql",
                "azdata_cell_guid": "3b7cff5b-474b-443b-8d6b-5b01605915ec"
            },
            "attachments": {}
        },
        {
            "cell_type": "code",
            "source": [
                "USE AdventureWorks;\r\n",
                "GO\r\n",
                "\r\n",
                "/* Show product and description as single string */\r\n",
                "SELECT Name  + ': ' + Description\r\n",
                "FROM production.vProductAndDescription\r\n",
                "WHERE ProductID = 980 and CultureID = 'en';\r\n",
                "GO\r\n",
                "\r\n",
                "/* Show the Azure OpenAI  API Values */\r\n",
                "SELECT api_base, api_type, api_version, api_key\r\n",
                "FROM OpenAIData;\r\n",
                "GO\r\n",
                "\r\n",
                "/* Test to get proper output */\r\n",
                "SELECT api_base, api_type, api_version, api_key,\r\n",
                "(SELECT Name  + ': ' + Description FROM production.vProductAndDescription WHERE ProductID = 980 and CultureID = 'en')\r\n",
                "FROM OpenAIData;\r\n",
                "GO"
            ],
            "metadata": {
                "language": "sql",
                "azdata_cell_guid": "699cf452-6542-4a01-a7c2-c09ead0fc095"
            },
            "outputs": [
                {
                    "output_type": "display_data",
                    "data": {
                        "text/html": "Commands completed successfully."
                    },
                    "metadata": {}
                },
                {
                    "output_type": "display_data",
                    "data": {
                        "text/html": "(1 row affected)"
                    },
                    "metadata": {}
                },
                {
                    "output_type": "display_data",
                    "data": {
                        "text/html": "(1 row affected)"
                    },
                    "metadata": {}
                },
                {
                    "output_type": "display_data",
                    "data": {
                        "text/html": "(1 row affected)"
                    },
                    "metadata": {}
                },
                {
                    "output_type": "display_data",
                    "data": {
                        "text/html": "Total execution time: 00:00:00.104"
                    },
                    "metadata": {}
                },
                {
                    "output_type": "execute_result",
                    "execution_count": 4,
                    "data": {
                        "application/vnd.dataresource+json": {
                            "schema": {
                                "fields": [
                                    {
                                        "name": "(No column name)"
                                    }
                                ]
                            },
                            "data": [
                                {
                                    "(No column name)": "Mountain-400-W Silver, 38: This bike delivers a high-level of performance on a budget. It is responsive and maneuverable, and offers peace-of-mind when you decide to go off-road."
                                }
                            ]
                        },
                        "text/html": "<table><tr><th>(No column name)</th></tr><tr><td>Mountain-400-W Silver, 38: This bike delivers a high-level of performance on a budget. It is responsive and maneuverable, and offers peace-of-mind when you decide to go off-road.</td></tr></table>"
                    },
                    "metadata": {}
                },
                {
                    "output_type": "execute_result",
                    "execution_count": 4,
                    "data": {
                        "application/vnd.dataresource+json": {
                            "schema": {
                                "fields": [
                                    {
                                        "name": "api_base"
                                    },
                                    {
                                        "name": "api_type"
                                    },
                                    {
                                        "name": "api_version"
                                    },
                                    {
                                        "name": "api_key"
                                    }
                                ]
                            },
                            "data": [
                                {
                                    "api_base": "<Your API Base Value Here>",
                                    "api_type": "<Your API Type Value Here>",
                                    "api_version": "<Your API Version Value Here>",
                                    "api_key": "<Your API Key Value Here>"
                                }
                            ]
                        },
                        "text/html": "<table><tr><th>api_base</th><th>api_type</th><th>api_version</th><th>api_key</th></tr><tr><td>&lt;Your API Base Value Here&gt;</td><td>&lt;Your API Type Value Here&gt;</td><td>&lt;Your API Version Value Here&gt;</td><td>&lt;Your API Key Value Here&gt;</td></tr></table>"
                    },
                    "metadata": {}
                },
                {
                    "output_type": "execute_result",
                    "execution_count": 4,
                    "data": {
                        "application/vnd.dataresource+json": {
                            "schema": {
                                "fields": [
                                    {
                                        "name": "api_base"
                                    },
                                    {
                                        "name": "api_type"
                                    },
                                    {
                                        "name": "api_version"
                                    },
                                    {
                                        "name": "api_key"
                                    },
                                    {
                                        "name": "(No column name)"
                                    }
                                ]
                            },
                            "data": [
                                {
                                    "api_base": "<Your API Base Value Here>",
                                    "api_type": "<Your API Type Value Here>",
                                    "api_version": "<Your API Version Value Here>",
                                    "api_key": "<Your API Key Value Here>",
                                    "(No column name)": "Mountain-400-W Silver, 38: This bike delivers a high-level of performance on a budget. It is responsive and maneuverable, and offers peace-of-mind when you decide to go off-road."
                                }
                            ]
                        },
                        "text/html": "<table><tr><th>api_base</th><th>api_type</th><th>api_version</th><th>api_key</th><th>(No column name)</th></tr><tr><td>&lt;Your API Base Value Here&gt;</td><td>&lt;Your API Type Value Here&gt;</td><td>&lt;Your API Version Value Here&gt;</td><td>&lt;Your API Key Value Here&gt;</td><td>Mountain-400-W Silver, 38: This bike delivers a high-level of performance on a budget. It is responsive and maneuverable, and offers peace-of-mind when you decide to go off-road.</td></tr></table>"
                    },
                    "metadata": {}
                }
            ],
            "execution_count": 4
        },
        {
            "cell_type": "markdown",
            "source": [
                "After a bit of experimentation with Python, we find that SQL Server Machine Learning Services takes in a single string as a variable as a Pandas DataFrame object. We construct the string as per the previous experiment, and then add the libraries to work with that string in Pandas. \n",
                "\n",
                "Using the _iloc_ Pandas function and grabbing the indexes of the expected values, we create a combined, secure set of values, including the api and key needed by the Azure OpenAI deployment. \n",
                "\n",
                "We construct the prompt (the _FullPrompt_ variable) using the general instructions for the prompt we want to send, and inject the product name and the short description to get as much fidelity as we can from Azure OpenAI.\n",
                "\n",
                "We call to Azure OpenAI and store the result in an object. We want only the content of the response from that object, so we convert that portion of the object <span style=\"color: rgb(163, 21, 21); font-family: Consolas, &quot;Courier New&quot;, monospace; font-size: 12px; white-space: pre;\">response[''choices''][0][''message''][''content''] </span> to a string. \n",
                "\n",
                "SQL Server Machine Learning Services returns data from Python as another Pandas DataFrame object, so we take the string and convert it to a DataFrame, catching that output into a VARCHAR(MAX) column."
            ],
            "metadata": {
                "language": "sql",
                "azdata_cell_guid": "cad65a9a-e529-4950-a23c-05c59808a248"
            },
            "attachments": {}
        },
        {
            "cell_type": "code",
            "source": [
                "USE AdventureWorks;\r\n",
                "GO\r\n",
                "\r\n",
                "/* Final Query */\r\n",
                "DECLARE @sqltext nvarchar(max)\r\n",
                "\r\n",
                "SET @sqltext = '\r\n",
                "SELECT api_base, api_type, api_version, api_key,\r\n",
                "(SELECT Name  + '': '' + Description FROM production.vProductAndDescription WHERE ProductID = 980 and CultureID = ''en'' )  AS ''Description'' \r\n",
                "FROM OpenAIData\r\n",
                "'\r\n",
                "EXECUTE sp_execute_external_script @language = N'Python'\r\n",
                ", @input_data_1 = @sqltext\r\n",
                ", @input_data_1_name = N'InputText'\r\n",
                ",  @script=N'\r\n",
                "import openai\r\n",
                "import pandas as pd\r\n",
                "import json\r\n",
                "from io import StringIO\r\n",
                "\r\n",
                "InputStrings = pd.DataFrame(InputText)\r\n",
                "\r\n",
                "openai.api_base = str(InputStrings.iloc[0, 0])\r\n",
                "openai.api_type = str(InputStrings.iloc[0, 1])\r\n",
                "openai.api_version = str(InputStrings.iloc[0, 2])\r\n",
                "openai.api_key = str(InputStrings.iloc[0, 3])\r\n",
                "Description = str(InputStrings.iloc[0, 4])\r\n",
                "\r\n",
                "FullPrompt = ''You are an experienced marketing expert. Generate 2000 letters of ad copy for '' +str(Description)+ ''. Do not add testimonials or a signature block.''\r\n",
                "\r\n",
                "response = openai.ChatCompletion.create(\r\n",
                "  engine=\"bwoody-turbo\",\r\n",
                "    messages = [{\"role\":\"system\",\"content\":FullPrompt},\r\n",
                "  {\"role\":\"user\",\"content\":\"\"},{\"role\":\"assistant\",\"content\":\"\"},{\"role\":\"user\",\"content\":FullPrompt}],\r\n",
                "  temperature=0.5,\r\n",
                "  max_tokens=800,\r\n",
                "  top_p=0.95,\r\n",
                "  frequency_penalty=0,\r\n",
                "  presence_penalty=0,\r\n",
                "  stop=None)\r\n",
                "\r\n",
                "AdCopy = str(response[''choices''][0][''message''][''content'']) \r\n",
                "\r\n",
                "OutputDataSet = pd.DataFrame([AdCopy])\r\n",
                "'\r\n",
                "WITH RESULT SETS(([AdCopy] VARCHAR(MAX)));\r\n",
                "GO"
            ],
            "metadata": {
                "language": "sql",
                "azdata_cell_guid": "3d2aef09-92fb-495a-9c4c-e3b152abd22a"
            },
            "outputs": [
                {
                    "output_type": "display_data",
                    "data": {
                        "text/html": "(1 row affected)"
                    },
                    "metadata": {}
                },
                {
                    "output_type": "display_data",
                    "data": {
                        "text/html": "Total execution time: 00:00:09.256"
                    },
                    "metadata": {}
                },
                {
                    "output_type": "execute_result",
                    "execution_count": 2,
                    "data": {
                        "application/vnd.dataresource+json": {
                            "schema": {
                                "fields": [
                                    {
                                        "name": "AdCopy"
                                    }
                                ]
                            },
                            "data": [
                                {
                                    "AdCopy": "Dear Mountain Bike Enthusiast,\n\nAre you looking for a bike that can deliver the performance you need without breaking the bank? Look no further than the Mountain-400-W Silver, 38.\n\nThis bike is designed to give you the high-level performance you need to tackle any terrain, without the high price tag. With its responsive and maneuverable design, you'll be able to navigate even the toughest trails with ease.\n\nBut it's not just about performance - the Mountain-400-W Silver, 38 also offers peace-of-mind when you decide to go off-road. With its sturdy construction and reliable components, you can trust this bike to handle anything you throw at it.\n\nSo why wait? Order your Mountain-400-W Silver, 38 today and experience the ultimate in off-road performance at a price you can afford. Don't settle for anything less than the best - choose the Mountain-400-W Silver, 38 and take your mountain biking to the next level.\n\nSincerely,\n\n[Your Name]"
                                }
                            ]
                        },
                        "text/html": "<table><tr><th>AdCopy</th></tr><tr><td>Dear Mountain Bike Enthusiast,\n\nAre you looking for a bike that can deliver the performance you need without breaking the bank? Look no further than the Mountain-400-W Silver, 38.\n\nThis bike is designed to give you the high-level performance you need to tackle any terrain, without the high price tag. With its responsive and maneuverable design, you'll be able to navigate even the toughest trails with ease.\n\nBut it's not just about performance - the Mountain-400-W Silver, 38 also offers peace-of-mind when you decide to go off-road. With its sturdy construction and reliable components, you can trust this bike to handle anything you throw at it.\n\nSo why wait? Order your Mountain-400-W Silver, 38 today and experience the ultimate in off-road performance at a price you can afford. Don't settle for anything less than the best - choose the Mountain-400-W Silver, 38 and take your mountain biking to the next level.\n\nSincerely,\n\n[Your Name]</td></tr></table>"
                    },
                    "metadata": {}
                }
            ],
            "execution_count": 2
        },
        {
            "cell_type": "markdown",
            "source": [
                "Our Proof-of-Concept is complete. This last section of code should be wrapped in a Stored Procedure with an input variable that takes the product number from the query, and the Stored Procedure should follow standard chain-of-permission security for our organization. \n",
                "\n",
                "  \n",
                "\n",
                "The output can be stored directly into the table, but a better practice would be to present the text to the end user for editing and proofing, since Generative Pre-trained Transformer text may not be correct, approriate or exact. After the user edits the values, the application can safely store the result."
            ],
            "metadata": {
                "language": "sql",
                "azdata_cell_guid": "5ce4e4e1-d431-440f-8349-0f3fbacb4515"
            },
            "attachments": {}
        }
    ]
}
