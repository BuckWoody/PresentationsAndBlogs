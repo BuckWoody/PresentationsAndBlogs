{
    "cells": [
        {
            "attachments": {},
            "cell_type": "markdown",
            "metadata": {
                "azdata_cell_guid": "d8cc16dc-de8e-4dbc-a7b3-08f3ed1f9c6e"
            },
            "source": [
                "# Using Microsoft Azure OpenAI and SQL Server Machine Learning Service\n",
                "\n",
                "### Proof-of-Concept Demonstration Project\n",
                "\n",
                "_Buck Woody, Principal Applied Data Scientist, Microsoft - Last edited 06/07/2023_\n",
                "\n",
                "_These sample scripts are provided <span style=\"color:#111111\">AS IS without warranty of any kind. Microsoft further disclaims all implied warranties</span> including, without limitation, any implied warranties of merchantability or of fitness for a particular purpose. The entire risk arising out of the use or performance of the sample scripts and documentation remains with you._\n",
                "\n",
                "Business Scenarios for AdventureWorks are here: https:\\learn.microsoft.com\\en-us\\previous-versions\\sql\\sql-server-2008\\ms124825(v=sql.100) \n",
                "\n",
                "Restore the _AdventureWorks_ sample database suitable for your installation version. This example uses SQL Server 2019 Machine Learning Services in a Container, where the _AdventureWorks_ backup file has been copied to the Container."
            ]
        },
        {
            "cell_type": "code",
            "execution_count": 26,
            "metadata": {
                "azdata_cell_guid": "7e71a25c-3662-4311-92b5-b5b979fb1e7e",
                "language": "sql"
            },
            "outputs": [
                {
                    "data": {
                        "text/html": [
                            "Commands completed successfully."
                        ]
                    },
                    "metadata": {},
                    "output_type": "display_data"
                },
                {
                    "data": {
                        "text/html": [
                            "Total execution time: 00:00:00.002"
                        ]
                    },
                    "metadata": {},
                    "output_type": "display_data"
                }
            ],
            "source": [
                "USE master;\n",
                "GO\n",
                "RESTORE DATABASE [AdventureWorks]\n",
                "FROM DISK = '/var/opt/mssql/data/AdventureWorks2019.bak'\n",
                "WITH MOVE 'AdventureWorks2019' TO '/var/opt/mssql/data/AdventureWorks_Data.mdf'\n",
                ", MOVE 'AdventureWorks2019_Log' TO '/var/opt/mssql/log/AdventureWorks_Log.ldf'\n",
                ", RECOVERY, REPLACE, STATS = 10;"
            ]
        },
        {
            "attachments": {},
            "cell_type": "markdown",
            "metadata": {
                "azdata_cell_guid": "ffa53aeb-d604-4eed-849f-a94d2c99474d",
                "language": "sql"
            },
            "source": [
                "Check to ensure Machine Learning Services are installed, turn on if not configured. Also ensure the _SQLLaunchpad_ Service is enabled and started in _SQL Server Configuration Manager_. \n",
                "\n",
                "You can learn more about installing SQL Server Machine Learning Services here: https:\\learn.microsoft.com\\en-us\\sql\\machine-learning\\install\\sql-machine-learning-services-windows-install?view=sql-server-ver15&viewFallbackFrom=sql-server-ver16"
            ]
        },
        {
            "cell_type": "code",
            "execution_count": 1,
            "metadata": {
                "azdata_cell_guid": "eec352f9-e9c1-463b-9101-474ebeb2ffb4",
                "language": "sql"
            },
            "outputs": [
                {
                    "data": {
                        "text/html": [
                            "Configuration option 'clr enabled' changed from 1 to 1. Run the RECONFIGURE statement to install."
                        ]
                    },
                    "metadata": {},
                    "output_type": "display_data"
                },
                {
                    "data": {
                        "text/html": [
                            "Configuration option 'external scripts enabled' changed from 1 to 1. Run the RECONFIGURE statement to install."
                        ]
                    },
                    "metadata": {},
                    "output_type": "display_data"
                },
                {
                    "data": {
                        "text/html": [
                            "(1 row affected)"
                        ]
                    },
                    "metadata": {},
                    "output_type": "display_data"
                },
                {
                    "data": {
                        "text/html": [
                            "Total execution time: 00:00:03.151"
                        ]
                    },
                    "metadata": {},
                    "output_type": "display_data"
                },
                {
                    "data": {
                        "application/vnd.dataresource+json": {
                            "data": [
                                {
                                    "config_value": "1",
                                    "maximum": "1",
                                    "minimum": "0",
                                    "name": "clr enabled",
                                    "run_value": "1"
                                }
                            ],
                            "schema": {
                                "fields": [
                                    {
                                        "name": "name"
                                    },
                                    {
                                        "name": "minimum"
                                    },
                                    {
                                        "name": "maximum"
                                    },
                                    {
                                        "name": "config_value"
                                    },
                                    {
                                        "name": "run_value"
                                    }
                                ]
                            }
                        },
                        "text/html": [
                            "<table><tr><th>name</th><th>minimum</th><th>maximum</th><th>config_value</th><th>run_value</th></tr><tr><td>clr enabled</td><td>0</td><td>1</td><td>1</td><td>1</td></tr></table>"
                        ]
                    },
                    "execution_count": 1,
                    "metadata": {},
                    "output_type": "execute_result"
                },
                {
                    "data": {
                        "application/vnd.dataresource+json": {
                            "data": [
                                {
                                    "Grievous": "Hello there, General Kenobi..."
                                }
                            ],
                            "schema": {
                                "fields": [
                                    {
                                        "name": "Grievous"
                                    }
                                ]
                            }
                        },
                        "text/html": [
                            "<table><tr><th>Grievous</th></tr><tr><td>Hello there, General Kenobi...</td></tr></table>"
                        ]
                    },
                    "execution_count": 1,
                    "metadata": {},
                    "output_type": "execute_result"
                }
            ],
            "source": [
                "/* Check to see if the feature is enabled... */\n",
                "EXEC sp_configure 'clr enabled'\n",
                "\n",
                "/* If 0, then */\n",
                "EXEC sp_configure 'clr enabled', 1\n",
                "EXEC sp_configure 'external scripts enabled', 1;\n",
                "RECONFIGURE WITH OVERRIDE; \n",
                "\n",
                "/* A quick text return from Python combining the input data with a string */\n",
                "EXECUTE sp_execute_external_script @language = N'Python'\n",
                "    , @input_data_1 = N'SELECT ''Hello'''\n",
                "    , @input_data_1_name = N'testvalue'\n",
                "    , @script = N'OutputDataSet = testvalue + '' there, General Kenobi...'''\n",
                "WITH RESULT SETS(([Grievous] VARCHAR(MAX) NOT NULL));"
            ]
        },
        {
            "attachments": {},
            "cell_type": "markdown",
            "metadata": {
                "azdata_cell_guid": "31df407e-595c-4127-8791-778f6f10e670",
                "language": "sql"
            },
            "source": [
                "Use Microsoft Azure OpenAI Studio to obtain the _api\\_base_, _api\\_type_, _api\\_version_, and _api\\_key_ values from your deployment. More on creating a Microsoft Azure OpenAI Deployment is here: https:\\learn.microsoft.com\\en-us\\azure\\cognitive-services\\openai\\how-to\\create-resource?pivots=web-portal \n",
                "\n",
                "**NOTE**: _This data should be in a restricted table, or encrypted at the row or value level to ensure the highest security. Alternatively, you could store the data in Microsoft Azure Vault, and use the Python code that follows later to retrieve those values."
            ]
        },
        {
            "cell_type": "code",
            "execution_count": null,
            "metadata": {
                "azdata_cell_guid": "36b758e8-c7f0-4812-9569-18573e188f80",
                "language": "sql"
            },
            "outputs": [],
            "source": [
                "USE AdventureWorks; \n",
                "GO \n",
                "\n",
                "INSERT INTO OpenAIData (api_base, api_type, api_version, api_key)\n",
                "VALUES ('<Your API Base Value Here>'\n",
                ", '<Your API Type Value Here>'\n",
                ", '<Your API Version Value Here>'\n",
                ", '<Your API Key Value Here>');\n",
                "GO"
            ]
        },
        {
            "attachments": {},
            "cell_type": "markdown",
            "metadata": {
                "azdata_cell_guid": "3b7cff5b-474b-443b-8d6b-5b01605915ec",
                "language": "sql"
            },
            "source": [
                "SQL Server Machine Learning Services takes one input variable to the script (in this case Python), so we need to \"flatten\" the values for our connection information and the item we want to query. We'll experiment a bit here to get that into a single string."
            ]
        },
        {
            "cell_type": "code",
            "execution_count": 4,
            "metadata": {
                "azdata_cell_guid": "699cf452-6542-4a01-a7c2-c09ead0fc095",
                "language": "sql"
            },
            "outputs": [
                {
                    "data": {
                        "text/html": [
                            "Commands completed successfully."
                        ]
                    },
                    "metadata": {},
                    "output_type": "display_data"
                },
                {
                    "data": {
                        "text/html": [
                            "(1 row affected)"
                        ]
                    },
                    "metadata": {},
                    "output_type": "display_data"
                },
                {
                    "data": {
                        "text/html": [
                            "(1 row affected)"
                        ]
                    },
                    "metadata": {},
                    "output_type": "display_data"
                },
                {
                    "data": {
                        "text/html": [
                            "(1 row affected)"
                        ]
                    },
                    "metadata": {},
                    "output_type": "display_data"
                },
                {
                    "data": {
                        "text/html": [
                            "Total execution time: 00:00:00.104"
                        ]
                    },
                    "metadata": {},
                    "output_type": "display_data"
                },
                {
                    "data": {
                        "application/vnd.dataresource+json": {
                            "data": [
                                {
                                    "(No column name)": "Mountain-400-W Silver, 38: This bike delivers a high-level of performance on a budget. It is responsive and maneuverable, and offers peace-of-mind when you decide to go off-road."
                                }
                            ],
                            "schema": {
                                "fields": [
                                    {
                                        "name": "(No column name)"
                                    }
                                ]
                            }
                        },
                        "text/html": [
                            "<table><tr><th>(No column name)</th></tr><tr><td>Mountain-400-W Silver, 38: This bike delivers a high-level of performance on a budget. It is responsive and maneuverable, and offers peace-of-mind when you decide to go off-road.</td></tr></table>"
                        ]
                    },
                    "execution_count": 4,
                    "metadata": {},
                    "output_type": "execute_result"
                },
                {
                    "data": {
                        "application/vnd.dataresource+json": {
                            "data": [
                                {
                                    "api_base": "<Your API Base Value Here>",
                                    "api_key": "<Your API Key Value Here>",
                                    "api_type": "<Your API Type Value Here>",
                                    "api_version": "<Your API Version Value Here>"
                                }
                            ],
                            "schema": {
                                "fields": [
                                    {
                                        "name": "api_base"
                                    },
                                    {
                                        "name": "api_type"
                                    },
                                    {
                                        "name": "api_version"
                                    },
                                    {
                                        "name": "api_key"
                                    }
                                ]
                            }
                        },
                        "text/html": [
                            "<table><tr><th>api_base</th><th>api_type</th><th>api_version</th><th>api_key</th></tr><tr><td>&lt;Your API Base Value Here&gt;</td><td>&lt;Your API Type Value Here&gt;</td><td>&lt;Your API Version Value Here&gt;</td><td>&lt;Your API Key Value Here&gt;</td></tr></table>"
                        ]
                    },
                    "execution_count": 4,
                    "metadata": {},
                    "output_type": "execute_result"
                },
                {
                    "data": {
                        "application/vnd.dataresource+json": {
                            "data": [
                                {
                                    "(No column name)": "Mountain-400-W Silver, 38: This bike delivers a high-level of performance on a budget. It is responsive and maneuverable, and offers peace-of-mind when you decide to go off-road.",
                                    "api_base": "<Your API Base Value Here>",
                                    "api_key": "<Your API Key Value Here>",
                                    "api_type": "<Your API Type Value Here>",
                                    "api_version": "<Your API Version Value Here>"
                                }
                            ],
                            "schema": {
                                "fields": [
                                    {
                                        "name": "api_base"
                                    },
                                    {
                                        "name": "api_type"
                                    },
                                    {
                                        "name": "api_version"
                                    },
                                    {
                                        "name": "api_key"
                                    },
                                    {
                                        "name": "(No column name)"
                                    }
                                ]
                            }
                        },
                        "text/html": [
                            "<table><tr><th>api_base</th><th>api_type</th><th>api_version</th><th>api_key</th><th>(No column name)</th></tr><tr><td>&lt;Your API Base Value Here&gt;</td><td>&lt;Your API Type Value Here&gt;</td><td>&lt;Your API Version Value Here&gt;</td><td>&lt;Your API Key Value Here&gt;</td><td>Mountain-400-W Silver, 38: This bike delivers a high-level of performance on a budget. It is responsive and maneuverable, and offers peace-of-mind when you decide to go off-road.</td></tr></table>"
                        ]
                    },
                    "execution_count": 4,
                    "metadata": {},
                    "output_type": "execute_result"
                }
            ],
            "source": [
                "USE AdventureWorks;\n",
                "GO\n",
                "\n",
                "/* Show product and description as single string */\n",
                "SELECT Name  + ': ' + Description\n",
                "FROM production.vProductAndDescription\n",
                "WHERE ProductID = 980 and CultureID = 'en';\n",
                "GO\n",
                "\n",
                "/* Show the Azure OpenAI  API Values */\n",
                "SELECT api_base, api_type, api_version, api_key\n",
                "FROM OpenAIData;\n",
                "GO\n",
                "\n",
                "/* Test to get proper output */\n",
                "SELECT api_base, api_type, api_version, api_key,\n",
                "(SELECT Name  + ': ' + Description FROM production.vProductAndDescription WHERE ProductID = 980 and CultureID = 'en')\n",
                "FROM OpenAIData;\n",
                "GO"
            ]
        },
        {
            "attachments": {},
            "cell_type": "markdown",
            "metadata": {
                "azdata_cell_guid": "cad65a9a-e529-4950-a23c-05c59808a248",
                "language": "sql"
            },
            "source": [
                "After a bit of experimentation with Python, we find that SQL Server Machine Learning Services takes in a single string as a variable as a Pandas DataFrame object. We construct the string as per the previous experiment, and then add the libraries to work with that string in Pandas. \n",
                "\n",
                "Using the _iloc_ Pandas function and grabbing the indexes of the expected values, we create a combined, secure set of values, including the api and key needed by the Azure OpenAI deployment. \n",
                "\n",
                "We construct the prompt (the _FullPrompt_ variable) using the general instructions for the prompt we want to send, and inject the product name and the short description to get as much fidelity as we can from Azure OpenAI.\n",
                "\n",
                "We call to Azure OpenAI and store the result in an object. We want only the content of the response from that object, so we convert that portion of the object <span style=\"color: rgb(163, 21, 21); font-family: Consolas, &quot;Courier New&quot;, monospace; font-size: 12px; white-space: pre;\">response[''choices''][0][''message''][''content''] </span> to a string. \n",
                "\n",
                "SQL Server Machine Learning Services returns data from Python as another Pandas DataFrame object, so we take the string and convert it to a DataFrame, catching that output into a VARCHAR(MAX) column."
            ]
        },
        {
            "cell_type": "code",
            "execution_count": 2,
            "metadata": {
                "azdata_cell_guid": "3d2aef09-92fb-495a-9c4c-e3b152abd22a",
                "language": "sql"
            },
            "outputs": [
                {
                    "data": {
                        "text/html": [
                            "(1 row affected)"
                        ]
                    },
                    "metadata": {},
                    "output_type": "display_data"
                },
                {
                    "data": {
                        "text/html": [
                            "Total execution time: 00:00:09.256"
                        ]
                    },
                    "metadata": {},
                    "output_type": "display_data"
                },
                {
                    "data": {
                        "application/vnd.dataresource+json": {
                            "data": [
                                {
                                    "AdCopy": "Dear Mountain Bike Enthusiast,\n\nAre you looking for a bike that can deliver the performance you need without breaking the bank? Look no further than the Mountain-400-W Silver, 38.\n\nThis bike is designed to give you the high-level performance you need to tackle any terrain, without the high price tag. With its responsive and maneuverable design, you'll be able to navigate even the toughest trails with ease.\n\nBut it's not just about performance - the Mountain-400-W Silver, 38 also offers peace-of-mind when you decide to go off-road. With its sturdy construction and reliable components, you can trust this bike to handle anything you throw at it.\n\nSo why wait? Order your Mountain-400-W Silver, 38 today and experience the ultimate in off-road performance at a price you can afford. Don't settle for anything less than the best - choose the Mountain-400-W Silver, 38 and take your mountain biking to the next level.\n\nSincerely,\n\n[Your Name]"
                                }
                            ],
                            "schema": {
                                "fields": [
                                    {
                                        "name": "AdCopy"
                                    }
                                ]
                            }
                        },
                        "text/html": [
                            "<table><tr><th>AdCopy</th></tr><tr><td>Dear Mountain Bike Enthusiast,\n",
                            "\n",
                            "Are you looking for a bike that can deliver the performance you need without breaking the bank? Look no further than the Mountain-400-W Silver, 38.\n",
                            "\n",
                            "This bike is designed to give you the high-level performance you need to tackle any terrain, without the high price tag. With its responsive and maneuverable design, you'll be able to navigate even the toughest trails with ease.\n",
                            "\n",
                            "But it's not just about performance - the Mountain-400-W Silver, 38 also offers peace-of-mind when you decide to go off-road. With its sturdy construction and reliable components, you can trust this bike to handle anything you throw at it.\n",
                            "\n",
                            "So why wait? Order your Mountain-400-W Silver, 38 today and experience the ultimate in off-road performance at a price you can afford. Don't settle for anything less than the best - choose the Mountain-400-W Silver, 38 and take your mountain biking to the next level.\n",
                            "\n",
                            "Sincerely,\n",
                            "\n",
                            "[Your Name]</td></tr></table>"
                        ]
                    },
                    "execution_count": 2,
                    "metadata": {},
                    "output_type": "execute_result"
                }
            ],
            "source": [
                "USE AdventureWorks;\n",
                "GO\n",
                "\n",
                "/* Final Query */\n",
                "DECLARE @sqltext nvarchar(max)\n",
                "\n",
                "SET @sqltext = '\n",
                "SELECT api_base, api_type, api_version, api_key,\n",
                "(SELECT Name  + '': '' + Description FROM production.vProductAndDescription WHERE ProductID = 980 and CultureID = ''en'' )  AS ''Description'' \n",
                "FROM OpenAIData\n",
                "'\n",
                "EXECUTE sp_execute_external_script @language = N'Python'\n",
                ", @input_data_1 = @sqltext\n",
                ", @input_data_1_name = N'InputText'\n",
                ",  @script=N'\n",
                "import openai\n",
                "import pandas as pd\n",
                "import json\n",
                "from io import StringIO\n",
                "\n",
                "InputStrings = pd.DataFrame(InputText)\n",
                "\n",
                "openai.api_base = str(InputStrings.iloc[0, 0])\n",
                "openai.api_type = str(InputStrings.iloc[0, 1])\n",
                "openai.api_version = str(InputStrings.iloc[0, 2])\n",
                "openai.api_key = str(InputStrings.iloc[0, 3])\n",
                "Description = str(InputStrings.iloc[0, 4])\n",
                "\n",
                "FullPrompt = ''You are an experienced marketing expert. Generate 2000 letters of ad copy for '' +str(Description)+ ''. Do not add testimonials or a signature block.''\n",
                "\n",
                "response = openai.ChatCompletion.create(\n",
                "  engine=\"bwoody-turbo\",\n",
                "    messages = [{\"role\":\"system\",\"content\":FullPrompt},\n",
                "  {\"role\":\"user\",\"content\":\"\"},{\"role\":\"assistant\",\"content\":\"\"},{\"role\":\"user\",\"content\":FullPrompt}],\n",
                "  temperature=0.5,\n",
                "  max_tokens=800,\n",
                "  top_p=0.95,\n",
                "  frequency_penalty=0,\n",
                "  presence_penalty=0,\n",
                "  stop=None)\n",
                "\n",
                "AdCopy = str(response[''choices''][0][''message''][''content'']) \n",
                "\n",
                "OutputDataSet = pd.DataFrame([AdCopy])\n",
                "'\n",
                "WITH RESULT SETS(([AdCopy] VARCHAR(MAX)));\n",
                "GO"
            ]
        },
        {
            "attachments": {},
            "cell_type": "markdown",
            "metadata": {
                "azdata_cell_guid": "5ce4e4e1-d431-440f-8349-0f3fbacb4515",
                "language": "sql"
            },
            "source": [
                "Our Proof-of-Concept is complete. This last section of code should be wrapped in a Stored Procedure with an input variable that takes the product number from the query, and the Stored Procedure should follow standard chain-of-permission security for our organization. \n",
                "\n",
                "  \n",
                "\n",
                "The output can be stored directly into the table, but a better practice would be to present the text to the end user for editing and proofing, since Generative Pre-trained Transformer text may not be correct, approriate or exact. After the user edits the values, the application can safely store the result."
            ]
        }
    ],
    "metadata": {
        "kernelspec": {
            "display_name": "SQL",
            "language": "sql",
            "name": "SQL"
        },
        "language_info": {
            "name": "sql",
            "version": ""
        }
    },
    "nbformat": 4,
    "nbformat_minor": 2
}
