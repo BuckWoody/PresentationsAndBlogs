{
    "metadata": {
        "kernelspec": {
            "name": "SQL",
            "display_name": "SQL",
            "language": "sql"
        },
        "language_info": {
            "name": "sql",
            "version": ""
        }
    },
    "nbformat_minor": 2,
    "nbformat": 4,
    "cells": [
        {
            "cell_type": "markdown",
            "source": "<img src=\"https://github.com/Microsoft/sqlworkshops/blob/master/graphics/solutions-microsoft-logo-small.png?raw=true\" alt=\"Microsoft\">\r\n<br>\r\n\r\n# Session: Using a Graph Database to Find Solutions \r\n\r\n#### <i>A Microsoft Presentation from the SQL Server team</i>\r\n\r\n## Introduction and Setup\r\n\r\n<p style=\"border-bottom: 1px solid lightgrey;\"></p>\r\n",
            "metadata": {}
        },
        {
            "cell_type": "markdown",
            "source": "<h2><img style=\"float: left; margin: 0px 15px 15px 0px;\" src=\"https://github.com/Microsoft/sqlworkshops/blob/master/graphics/pin.jpg?raw=true\">Finding a solution</h2>\n\nThe options available to you to create a soltuion for a given problem can be overwhelming. To begin, you need to understand three general areas:\n\n- The problem\n- The options (and components) for solving the problem\n- The constraints and variables for the solution/problem instersection\n\nWhat you're often thinking of is a single problem with many possible components within a solution. Or, the constraints and variables may dictate that you start from the other end - the components - to be either included or excluded from the solution. Once you know the possible options for a solution, you also need to know the details of how the component will be used in the solution. \n\nClearly a database can help with defining and setting up these intersections of problem, solution and components. And in particular, a Graph Database, with it's focus on relationships between objects, is ideally suited for the task. SQL Server inlcudes a Graph Database feature to allow you to create and query Graph objects. This presentation will help you understand how to do that.",
            "metadata": {}
        },
        {
            "cell_type": "markdown",
            "source": "<h2><img style=\"float: left; margin: 0px 15px 15px 0px;\" src=\"https://github.com/Microsoft/sqlworkshops/blob/master/graphics/textbubble.png?raw=true\">Understanding Graph Databases in SQL Server</h2>\r\n\r\nYou can use Graph Databases in SQL Server on-premises, in an Azure Virtual Machine, and in Azure SQL Database. The main concepts are: \r\n\r\n- A graph database is a collection of **Nodes** (or *vertices*) and **Edges** (or *relationships*)\r\n- A **Node** represents an *entity* (for example, a *person* or an *organization*)\r\n- An **Edge** represents a *relationship* between the two nodes that it connects (for example, *likes* or *friends*)\r\n\r\nYou'll define Nodes and then connect them with Edges. The relationships between them are two-way, and you can then query them answering questions like:\r\n\r\n- Which **Restaurants** does this **City** have?\r\n- Which **People** live in this **City**?\r\n- Which **People** have which *Friends*?\r\n- Which **Restaurant** does this **Person** like? \r\n\r\n<p><img style=\"float: left; margin: 0px 35px 35px 0px;\" src=\"https://docs.microsoft.com/en-us/sql/relational-databases/graphs/media/person-cities-restaurants-tables.png?view=sql-server-2017\"> </p>\r\n\r\nThe **For Further Study** section below has more resources to learn about Graph Databases.",
            "metadata": {}
        },
        {
            "cell_type": "markdown",
            "source": "<p><img style=\"float: left; margin: 0px 15px 15px 0px;\" src=\"https://github.com/Microsoft/sqlworkshops/blob/master/graphics/checkbox.png?raw=true\"><b>Activity: Create a database and the Azure Components Node </b></p>\n\nYou'll start by creating a database for the solution mapping. The first Node you need is the Components for Azure itself. We'll only set up a couple of columns, since we'll follow standard third-normal form database design for proper atomicity. \n\n- In Azure Data Studio, create a connection to a SQL Server 2019 or higher Instance of SQL Server that you have administrative rights on. <a href=\"https://docs.microsoft.com/en-us/sql/azure-data-studio/quickstart-sql-server?view=sql-server-ver15\" target=\"_blank\">(<i>You can read about how to do that here</i>)</a>.\n- Select your Instance's Connection in the <b>Attach To:</b> box at the top of this notebook.\n- Click the <b>Not Trusted</b> box next to that to make this Notebook <b>Trusted</b>. (<i>Do this with all Notebooks in this course - it means you allow OS commands and other operations on this system.</i>)\n- Create a new empty database for your Nodes and Edges.\n- Edit the following code cell for any changes you wish, and then run it:\n",
            "metadata": {}
        },
        {
            "cell_type": "code",
            "source": "-- Create Nodes\r\n-- DROP TABLE IF EXISTS AzureService;\r\n-- GO\r\nCREATE TABLE AzureService (\r\nAzureServiceID INT IDENTITY PRIMARY KEY\r\n, ServiceName NVARCHAR(150)\r\n, ServiceDescription NVARCHAR(MAX)\r\n) AS NODE;\r\nGO\r\n",
            "metadata": {},
            "outputs": [
                {
                    "output_type": "display_data",
                    "data": {
                        "text/html": "Configuration option 'external scripts enabled' changed from 0 to 1. Run the RECONFIGURE statement to install."
                    },
                    "metadata": {}
                },
                {
                    "output_type": "display_data",
                    "data": {
                        "text/html": "Total execution time: 00:00:00.1829170"
                    },
                    "metadata": {}
                }
            ],
            "execution_count": 1
        },
        {
            "cell_type": "markdown",
            "source": "<p><img style=\"float: left; margin: 0px 15px 15px 0px;\" src=\"https://github.com/Microsoft/sqlworkshops/blob/master/graphics/checkbox.png?raw=true\"><b>Activity: Enter the Azure Solutions in the Node</b></p>\r\n\r\nNext, we'll fill this table with values. We'll only show one, and you can repeat the process for more of the Services you want to include [from this location](https://azure.microsoft.com/en-us/services/). \r\n\r\nTo learn how this works, we'll start with a solution we already know about. One problem a company might have is that they would like to ensure a subset of their data is available externally for customers to use. One possible solution is to use SQL Server Replication from an on-premises SQL Server to a Virtual Machine running in Microsoft Azure. Let's enter the data for that component:\r\n\r\n- Edit the following code cell for any changes you wish, and then run it:\r\n",
            "metadata": {}
        },
        {
            "cell_type": "code",
            "source": "-- Set up Virtual Machines as a component in the Services by entering it into the Services Node\r\nINSERT INTO AzureService (ServiceName, ServiceDescription ) \r\nVALUES ('Virtual Machines', 'Windows or Linux Virtual Machine')\r\nGO ",
            "metadata": {},
            "outputs": [],
            "execution_count": 0
        },
        {
            "cell_type": "markdown",
            "source": "<p><img style=\"float: left; margin: 0px 15px 15px 0px;\" src=\"https://github.com/Microsoft/sqlworkshops/blob/master/graphics/checkbox.png?raw=true\"><b>Activity: Enter more details for the Azure Solutions by making a References Node</b></p>\r\n\r\nThat's not much information - we have just the title and a quick description for Virtual Machines, but there's a lot more information that is involved. At the very least we'd like to have the official documentation. We might also want tutorials, books, videos, workshops, classes and more. We can do that by setting up another Node - and since it will support lots of references to and from almost everything we will create, we're able to enter a single reference (perhaps a comprehensive workshop) that will be used by more than one Node. \r\n\r\nFor now, let's just set up the official documentation for the Azure Virtual Machines. There are at least two types of those, Windows and Linux, and both might be used in our solution, so let's set up the References Node and then enter the official documentation into it:  \r\n\r\n- Edit the following code cell for any changes you wish, and then run it:\r\n",
            "metadata": {}
        },
        {
            "cell_type": "code",
            "source": "-- DROP TABLE IF EXISTS ItemReference;\r\n-- GO\r\nCREATE TABLE ItemReference (\r\nItemReferenceID INT IDENTITY PRIMARY KEY\r\n, ItemReferenceName NVARCHAR(150)\r\n, ItemReferenceType NVARCHAR(50)\r\n, ItemReferenceLocation NVARCHAR(150)\r\n, ItemReferenceDescription NVARCHAR(MAX)\r\n) AS NODE;\r\nGO\r\n\r\nINSERT INTO ItemReference (ItemReferenceName, ItemReferenceType, ItemReferenceLocation, ItemReferenceDescription) \r\nVALUES ('Windows Virtual Machines Documentation'\r\n, 'Official Documentation'\r\n, 'https://docs.microsoft.com/en-us/azure/virtual-machines/windows/'\r\n, 'Official Documentation for Windows Virtual Machines')\r\n,\r\n('Linux Virtual Machines Documentation\r\n', 'Official Documentation'\r\n, 'https://docs.microsoft.com/en-us/azure/virtual-machines/linux/'\r\n, 'Official Documentation for Linux Virtual Machines');\r\nGO ",
            "metadata": {},
            "outputs": [],
            "execution_count": 0
        },
        {
            "cell_type": "markdown",
            "source": "<p><img style=\"float: left; margin: 0px 15px 15px 0px;\" src=\"https://github.com/Microsoft/sqlworkshops/blob/master/graphics/checkbox.png?raw=true\"><b>Activity: Enter more details for the Azure Solutions by making a Properties Node</b></p>\r\n\r\nFollowing that same logic, let's set some properties on the objects. For the Azure Virtual Machines we think about things like size, Region, and other pertinent information. We won't enter any data yet, but let's set it up:  \r\n\r\n- Edit the following code cell for any changes you wish, and then run it:\r\n",
            "metadata": {}
        },
        {
            "cell_type": "code",
            "source": "-- DROP TABLE IF EXISTS ItemProperty;\r\n-- GO\r\nCREATE TABLE ItemProperty (\r\nItemPropertyID INT IDENTITY PRIMARY KEY\r\n, ItemPropertyType NVARCHAR(100)\r\n, ItemPropertyName NVARCHAR(150)\r\n, ItemPropertyDescription NVARCHAR(MAX)\r\n) AS NODE;\r\nGO",
            "metadata": {},
            "outputs": [],
            "execution_count": 0
        },
        {
            "cell_type": "markdown",
            "source": "<p><img style=\"float: left; margin: 0px 15px 15px 0px;\" src=\"https://github.com/Microsoft/sqlworkshops/blob/master/graphics/checkbox.png?raw=true\"><b>Activity: Create the Solution Node, enter data, and add references</b></p>\r\n\r\nNow we're ready to set up the next major Node - the Solution. Once again, it will have only a few columns, and then we'll link to the details and references, and we can move a bit faster now and put the data in at one time.  \r\n\r\n- Edit the following code cell for any changes you wish, and then run it:\r\n",
            "metadata": {}
        },
        {
            "cell_type": "code",
            "source": "-- DROP TABLE IF EXISTS Solution;\r\n-- GO\r\nCREATE TABLE Solution (\r\nSolutionID INT IDENTITY PRIMARY KEY\r\n, SolutionName NVARCHAR(150)\r\n, SolutionDescription NVARCHAR(MAX)\r\n) AS NODE;\r\nGO\r\n\r\nINSERT INTO Solution (SolutionName, SolutionDescription ) \r\nVALUES ('SQL Replication to Azure VM', 'Use SQL Server Replication to copy data to an Azure Virtual Machine.')\r\nGO \r\n\r\nINSERT INTO ItemReference (ItemReferenceName, ItemReferenceType, ItemReferenceLocation, ItemReferenceDescription) \r\nVALUES ('SQL Server Replication to Azure', 'Official Documentation', 'https://docs.microsoft.com/en-us/sql/relational-databases/replication/sql-server-replication?view=sql-server-2017', 'Official Documentation for SQL Server Replication');\r\nGO",
            "metadata": {},
            "outputs": [],
            "execution_count": 0
        },
        {
            "cell_type": "markdown",
            "source": "<p><img style=\"float: left; margin: 0px 15px 15px 0px;\" src=\"https://github.com/Microsoft/sqlworkshops/blob/master/graphics/thinking.jpg?raw=true\"><b>For Further Study</b></p>\n\n<br>\n<br>\n\n- Primary Documentation: [https://docs.microsoft.com/en-us/sql/relational-databases/graphs/sql-graph-overview?view=sql-server-2017)\n\n- Check out this [excellent series from Robert Sheldon on Redgate Hub on Graph DB](https://www.red-gate.com/simple-talk/sql/sql-development/sql-server-graph-databases-part-1-introduction/)",
            "metadata": {}
        },
        {
            "cell_type": "markdown",
            "source": "<p><img style=\"float: left; margin: 0px 15px 15px 0px;\" src=\"https://github.com/Microsoft/sqlworkshops/blob/master/graphics/education1.png?raw=true\"><b>Next</b>: Query your Data</p>\r\n\r\nNext, you'll query your solutions, components, references and more in *02-QueryGraphDB*. Open that Notebook to continue.\r\n",
            "metadata": {}
        }
    ]
}