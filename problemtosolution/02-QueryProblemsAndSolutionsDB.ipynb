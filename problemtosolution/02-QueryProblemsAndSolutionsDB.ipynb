{
    "metadata": {
        "kernelspec": {
            "name": "SQL",
            "display_name": "SQL",
            "language": "sql"
        },
        "language_info": {
            "name": "sql",
            "version": ""
        }
    },
    "nbformat_minor": 2,
    "nbformat": 4,
    "cells": [
        {
            "cell_type": "markdown",
            "source": "<img src=\"https://github.com/Microsoft/sqlworkshops/blob/master/graphics/solutions-microsoft-logo-small.png?raw=true\" alt=\"Microsoft\">\r\n<br>\r\n\r\n# Session: Using a Database to Find Solutions for Business Problems \r\n\r\n#### <i>A Microsoft Presentation from the SQL Server team</i>\r\n\r\n## Querying the Database\r\n\r\n<p style=\"border-bottom: 1px solid lightgrey;\"></p>\r\n",
            "metadata": {}
        },
        {
            "cell_type": "markdown",
            "source": "<h2><img style=\"float: left; margin: 0px 15px 15px 0px;\" src=\"https://github.com/Microsoft/sqlworkshops/blob/master/graphics/textbubble.png?raw=true\">Review the Solutions Database Structure</h2>\n\nYou can build your queries by studying the ERD for this solution. We're using a very simple layout for this database, involving only three primary tables:\n\n- **Problem**: The list of problems in the form of \"We want...\"\n- **Solution**: Solutions composed of various components, processes and optionally services\n- **AzureService**: The Azure Services (components) and optionally any services (consulting/staff aug) needed for the solution\n\nThere are also two secondary tables to hold information about the solutions and services: \n\n- **SolutionReferences**: Reference documents, tutorials, and cost estimates for the Solution\n- **ServiceReferences**: Reference documents, tutorials, and code samples for the Services\n\n\nAnd of course tertiary tables to handle the many-to-many joins:\n\n- **ProblemToSolution**\n- **SoltuionToService**\n\nHere is the Entity Relationship Diagram (ERD) for the database:\n\n<p><img style=\"float: left; margin: 0px 35px 35px 0px;\" src=\"https://github.com/BuckWoody/presentations/blob/master/problemtosolution/graphics/erd.png?raw=true\"></p>\n\nYou can also edit this simple design to include more elements, such as more detail on the problem, or any other specific information you want.",
            "metadata": {}
        },
        {
            "cell_type": "markdown",
            "source": "<p><img style=\"float: left; margin: 0px 15px 15px 0px;\" src=\"https://github.com/Microsoft/sqlworkshops/blob/master/graphics/checkbox.png?raw=true\"><b>Activity: Enter a Problem, A Solution, and Tie Them Together</b></p>\n\n- Thing:\n- The following code cell shows an example:\n",
            "metadata": {}
        },
        {
            "cell_type": "code",
            "source": "-- Thing",
            "metadata": {},
            "outputs": [
                {
                    "output_type": "display_data",
                    "data": {
                        "text/html": "Commands completed successfully."
                    },
                    "metadata": {}
                },
                {
                    "output_type": "display_data",
                    "data": {
                        "text/html": "Total execution time: 00:00:00.042"
                    },
                    "metadata": {}
                }
            ],
            "execution_count": 1
        },
        {
            "cell_type": "markdown",
            "source": "<p><img style=\"float: left; margin: 0px 15px 15px 0px;\" src=\"https://github.com/Microsoft/sqlworkshops/blob/master/graphics/checkbox.png?raw=true\"><b>Activity: Add Additional Information for a Solution</b></p>\r\n\r\n- Thing:\r\n- The following code cell shows an example:",
            "metadata": {}
        },
        {
            "cell_type": "code",
            "source": "-- Thing",
            "metadata": {},
            "outputs": [],
            "execution_count": 0
        },
        {
            "cell_type": "markdown",
            "source": "<p><img style=\"float: left; margin: 0px 15px 15px 0px;\" src=\"https://github.com/Microsoft/sqlworkshops/blob/master/graphics/checkbox.png?raw=true\"><b>Activity: Enter an Azure Service, and Tie it to a Solution</b></p>\r\n\r\n- Thing:\r\n- The following code cell shows an example:",
            "metadata": {}
        },
        {
            "cell_type": "code",
            "source": "-- Thing",
            "metadata": {},
            "outputs": [],
            "execution_count": 0
        },
        {
            "cell_type": "markdown",
            "source": "<p><img style=\"float: left; margin: 0px 15px 15px 0px;\" src=\"https://github.com/Microsoft/sqlworkshops/blob/master/graphics/checkbox.png?raw=true\"><b>Activity: Add Additional Information for a Service</b></p>\r\n\r\n- Thing:\r\n- The following code cell shows an example:",
            "metadata": {}
        },
        {
            "cell_type": "code",
            "source": "--  Thing",
            "metadata": {},
            "outputs": [],
            "execution_count": 0
        },
        {
            "cell_type": "markdown",
            "source": "<p><img style=\"float: left; margin: 0px 15px 15px 0px;\" src=\"https://github.com/Microsoft/sqlworkshops/blob/master/graphics/checkbox.png?raw=true\"><b>Activity: Query Data Using the Included Views</b></p>\r\n\r\n- Thing:\r\n- The following code cell shows an example:",
            "metadata": {}
        },
        {
            "cell_type": "code",
            "source": "-- Thing",
            "metadata": {},
            "outputs": [],
            "execution_count": 0
        },
        {
            "cell_type": "markdown",
            "source": "<p><img style=\"float: left; margin: 0px 15px 15px 0px;\" src=\"https://github.com/Microsoft/sqlworkshops/blob/master/graphics/checkbox.png?raw=true\"><b>Activity: Query Various Elements Of the Database</b></p>\r\n\r\n- Thing:\r\n- The following code cell shows an example:",
            "metadata": {}
        },
        {
            "cell_type": "code",
            "source": "-- Thing",
            "metadata": {},
            "outputs": [],
            "execution_count": 0
        },
        {
            "cell_type": "markdown",
            "source": "<p><img style=\"float: left; margin: 0px 15px 15px 0px;\" src=\"https://github.com/Microsoft/sqlworkshops/blob/master/graphics/thinking.jpg?raw=true\"><b>For Further Study</b></p>\n\n<br>\n<br>\n\n- [If you need to learn more about T-SQL queries, there's a good series here](https://channel9.msdn.com/Series/Querying-SQL-Server-2012)",
            "metadata": {}
        },
        {
            "cell_type": "markdown",
            "source": "<p><img style=\"float: left; margin: 0px 15px 15px 0px;\" src=\"https://github.com/Microsoft/sqlworkshops/blob/master/graphics/education1.png?raw=true\"><b>Next</b>: Extending the Database, using a Query Interface</p>\r\n\r\nYou can change this database to whatever you like, and if you want to set up a front-end program to view the data, there's a Power BI file included in this directory you can use as an example to get started. Note that you'll need to change the connection information for the Power BI file to your database.",
            "metadata": {}
        }
    ]
}