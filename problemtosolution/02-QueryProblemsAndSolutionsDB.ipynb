{
    "metadata": {
        "kernelspec": {
            "name": "SQL",
            "display_name": "SQL",
            "language": "sql"
        },
        "language_info": {
            "name": "sql",
            "version": ""
        }
    },
    "nbformat_minor": 2,
    "nbformat": 4,
    "cells": [
        {
            "cell_type": "markdown",
            "source": "<img src=\"https://github.com/Microsoft/sqlworkshops/blob/master/graphics/solutions-microsoft-logo-small.png?raw=true\" alt=\"Microsoft\">\r\n<br>\r\n\r\n# Session: Using a Database to Find Solutions for Business Problems \r\n\r\n#### <i>A Microsoft Presentation from the SQL Server team</i>\r\n\r\n## Querying the Database\r\n\r\n<p style=\"border-bottom: 1px solid lightgrey;\"></p>\r\n",
            "metadata": {}
        },
        {
            "cell_type": "markdown",
            "source": "<h2><img style=\"float: left; margin: 0px 15px 15px 0px;\" src=\"https://github.com/Microsoft/sqlworkshops/blob/master/graphics/textbubble.png?raw=true\">Review the Solutions Database Structure</h2>\n\nYou can build your queries by studying the ERD for this solution. We're using a very simple layout for this database, involving only three primary tables:\n\n- **Problem**: The list of problems in the form of \"We want...\"\n- **Solution**: Solutions composed of various components, processes and optionally services\n- **AzureService**: The Azure Services (components) and optionally any services (consulting/staff aug) needed for the solution\n\nThere are also two secondary tables to hold information about the solutions and services: \n\n- **SolutionReferences**: Reference documents, tutorials, and cost estimates for the Solution\n- **ServiceReferences**: Reference documents, tutorials, and code samples for the Services\n\n\nAnd of course tertiary tables to handle the many-to-many joins:\n\n- **ProblemToSolution**\n- **SoltuionToService**\n\nHere is the Entity Relationship Diagram (ERD) for the database:\n\n<p><img style=\"float: left; margin: 0px 35px 35px 0px;\" src=\"https://github.com/BuckWoody/presentations/blob/master/problemtosolution/graphics/erd.png?raw=true\"></p>\n\nYou can also edit this simple design to include more elements, such as more detail on the problem, or any other specific information you want.",
            "metadata": {}
        },
        {
            "cell_type": "markdown",
            "source": "<p><img style=\"float: left; margin: 0px 15px 15px 0px;\" src=\"https://github.com/Microsoft/sqlworkshops/blob/master/graphics/checkbox.png?raw=true\"><b>Activity: Enter a Problem, A Solution, and Tie Them Together</b></p>\n\nWith the database structure in place, you can start to enter a few problems and their associated solutions. Start with ensuring that your problem or solution isn't already in the database. If it is, simply add the missing information with standard `UPDATE` statements. If you're missing both the problem *and* the solution, you can add both at the same time. \n\nThe following code cells shows examples:\n",
            "metadata": {}
        },
        {
            "cell_type": "code",
            "source": "-- USE solutions\r\n-- GO\r\n\r\n/* Start by listing the problems and solutions you already have */\r\nSELECT * FROM Problem\r\nGO\r\nSELECT * FROM Solution\r\nGO\r\n",
            "metadata": {},
            "outputs": [
                {
                    "output_type": "display_data",
                    "data": {
                        "text/html": "(10 rows affected)"
                    },
                    "metadata": {}
                },
                {
                    "output_type": "display_data",
                    "data": {
                        "text/html": "(10 rows affected)"
                    },
                    "metadata": {}
                },
                {
                    "output_type": "display_data",
                    "data": {
                        "text/html": "Total execution time: 00:00:00.112"
                    },
                    "metadata": {}
                },
                {
                    "output_type": "execute_result",
                    "execution_count": 1,
                    "data": {
                        "application/vnd.dataresource+json": {
                            "schema": {
                                "fields": [
                                    {
                                        "name": "ProblemID"
                                    },
                                    {
                                        "name": "ProblemName"
                                    },
                                    {
                                        "name": "ProblemDescription"
                                    }
                                ]
                            },
                            "data": [
                                {
                                    "0": "1",
                                    "1": "Copy Data Automatically",
                                    "2": "We want to copy certain data elements to an external location for use by others, securely."
                                },
                                {
                                    "0": "2",
                                    "1": "Database Backups",
                                    "2": "We want to store our database backups in another location with full redundancy."
                                },
                                {
                                    "0": "3",
                                    "1": "Offiste High Availability",
                                    "2": "We want additional safety on our data systems, with the ability to use them globally or as a secondary read service."
                                },
                                {
                                    "0": "4",
                                    "1": "SQL Server 2008 EOS",
                                    "2": "SQL Server 2008 has reached end of service, and we don't want to pay for extended support. We do have applications that required SQL Server 2008 as the back-end."
                                },
                                {
                                    "0": "5",
                                    "1": "Lift and Shift",
                                    "2": "We have a SQL Server installation on premises and we want to duplicate or move it to Azure"
                                },
                                {
                                    "0": "6",
                                    "1": "Big Data Analytics",
                                    "2": "We have a lot of data that we need to analyze in a single environment. We'd also like to use Spark."
                                },
                                {
                                    "0": "7",
                                    "1": "Data Hub",
                                    "2": "We have Oracle, Terradata, HDFS and other data sources we want to query using one system, without having to install and manage lots of connectors or learn to use multiple query languages. "
                                },
                                {
                                    "0": "8",
                                    "1": "Performance Improvements",
                                    "2": "We have the need to improve our current performance, but we can't always alter the code."
                                },
                                {
                                    "0": "9",
                                    "1": "Security Improvements",
                                    "2": "We need to be able to use secure security enclaves, and have encryption end-to-end within the server without decoding at the client. "
                                },
                                {
                                    "0": "10",
                                    "1": "SOA Architecture",
                                    "2": "We want to create a Service Oriented Architecture and use our SQL Server Data."
                                }
                            ]
                        },
                        "text/html": "<table><tr><th>ProblemID</th><th>ProblemName</th><th>ProblemDescription</th></tr><tr><td>1</td><td>Copy Data Automatically</td><td>We want to copy certain data elements to an external location for use by others, securely.</td></tr><tr><td>2</td><td>Database Backups</td><td>We want to store our database backups in another location with full redundancy.</td></tr><tr><td>3</td><td>Offiste High Availability</td><td>We want additional safety on our data systems, with the ability to use them globally or as a secondary read service.</td></tr><tr><td>4</td><td>SQL Server 2008 EOS</td><td>SQL Server 2008 has reached end of service, and we don't want to pay for extended support. We do have applications that required SQL Server 2008 as the back-end.</td></tr><tr><td>5</td><td>Lift and Shift</td><td>We have a SQL Server installation on premises and we want to duplicate or move it to Azure</td></tr><tr><td>6</td><td>Big Data Analytics</td><td>We have a lot of data that we need to analyze in a single environment. We'd also like to use Spark.</td></tr><tr><td>7</td><td>Data Hub</td><td>We have Oracle, Terradata, HDFS and other data sources we want to query using one system, without having to install and manage lots of connectors or learn to use multiple query languages. </td></tr><tr><td>8</td><td>Performance Improvements</td><td>We have the need to improve our current performance, but we can't always alter the code.</td></tr><tr><td>9</td><td>Security Improvements</td><td>We need to be able to use secure security enclaves, and have encryption end-to-end within the server without decoding at the client. </td></tr><tr><td>10</td><td>SOA Architecture</td><td>We want to create a Service Oriented Architecture and use our SQL Server Data.</td></tr></table>"
                    },
                    "metadata": {}
                },
                {
                    "output_type": "execute_result",
                    "execution_count": 1,
                    "data": {
                        "application/vnd.dataresource+json": {
                            "schema": {
                                "fields": [
                                    {
                                        "name": "SolutionID"
                                    },
                                    {
                                        "name": "SolutionName"
                                    },
                                    {
                                        "name": "SolutionDescription"
                                    }
                                ]
                            },
                            "data": [
                                {
                                    "0": "1",
                                    "1": "SQL Replication to Azure VM",
                                    "2": "Use SQL Server Replication to copy data to an Azure Virtual Machine."
                                },
                                {
                                    "0": "2",
                                    "1": "Backup to Azure",
                                    "2": "Backup using standard T-SQL statements to Azure Storage. Has the ability to be triple-redundancy, and have global copies, or keep in a single Region. Or Backup using Azure Backup."
                                },
                                {
                                    "0": "3",
                                    "1": "Azure Site Recovery",
                                    "2": "NULL"
                                },
                                {
                                    "0": "4",
                                    "1": "Availability Group Replica",
                                    "2": "Synchronize data between SQL on Windows to Azure Managed Instance  through a vnet. Allows clusterless async replica between Linux and Azure MI."
                                },
                                {
                                    "0": "5",
                                    "1": "SQL Server 2019 Big Data Clusters",
                                    "2": "Allows large-scale MPP data and Spark processing."
                                },
                                {
                                    "0": "6",
                                    "1": "Storage appliance",
                                    "2": "A full Hiearchical Storage Management (HMS) solution. Provides multiple automatic benefits."
                                },
                                {
                                    "0": "7",
                                    "1": "Copy data using a gateway",
                                    "2": "The Azure Data Factory has the ability to establish a gateway with SQL Server and move data to any number of \"sinks\", or destinations."
                                },
                                {
                                    "0": "8",
                                    "1": "SQL Server 2019",
                                    "2": "SQL Server 2019 has the ability to run on Windows, linux, in Containers and Kubernetes, and can act as a Data Hub using PolyBase. It also contains numerous security and performance enhancements, some with no code-change."
                                },
                                {
                                    "0": "9",
                                    "1": "SQL Server Virtual Machines",
                                    "2": "SQL Server VM's are a full Instance of SQL Server running in Azure. You can bring your own license or rent one, and there are multiple sizes."
                                },
                                {
                                    "0": "10",
                                    "1": "Azure Service Bus",
                                    "2": "Use the SQL Server Service Broker, along with the Azure Service Bus to create a full re-active messaging system"
                                }
                            ]
                        },
                        "text/html": "<table><tr><th>SolutionID</th><th>SolutionName</th><th>SolutionDescription</th></tr><tr><td>1</td><td>SQL Replication to Azure VM</td><td>Use SQL Server Replication to copy data to an Azure Virtual Machine.</td></tr><tr><td>2</td><td>Backup to Azure</td><td>Backup using standard T-SQL statements to Azure Storage. Has the ability to be triple-redundancy, and have global copies, or keep in a single Region. Or Backup using Azure Backup.</td></tr><tr><td>3</td><td>Azure Site Recovery</td><td>NULL</td></tr><tr><td>4</td><td>Availability Group Replica</td><td>Synchronize data between SQL on Windows to Azure Managed Instance  through a vnet. Allows clusterless async replica between Linux and Azure MI.</td></tr><tr><td>5</td><td>SQL Server 2019 Big Data Clusters</td><td>Allows large-scale MPP data and Spark processing.</td></tr><tr><td>6</td><td>Storage appliance</td><td>A full Hiearchical Storage Management (HMS) solution. Provides multiple automatic benefits.</td></tr><tr><td>7</td><td>Copy data using a gateway</td><td>The Azure Data Factory has the ability to establish a gateway with SQL Server and move data to any number of &quot;sinks&quot;, or destinations.</td></tr><tr><td>8</td><td>SQL Server 2019</td><td>SQL Server 2019 has the ability to run on Windows, linux, in Containers and Kubernetes, and can act as a Data Hub using PolyBase. It also contains numerous security and performance enhancements, some with no code-change.</td></tr><tr><td>9</td><td>SQL Server Virtual Machines</td><td>SQL Server VM's are a full Instance of SQL Server running in Azure. You can bring your own license or rent one, and there are multiple sizes.</td></tr><tr><td>10</td><td>Azure Service Bus</td><td>Use the SQL Server Service Broker, along with the Azure Service Bus to create a full re-active messaging system</td></tr></table>"
                    },
                    "metadata": {}
                }
            ],
            "execution_count": 1
        },
        {
            "cell_type": "code",
            "source": "/* Enter both the problem and solution at the same time\r\nNote: This would make a great stored procedure as well. I'll leave that to you. */\r\n\r\nDECLARE \r\n  @ProblemName nvarchar(150)               = '<Enter a Short Problem Name>'\r\n, @ProblemDescription nvarchar(max)        = '<Enter The Full Problem Description Here>'\r\n, @SolutionName nvarchar(150)              = '<Enter a Short Solution Name>'\r\n, @SolutionDescription nvarchar(max)       = '<Enter the Full Solution Description Here>'\r\n, @StrengthOfSolutionToProblem nvarchar(50) = '<High, Medium, or Low. How well does this solution really answer the problem?>';\r\n\r\nBEGIN \r\n\tINSERT INTO [dbo].[Problem] ([ProblemName],[ProblemDescription])\r\n\tVALUES (@ProblemName, @ProblemDescription)\r\n\r\n\t/* \r\n\tNow the Solution. Note: One Problem may have many solutions, and visa-versa. \r\n\tIf that's the case, only enter the data for the Problem or Solution, and then \r\n\tUse the \"Tie Them Together\" section to select for the proper entry.\r\n\t*/\r\n\r\n\tINSERT INTO [dbo].[Solution] ([SolutionName],[SolutionDescription])\r\n\tVALUES (@SolutionName, @SolutionDescription)\r\n\r\n\t/*\r\n\tTie them together. Uses the names as a tie-out.\r\n\t*/\r\n\r\n\tINSERT INTO [dbo].[ProblemToSolution] ([ProblemID],[SolutionID],[Strength])\r\n\tVALUES\r\n\t((SELECT ProblemID from Problem WHERE ProblemName = @ProblemName)\r\n\t,(SELECT SolutionID FROM Solution WHERE SolutionName = @SolutionName)\r\n\t, @StrengthOfSolutionToProblem)\r\n\r\nEND;\r\n\r\nSELECT p.ProblemName, s.SolutionName\r\nFROM Solution s\r\nINNER JOIN ProblemToSolution p2s ON s.SolutionID = p2s.SolutionID\r\nINNER JOIN Problem p ON p2s.ProblemID = p.ProblemID\r\nWHERE p.ProblemName = @ProblemName;\r\nGO",
            "metadata": {},
            "outputs": [
                {
                    "output_type": "display_data",
                    "data": {
                        "text/html": "Commands completed successfully."
                    },
                    "metadata": {}
                },
                {
                    "output_type": "display_data",
                    "data": {
                        "text/html": "Total execution time: 00:00:00.042"
                    },
                    "metadata": {}
                }
            ],
            "execution_count": 1
        },
        {
            "cell_type": "markdown",
            "source": "<p><img style=\"float: left; margin: 0px 15px 15px 0px;\" src=\"https://github.com/Microsoft/sqlworkshops/blob/master/graphics/checkbox.png?raw=true\"><b>Activity: Add Additional Information </b></p>\r\n\r\n\r\nWith the database diagram shown above, you can now create your own scripts to add additional information to each section. A blank Code Cell is included for you below. \r\n\r\n- Enter any code you wish for inserts, updates and deletes. \r\n- Stretch assignment: Create Stored Procedures for the Inserts, Updates and Deletes. Use these in a front-end system for data management.",
            "metadata": {}
        },
        {
            "cell_type": "code",
            "source": "/* Your code for Inserts, Updates and Deletes goes below */",
            "metadata": {},
            "outputs": [],
            "execution_count": 0
        },
        {
            "cell_type": "code",
            "source": "/* Your code for Stored Procedures goes below */",
            "metadata": {},
            "outputs": [],
            "execution_count": 0
        },
        {
            "cell_type": "code",
            "source": "/* Your code Views goes below */",
            "metadata": {},
            "outputs": [],
            "execution_count": 0
        },
        {
            "cell_type": "markdown",
            "source": "<p><img style=\"float: left; margin: 0px 15px 15px 0px;\" src=\"https://github.com/Microsoft/sqlworkshops/blob/master/graphics/thinking.jpg?raw=true\"><b>For Further Study</b></p>\n\n<br>\n<br>\n\n- [If you need to learn more about T-SQL queries, there's a good series here](https://channel9.msdn.com/Series/Querying-SQL-Server-2012)",
            "metadata": {}
        },
        {
            "cell_type": "markdown",
            "source": "<p><img style=\"float: left; margin: 0px 15px 15px 0px;\" src=\"https://github.com/Microsoft/sqlworkshops/blob/master/graphics/education1.png?raw=true\"><b>Next</b>: Extending the Database, using a Query Interface</p>\r\n\r\nYou can change this database to whatever you like, and if you want to set up a front-end program to view the data, there's a Power BI file included in this directory you can use as an example to get started. Note that you'll need to change the connection information for the Power BI file to your database.",
            "metadata": {}
        }
    ]
}