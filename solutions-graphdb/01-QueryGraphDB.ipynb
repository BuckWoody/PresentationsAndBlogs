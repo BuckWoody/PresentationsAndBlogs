{
    "metadata": {
        "kernelspec": {
            "name": "SQL",
            "display_name": "SQL",
            "language": "sql"
        },
        "language_info": {
            "name": "sql",
            "version": ""
        }
    },
    "nbformat_minor": 2,
    "nbformat": 4,
    "cells": [
        {
            "cell_type": "markdown",
            "source": "<img src=\"https://github.com/Microsoft/sqlworkshops/blob/master/graphics/solutions-microsoft-logo-small.png?raw=true\" alt=\"Microsoft\">\r\n<br>\r\n\r\n# Workshop: Microsoft SQL Server Machine Learning Services\r\n\r\n#### <i>A Microsoft Course from the SQL Server team</i>\r\n\r\n## SQL Server Machine Learning Services Architecture\r\n\r\n<p style=\"border-bottom: 1px solid lightgrey;\"></p>\r\n",
            "metadata": {}
        },
        {
            "cell_type": "markdown",
            "source": "<h2><img style=\"float: left; margin: 0px 15px 15px 0px;\" src=\"https://github.com/Microsoft/sqlworkshops/blob/master/graphics/pin.jpg?raw=true\">Installing SQL Server Machine Learning Services</h2>\n\nAlthough you completed this in your pre-requisites for this course, here's a quick review of installing the Machine Learning Services features for SQL Server. In this course, you're focusing on SQL Server version 2019. \n\nYou can install SQL Server Machine Learning Services (as of SQL Server 2019) on the following Editions:\n\n - Enterprise (*basic and enhanced functions*)\n - Standard (*basic and enhanced functions*)\n - Web (*basic functions*)\n - Express with Advanced Services (*basic functions*)\n - The R language extension is available on the Microsoft Azure SQL Database platform for single databases and elastic pools using the *vCore*-based purchasing model in the *general purpose* and *business critical* service tiers. \n\nYou can follow the [full installation process here](https://docs.microsoft.com/en-us/sql/advanced-analytics/install/sql-machine-learning-services-windows-install?view=sql-server-ver15). Note that the installation process is different for Windows and Linux. \n\nNote that the SQL Server Installer is also used to install a stand-alone instance of Microsoft Machine Learning Server. Do not select that option for including Machine Learning Services in SQL Server.\n\n<br>\n<img style=\"float: left; margin: 0px 15px 15px 0px;\" src=\"https://docs.microsoft.com/en-us/sql/advanced-analytics/install/media/2017setup-features-page-mls-rpy.png?view=sql-server-2017\">\n",
            "metadata": {}
        },
        {
            "cell_type": "markdown",
            "source": "<h2><img style=\"float: left; margin: 0px 15px 15px 0px;\" src=\"https://github.com/Microsoft/sqlworkshops/blob/master/graphics/textbubble.png?raw=true\">Understanding the SQL Server ML Services Architecture</h2>\r\n\r\nThe SQL Server Extensibility Framework is an architecture for executing external code: Java (starting in SQL Server 2019), Python (starting in SQL Server 2017), and R (starting in SQL Server 2016). Code execution is isolated from the core engine processes, but fully integrated with SQL Server query execution. This means that you can push data from any SQL Server query to the external runtime, and consume or persist results back in SQL Server.\r\n\r\nSQL Server 2016 introduced the R language as a companion server alongside the SQL Server Instance - called a *satellite*. SQL Server 2017 introduced Python language support, in the same fashion and usage as R. In SQL Server 2019, Java was added as an additional satellite process.\r\n",
            "metadata": {}
        },
        {
            "cell_type": "markdown",
            "source": "<h2><img style=\"float: left; margin: 0px 15px 15px 0px;\" src=\"https://github.com/Microsoft/sqlworkshops/blob/master/graphics/pin.jpg?raw=true\">The SQL Server Extensibility Framework</h2>\r\n\r\n\r\nHere are the basics of these components: \r\n\r\n**Component:** Description\r\n\r\n**SQL Server Process** (*sqlsrver.exe*): SQL Server Engine. Calls the Launchpad service.\r\n\r\n**Launchpad** (*launchpad.exe*): Service/Daemon that executes and manages the external script process. Calls a Launcher DLL specific to the Language.\r\n\r\n**Launcher DLL** (*RLauncher.dll* for R, *PythonLauncher.dll* for Python): Extension for each language. Calls the language executable environment.\r\n\r\n**R, Python, Java**:\tThe environments that run the languages for Machine Learning. The specific versions, editions, releases and bit-levels are installed for you by the SQL Server Installer, even if you have them installed already. Calls a *BxLServer*.\r\n\r\n**BxlServer** (*bxlserver.exe*): Manages communication between SQL Server and external languages using *Windows Job Objects*. Receives and makes calls from and to the *SQL Satellite*.\r\n\r\n**SQL Satellite** (*sqlsatellite.exe*): Handles input and output variables and data exchange, including basic data type resolution and error handling (**Note: you should still explicitly control data type transformations in code**) Receives and makes calls to and from the *SQL Server* process.\r\n\r\nIf selected, the Installer program for SQL Server installs the Microsoft ML Server-supported language runtime environments *alongside* the SQL Server Instance, and then sets up a Service (the *SQL Launchpad*) allowing the sandboxed processes to communicate over a secure channel. It also sets up several other components to allow the *scoring*, and in some cases the *training*, of Machine Learning models using Python or R. \r\n\r\n<img src=\"https://docs.microsoft.com/en-us/sql/advanced-analytics/media/generic-architecture.png?view=sql-server-2017\">\r\n",
            "metadata": {}
        },
        {
            "cell_type": "markdown",
            "source": "<p><img style=\"float: left; margin: 0px 15px 15px 0px;\" src=\"https://github.com/Microsoft/sqlworkshops/blob/master/graphics/checkbox.png?raw=true\"><b>Activity: Enable external script execution in SQL Server</b></p>\n\n- In Azure Data Studio, create a connection to a SQL Server 2019 or higher Instance of SQL Server that you have administrative rights on. <a href=\"https://docs.microsoft.com/en-us/sql/azure-data-studio/quickstart-sql-server?view=sql-server-ver15\" target=\"_blank\">(<i>You can read about how to do that here</i>)</a>.\n- Select your Instance's Connection in the <b>Attach To:</b> box at the top of this notebook.\n- Click the <b>Not Trusted</b> box next to that to make this Notebook <b>Trusted</b>. (<i>Do this with all Notebooks in this course - it means you allow OS commands and other operations on this system.</i>)\n- Now run the following code cell:\n",
            "metadata": {}
        },
        {
            "cell_type": "code",
            "source": "/* Enable ML Services\r\nNOTE: \r\nYou must have SQL Server ML Services Installed,\r\nThe SQL server Launchpad Service must be running, \r\nand you may need to restart the SQL Server Service if the scripts below do not work. \r\nMore detailed information here: https://docs.microsoft.com/en-us/sql/advanced-analytics/install/sql-machine-learning-services-windows-install?view=sql-server-ver15 \r\n*/\r\n\r\nEXEC sp_configure  'external scripts enabled', 1\r\nRECONFIGURE WITH OVERRIDE",
            "metadata": {},
            "outputs": [
                {
                    "output_type": "display_data",
                    "data": {
                        "text/html": "Configuration option 'external scripts enabled' changed from 0 to 1. Run the RECONFIGURE statement to install."
                    },
                    "metadata": {}
                },
                {
                    "output_type": "display_data",
                    "data": {
                        "text/html": "Total execution time: 00:00:00.1829170"
                    },
                    "metadata": {}
                }
            ],
            "execution_count": 1
        },
        {
            "cell_type": "markdown",
            "source": "When the R or Python language is called via a special Stored Procedure (which you must enable) SQL Server transfers data to the R or Python process which runs the code, and returns the result to the Stored Procedure in SQL Server.\n\n<p>\n<img src=\"https://github.com/amthomas46/SQL/blob/master/sql-cs-icc/code/sql-notebooks/images/java-r-python.png?raw=true\" width=\"500\">\n\nHere's a breakdown of the code:\n\n<p>\n<img src=\"https://github.com/Microsoft/sqlworkshops/blob/master/graphics/TSQLAndR.png?raw=true\" width=\"500\">\n<p>\n\nYou can run code to execute in Python as well as R. You can use either language by simply setting a parameter in the Stored Procedure.\n\nThis allows SQL Server professionals to work with and hybrid data in the way they are familiar with, and the Data Scientist to develop their R or Python code anywhere, and then deploying that code to SQL Server by embedding it in a Stored Procedure.\n\nRun a few statements that implement this process:",
            "metadata": {}
        },
        {
            "cell_type": "code",
            "source": "/* Test R */\r\nEXEC sp_execute_external_script  @language =N'R',\r\n@script=N'\r\nOutputDataSet <- InputDataSet;\r\n',\r\n@input_data_1 =N'SELECT 1 AS [Is R Working]'\r\nWITH RESULT SETS (([Is R Working] int not null));\r\nGO",
            "metadata": {},
            "outputs": [
                {
                    "output_type": "display_data",
                    "data": {
                        "text/html": "STDOUT message(s) from external script: \nNULL"
                    },
                    "metadata": {}
                },
                {
                    "output_type": "display_data",
                    "data": {
                        "text/html": "(1 row affected)"
                    },
                    "metadata": {}
                },
                {
                    "output_type": "display_data",
                    "data": {
                        "text/html": "Total execution time: 00:00:13.9017060"
                    },
                    "metadata": {}
                },
                {
                    "output_type": "execute_result",
                    "execution_count": 2,
                    "data": {
                        "application/vnd.dataresource+json": {
                            "schema": {
                                "fields": [
                                    {
                                        "name": "Is R Working"
                                    }
                                ]
                            },
                            "data": [
                                {
                                    "0": "1"
                                }
                            ]
                        },
                        "text/html": "<table><tr><th>Is R Working</th></tr><tr><td>1</td></tr></table>"
                    },
                    "metadata": {}
                }
            ],
            "execution_count": 2
        },
        {
            "cell_type": "code",
            "source": "/* Test Python */\r\nEXEC sp_execute_external_script  @language =N'Python',\r\n@script=N'\r\nOutputDataSet = InputDataSet;\r\n',\r\n@input_data_1 =N'SELECT 1 AS [Is Python Working]'\r\nWITH RESULT SETS (([Is Python Working] int not null));\r\nGO",
            "metadata": {},
            "outputs": [
                {
                    "output_type": "display_data",
                    "data": {
                        "text/html": "(1 row affected)"
                    },
                    "metadata": {}
                },
                {
                    "output_type": "display_data",
                    "data": {
                        "text/html": "Total execution time: 00:00:25.6722360"
                    },
                    "metadata": {}
                },
                {
                    "output_type": "execute_result",
                    "execution_count": 3,
                    "data": {
                        "application/vnd.dataresource+json": {
                            "schema": {
                                "fields": [
                                    {
                                        "name": "Is Python Working"
                                    }
                                ]
                            },
                            "data": [
                                {
                                    "0": "1"
                                }
                            ]
                        },
                        "text/html": "<table><tr><th>Is Python Working</th></tr><tr><td>1</td></tr></table>"
                    },
                    "metadata": {}
                }
            ],
            "execution_count": 3
        },
        {
            "cell_type": "code",
            "source": "/* Get R Info */\r\nEXECUTE sp_execute_external_script @language = N'R'\r\n, @script = N'\r\nOutputDataSet <- data.frame(installed.packages()[,c(\"Package\", \"Version\", \"Depends\", \"License\", \"LibPath\")]);'\r\nWITH RESULT SETS(\r\n    (Package NVARCHAR(255)\r\n    , Version NVARCHAR(100)\r\n    , Depends NVARCHAR(4000)\r\n    , License NVARCHAR(1000)\r\n    , LibPath NVARCHAR(2000))\r\n    );\r\nGO",
            "metadata": {},
            "outputs": [
                {
                    "output_type": "display_data",
                    "data": {
                        "text/html": "STDOUT message(s) from external script: \nMKL_VERBOSE Intel(R) MKL 2017.0 Product build 20160801 for Intel(R) 64 architecture Intel(R) Advanced Vector Extensions 2 (Intel(R) AVX2) enabled processors, Lnx 2.00GHz lp64 gnu_thread NMICDev:0\nMKL_VERBOSE DGEMV(N,28,4,0x7ffd79c9a490,0x31cdfd8,28,0x33c38e0,1,0x7ffd79c9a488,0x31ce388,1) 84.42us CNR:AUTO Dyn:1 FastMM:1 TID:0  NThr:8 WDiv:HOST:+0.000\nMKL_VERBOSE DGEMV(N,27,4,0x7ffd79c9a490,0x2a3d238,27,0x2c15088,1,0x7ffd79c9a488,0x2a03438,1) 22.91us CNR:AUTO Dyn:1 FastMM:1 TID:0  NThr:8 WDiv:HOST:+0.000\nNULL"
                    },
                    "metadata": {}
                },
                {
                    "output_type": "display_data",
                    "data": {
                        "text/html": "(109 rows affected)"
                    },
                    "metadata": {}
                },
                {
                    "output_type": "display_data",
                    "data": {
                        "text/html": "Total execution time: 00:00:01.6779285"
                    },
                    "metadata": {}
                },
                {
                    "output_type": "execute_result",
                    "execution_count": 4,
                    "data": {
                        "application/vnd.dataresource+json": {
                            "schema": {
                                "fields": [
                                    {
                                        "name": "Package"
                                    },
                                    {
                                        "name": "Version"
                                    },
                                    {
                                        "name": "Depends"
                                    },
                                    {
                                        "name": "License"
                                    },
                                    {
                                        "name": "LibPath"
                                    }
                                ]
                            },
                            "data": [
                                {
                                    "0": "CompatibilityAPI",
                                    "1": "1.1.0",
                                    "2": "\nR (>= 3.2.2)",
                                    "3": "file LICENSE",
                                    "4": "/opt/mssql/mlservices/libraries/RServer"
                                },
                                {
                                    "0": "MicrosoftML",
                                    "1": "9.4.6",
                                    "2": "R (>= 3.3.2), methods, RevoScaleR (>= 9.2.1)",
                                    "3": "file LICENSE",
                                    "4": "/opt/mssql/mlservices/libraries/RServer"
                                },
                                {
                                    "0": "RevoPemaR",
                                    "1": "10.0.0",
                                    "2": "R (>= 3.1.1), methods",
                                    "3": "Apache License 2.0",
                                    "4": "/opt/mssql/mlservices/libraries/RServer"
                                },
                                {
                                    "0": "RevoScaleR",
                                    "1": "9.4.6",
                                    "2": "R (>= 3.2.2)",
                                    "3": "file LICENSE",
                                    "4": "/opt/mssql/mlservices/libraries/RServer"
                                },
                                {
                                    "0": "RevoTreeView",
                                    "1": "10.0.0",
                                    "2": "NULL",
                                    "3": "file LICENSE",
                                    "4": "/opt/mssql/mlservices/libraries/RServer"
                                },
                                {
                                    "0": "doRSR",
                                    "1": "10.0.0",
                                    "2": "R (>= 2.5.0), foreach(>= 1.2.0), iterators(>= 1.0.0), RevoScaleR(>= 2.0-0), utils,\nRevoUtils",
                                    "3": "file LICENSE",
                                    "4": "/opt/mssql/mlservices/libraries/RServer"
                                },
                                {
                                    "0": "mrsdeploy",
                                    "1": "1.1.3",
                                    "2": "R (>= 3.3.0)",
                                    "3": "file LICENSE",
                                    "4": "/opt/mssql/mlservices/libraries/RServer"
                                },
                                {
                                    "0": "sqlrutils",
                                    "1": "1.0.0",
                                    "2": "R (>= 3.2.2)",
                                    "3": "file LICENSE",
                                    "4": "/opt/mssql/mlservices/libraries/RServer"
                                },
                                {
                                    "0": "BH",
                                    "1": "1.66.0-1",
                                    "2": "NULL",
                                    "3": "BSL-1.0",
                                    "4": "/opt/mssql/mlservices/runtime/R/library"
                                },
                                {
                                    "0": "DBI",
                                    "1": "1.0.0",
                                    "2": "R (>= 3.0.0), methods",
                                    "3": "LGPL (>= 2)",
                                    "4": "/opt/mssql/mlservices/runtime/R/library"
                                },
                                {
                                    "0": "KernSmooth",
                                    "1": "2.23-15",
                                    "2": "R (>= 2.5.0), stats",
                                    "3": "Unlimited",
                                    "4": "/opt/mssql/mlservices/runtime/R/library"
                                },
                                {
                                    "0": "MASS",
                                    "1": "7.3-49",
                                    "2": "R (>= 3.1.0), grDevices, graphics, stats, utils",
                                    "3": "GPL-2 | GPL-3",
                                    "4": "/opt/mssql/mlservices/runtime/R/library"
                                },
                                {
                                    "0": "Matrix",
                                    "1": "1.2-12",
                                    "2": "R (>= 3.0.1)",
                                    "3": "GPL (>= 2) | file LICENCE",
                                    "4": "/opt/mssql/mlservices/runtime/R/library"
                                },
                                {
                                    "0": "MicrosoftR",
                                    "1": "3.4.4.0105",
                                    "2": "NULL",
                                    "3": "file LICENSE",
                                    "4": "/opt/mssql/mlservices/runtime/R/library"
                                },
                                {
                                    "0": "R6",
                                    "1": "2.3.0",
                                    "2": "R (>= 3.0)",
                                    "3": "MIT + file LICENSE",
                                    "4": "/opt/mssql/mlservices/runtime/R/library"
                                },
                                {
                                    "0": "RUnit",
                                    "1": "0.4.26",
                                    "2": "R (>= 2.5.0), utils (>= 2.5.0), methods (>= 2.5.0)",
                                    "3": "GPL-2",
                                    "4": "/opt/mssql/mlservices/runtime/R/library"
                                },
                                {
                                    "0": "Rcpp",
                                    "1": "1.0.0",
                                    "2": "R (>= 3.0.0)",
                                    "3": "GPL (>= 2)",
                                    "4": "/opt/mssql/mlservices/runtime/R/library"
                                },
                                {
                                    "0": "RevoIOQ",
                                    "1": "8.0.10",
                                    "2": "R (>= 2.6.2), RUnit (>= 0.4.26), tools",
                                    "3": "GPL-2",
                                    "4": "/opt/mssql/mlservices/runtime/R/library"
                                },
                                {
                                    "0": "RevoMods",
                                    "1": "11.0.0",
                                    "2": "R (>= 2.6.2)",
                                    "3": "GPL-2",
                                    "4": "/opt/mssql/mlservices/runtime/R/library"
                                },
                                {
                                    "0": "RevoUtils",
                                    "1": "10.0.9",
                                    "2": "NULL",
                                    "3": "GPL-2",
                                    "4": "/opt/mssql/mlservices/runtime/R/library"
                                },
                                {
                                    "0": "RevoUtilsMath",
                                    "1": "10.0.1",
                                    "2": "NULL",
                                    "3": "file LICENSE",
                                    "4": "/opt/mssql/mlservices/runtime/R/library"
                                },
                                {
                                    "0": "assertthat",
                                    "1": "0.2.0",
                                    "2": "NULL",
                                    "3": "GPL-3",
                                    "4": "/opt/mssql/mlservices/runtime/R/library"
                                },
                                {
                                    "0": "backports",
                                    "1": "1.1.2",
                                    "2": "R (>= 3.0.0)",
                                    "3": "GPL-2",
                                    "4": "/opt/mssql/mlservices/runtime/R/library"
                                },
                                {
                                    "0": "base",
                                    "1": "3.4.4",
                                    "2": "NULL",
                                    "3": "Part of R 3.4.4",
                                    "4": "/opt/mssql/mlservices/runtime/R/library"
                                },
                                {
                                    "0": "base64enc",
                                    "1": "0.1-3",
                                    "2": "R (>= 2.9.0)",
                                    "3": "GPL-2 | GPL-3",
                                    "4": "/opt/mssql/mlservices/runtime/R/library"
                                },
                                {
                                    "0": "bindr",
                                    "1": "0.1.1",
                                    "2": "NULL",
                                    "3": "MIT + file LICENSE",
                                    "4": "/opt/mssql/mlservices/runtime/R/library"
                                },
                                {
                                    "0": "bindrcpp",
                                    "1": "0.2.2",
                                    "2": "NULL",
                                    "3": "MIT + file LICENSE",
                                    "4": "/opt/mssql/mlservices/runtime/R/library"
                                },
                                {
                                    "0": "boot",
                                    "1": "1.3-20",
                                    "2": "R (>= 3.0.0), graphics, stats",
                                    "3": "Unlimited",
                                    "4": "/opt/mssql/mlservices/runtime/R/library"
                                },
                                {
                                    "0": "broom",
                                    "1": "0.5.0",
                                    "2": "R (>= 3.1)",
                                    "3": "MIT + file LICENSE",
                                    "4": "/opt/mssql/mlservices/runtime/R/library"
                                },
                                {
                                    "0": "checkpoint",
                                    "1": "0.4.3",
                                    "2": "\nR(>= 3.0.0)",
                                    "3": "GPL-2",
                                    "4": "/opt/mssql/mlservices/runtime/R/library"
                                },
                                {
                                    "0": "class",
                                    "1": "7.3-14",
                                    "2": "R (>= 3.0.0), stats, utils",
                                    "3": "GPL-2 | GPL-3",
                                    "4": "/opt/mssql/mlservices/runtime/R/library"
                                },
                                {
                                    "0": "cli",
                                    "1": "1.0.1",
                                    "2": "R (>= 2.10)",
                                    "3": "MIT + file LICENSE",
                                    "4": "/opt/mssql/mlservices/runtime/R/library"
                                },
                                {
                                    "0": "clipr",
                                    "1": "0.4.1",
                                    "2": "NULL",
                                    "3": "GPL-3",
                                    "4": "/opt/mssql/mlservices/runtime/R/library"
                                },
                                {
                                    "0": "cluster",
                                    "1": "2.0.6",
                                    "2": "R (>= 3.0.1)",
                                    "3": "GPL (>= 2)",
                                    "4": "/opt/mssql/mlservices/runtime/R/library"
                                },
                                {
                                    "0": "codetools",
                                    "1": "0.2-15",
                                    "2": "R (>= 2.1)",
                                    "3": "GPL",
                                    "4": "/opt/mssql/mlservices/runtime/R/library"
                                },
                                {
                                    "0": "compiler",
                                    "1": "3.4.4",
                                    "2": "NULL",
                                    "3": "Part of R 3.4.4",
                                    "4": "/opt/mssql/mlservices/runtime/R/library"
                                },
                                {
                                    "0": "config",
                                    "1": "0.3",
                                    "2": "NULL",
                                    "3": "GPL-3",
                                    "4": "/opt/mssql/mlservices/runtime/R/library"
                                },
                                {
                                    "0": "crayon",
                                    "1": "1.3.4",
                                    "2": "NULL",
                                    "3": "MIT + file LICENSE",
                                    "4": "/opt/mssql/mlservices/runtime/R/library"
                                },
                                {
                                    "0": "curl",
                                    "1": "3.2",
                                    "2": "R (>= 3.0.0)",
                                    "3": "MIT + file LICENSE",
                                    "4": "/opt/mssql/mlservices/runtime/R/library"
                                },
                                {
                                    "0": "datasets",
                                    "1": "3.4.4",
                                    "2": "NULL",
                                    "3": "Part of R 3.4.4",
                                    "4": "/opt/mssql/mlservices/runtime/R/library"
                                },
                                {
                                    "0": "dbplyr",
                                    "1": "1.2.2",
                                    "2": "R (>= 3.2)",
                                    "3": "MIT + file LICENSE",
                                    "4": "/opt/mssql/mlservices/runtime/R/library"
                                },
                                {
                                    "0": "deployrRserve",
                                    "1": "9.0.0",
                                    "2": "R (>= 1.5.0)",
                                    "3": "GPL version 2",
                                    "4": "/opt/mssql/mlservices/runtime/R/library"
                                },
                                {
                                    "0": "digest",
                                    "1": "0.6.18",
                                    "2": "R (>= 3.1.0)",
                                    "3": "GPL (>= 2)",
                                    "4": "/opt/mssql/mlservices/runtime/R/library"
                                },
                                {
                                    "0": "doParallel",
                                    "1": "1.0.12",
                                    "2": "R (>= 2.14.0), foreach(>= 1.2.0), iterators(>= 1.0.0), parallel, utils",
                                    "3": "GPL-2",
                                    "4": "/opt/mssql/mlservices/runtime/R/library"
                                },
                                {
                                    "0": "dplyr",
                                    "1": "0.7.8",
                                    "2": "R (>= 3.1.2)",
                                    "3": "MIT + file LICENSE",
                                    "4": "/opt/mssql/mlservices/runtime/R/library"
                                },
                                {
                                    "0": "fansi",
                                    "1": "0.4.0",
                                    "2": "R (>= 3.1.0)",
                                    "3": "GPL (>= 2)",
                                    "4": "/opt/mssql/mlservices/runtime/R/library"
                                },
                                {
                                    "0": "foreach",
                                    "1": "1.4.5",
                                    "2": "R (>= 2.5.0)",
                                    "3": "Apache License (== 2.0)",
                                    "4": "/opt/mssql/mlservices/runtime/R/library"
                                },
                                {
                                    "0": "foreign",
                                    "1": "0.8-69",
                                    "2": "R (>= 3.0.0)",
                                    "3": "GPL (>= 2)",
                                    "4": "/opt/mssql/mlservices/runtime/R/library"
                                },
                                {
                                    "0": "forge",
                                    "1": "0.1.0",
                                    "2": "R (>= 3.1.2)",
                                    "3": "Apache License (>= 2.0)",
                                    "4": "/opt/mssql/mlservices/runtime/R/library"
                                },
                                {
                                    "0": "glue",
                                    "1": "1.3.0",
                                    "2": "R (>= 3.1)",
                                    "3": "MIT + file LICENSE",
                                    "4": "/opt/mssql/mlservices/runtime/R/library"
                                },
                                {
                                    "0": "grDevices",
                                    "1": "3.4.4",
                                    "2": "NULL",
                                    "3": "Part of R 3.4.4",
                                    "4": "/opt/mssql/mlservices/runtime/R/library"
                                },
                                {
                                    "0": "graphics",
                                    "1": "3.4.4",
                                    "2": "NULL",
                                    "3": "Part of R 3.4.4",
                                    "4": "/opt/mssql/mlservices/runtime/R/library"
                                },
                                {
                                    "0": "grid",
                                    "1": "3.4.4",
                                    "2": "NULL",
                                    "3": "Part of R 3.4.4",
                                    "4": "/opt/mssql/mlservices/runtime/R/library"
                                },
                                {
                                    "0": "hms",
                                    "1": "0.4.2",
                                    "2": "NULL",
                                    "3": "GPL-3",
                                    "4": "/opt/mssql/mlservices/runtime/R/library"
                                },
                                {
                                    "0": "htmltools",
                                    "1": "0.3.6",
                                    "2": "R (>= 2.14.1)",
                                    "3": "GPL (>= 2)",
                                    "4": "/opt/mssql/mlservices/runtime/R/library"
                                },
                                {
                                    "0": "htmlwidgets",
                                    "1": "1.3",
                                    "2": "NULL",
                                    "3": "MIT + file LICENSE",
                                    "4": "/opt/mssql/mlservices/runtime/R/library"
                                },
                                {
                                    "0": "httpuv",
                                    "1": "1.4.5",
                                    "2": "R (>= 2.15.1), methods",
                                    "3": "GPL (>= 2) | file LICENSE",
                                    "4": "/opt/mssql/mlservices/runtime/R/library"
                                },
                                {
                                    "0": "httr",
                                    "1": "1.3.1",
                                    "2": "R (>= 3.0.0)",
                                    "3": "MIT + file LICENSE",
                                    "4": "/opt/mssql/mlservices/runtime/R/library"
                                },
                                {
                                    "0": "iterators",
                                    "1": "1.0.9",
                                    "2": "R (>= 2.5.0), utils",
                                    "3": "Apache License (== 2.0)",
                                    "4": "/opt/mssql/mlservices/runtime/R/library"
                                },
                                {
                                    "0": "jsonlite",
                                    "1": "1.5",
                                    "2": "methods",
                                    "3": "MIT + file LICENSE",
                                    "4": "/opt/mssql/mlservices/runtime/R/library"
                                },
                                {
                                    "0": "later",
                                    "1": "0.7.5",
                                    "2": "NULL",
                                    "3": "GPL (>= 2)",
                                    "4": "/opt/mssql/mlservices/runtime/R/library"
                                },
                                {
                                    "0": "lattice",
                                    "1": "0.20-35",
                                    "2": "R (>= 3.0.0)",
                                    "3": "GPL (>= 2)",
                                    "4": "/opt/mssql/mlservices/runtime/R/library"
                                },
                                {
                                    "0": "lazyeval",
                                    "1": "0.2.1",
                                    "2": "R (>= 3.1.0)",
                                    "3": "GPL-3",
                                    "4": "/opt/mssql/mlservices/runtime/R/library"
                                },
                                {
                                    "0": "magrittr",
                                    "1": "1.5",
                                    "2": "NULL",
                                    "3": "MIT + file LICENSE",
                                    "4": "/opt/mssql/mlservices/runtime/R/library"
                                },
                                {
                                    "0": "methods",
                                    "1": "3.4.4",
                                    "2": "NULL",
                                    "3": "Part of R 3.4.4",
                                    "4": "/opt/mssql/mlservices/runtime/R/library"
                                },
                                {
                                    "0": "mgcv",
                                    "1": "1.8-23",
                                    "2": "R (>= 2.14.0), nlme (>= 3.1-64)",
                                    "3": "GPL (>= 2)",
                                    "4": "/opt/mssql/mlservices/runtime/R/library"
                                },
                                {
                                    "0": "mime",
                                    "1": "0.6",
                                    "2": "NULL",
                                    "3": "GPL",
                                    "4": "/opt/mssql/mlservices/runtime/R/library"
                                },
                                {
                                    "0": "mnormt",
                                    "1": "1.5-5",
                                    "2": "R (>= 2.2.0)",
                                    "3": "GPL-2 | GPL-3",
                                    "4": "/opt/mssql/mlservices/runtime/R/library"
                                },
                                {
                                    "0": "nlme",
                                    "1": "3.1-131.1",
                                    "2": "R (>= 3.3.0)",
                                    "3": "GPL (>= 2) | file LICENCE",
                                    "4": "/opt/mssql/mlservices/runtime/R/library"
                                },
                                {
                                    "0": "nnet",
                                    "1": "7.3-12",
                                    "2": "R (>= 2.14.0), stats, utils",
                                    "3": "GPL-2 | GPL-3",
                                    "4": "/opt/mssql/mlservices/runtime/R/library"
                                },
                                {
                                    "0": "openssl",
                                    "1": "1.1",
                                    "2": "NULL",
                                    "3": "MIT + file LICENSE",
                                    "4": "/opt/mssql/mlservices/runtime/R/library"
                                },
                                {
                                    "0": "parallel",
                                    "1": "3.4.4",
                                    "2": "NULL",
                                    "3": "Part of R 3.4.4",
                                    "4": "/opt/mssql/mlservices/runtime/R/library"
                                },
                                {
                                    "0": "pillar",
                                    "1": "1.3.0",
                                    "2": "NULL",
                                    "3": "GPL-3",
                                    "4": "/opt/mssql/mlservices/runtime/R/library"
                                },
                                {
                                    "0": "pkgconfig",
                                    "1": "2.0.2",
                                    "2": "NULL",
                                    "3": "MIT + file LICENSE",
                                    "4": "/opt/mssql/mlservices/runtime/R/library"
                                },
                                {
                                    "0": "plogr",
                                    "1": "0.2.0",
                                    "2": "NULL",
                                    "3": "MIT + file LICENSE",
                                    "4": "/opt/mssql/mlservices/runtime/R/library"
                                },
                                {
                                    "0": "plyr",
                                    "1": "1.8.4",
                                    "2": "R (>= 3.1.0)",
                                    "3": "MIT + file LICENSE",
                                    "4": "/opt/mssql/mlservices/runtime/R/library"
                                },
                                {
                                    "0": "png",
                                    "1": "0.1-7",
                                    "2": "R (>= 2.9.0)",
                                    "3": "GPL-2 | GPL-3",
                                    "4": "/opt/mssql/mlservices/runtime/R/library"
                                },
                                {
                                    "0": "promises",
                                    "1": "1.0.1",
                                    "2": "NULL",
                                    "3": "MIT + file LICENSE",
                                    "4": "/opt/mssql/mlservices/runtime/R/library"
                                },
                                {
                                    "0": "psych",
                                    "1": "1.8.10",
                                    "2": "R (>= 2.10)",
                                    "3": "GPL (>= 2)",
                                    "4": "/opt/mssql/mlservices/runtime/R/library"
                                },
                                {
                                    "0": "purrr",
                                    "1": "0.2.5",
                                    "2": "R (>= 3.1)",
                                    "3": "GPL-3 | file LICENSE",
                                    "4": "/opt/mssql/mlservices/runtime/R/library"
                                },
                                {
                                    "0": "r2d3",
                                    "1": "0.2.2",
                                    "2": "R (>= 3.1.2)",
                                    "3": "BSD_3_clause + file LICENSE",
                                    "4": "/opt/mssql/mlservices/runtime/R/library"
                                },
                                {
                                    "0": "rappdirs",
                                    "1": "0.3.1",
                                    "2": "R (>= 2.14), methods",
                                    "3": "MIT + file LICENSE",
                                    "4": "/opt/mssql/mlservices/runtime/R/library"
                                },
                                {
                                    "0": "readr",
                                    "1": "1.2.1",
                                    "2": "R (>= 3.0.2)",
                                    "3": "GPL (>= 2) | file LICENSE",
                                    "4": "/opt/mssql/mlservices/runtime/R/library"
                                },
                                {
                                    "0": "reshape2",
                                    "1": "1.4.3",
                                    "2": "R (>= 3.1)",
                                    "3": "MIT + file LICENSE",
                                    "4": "/opt/mssql/mlservices/runtime/R/library"
                                },
                                {
                                    "0": "rlang",
                                    "1": "0.3.0.1",
                                    "2": "R (>= 3.1.0)",
                                    "3": "GPL-3",
                                    "4": "/opt/mssql/mlservices/runtime/R/library"
                                },
                                {
                                    "0": "rpart",
                                    "1": "4.1-13",
                                    "2": "R (>= 2.15.0), graphics, stats, grDevices",
                                    "3": "GPL-2 | GPL-3",
                                    "4": "/opt/mssql/mlservices/runtime/R/library"
                                },
                                {
                                    "0": "rprojroot",
                                    "1": "1.3-2",
                                    "2": "R (>= 3.0.0)",
                                    "3": "GPL-3",
                                    "4": "/opt/mssql/mlservices/runtime/R/library"
                                },
                                {
                                    "0": "rstudioapi",
                                    "1": "0.8",
                                    "2": "NULL",
                                    "3": "MIT + file LICENSE",
                                    "4": "/opt/mssql/mlservices/runtime/R/library"
                                },
                                {
                                    "0": "shiny",
                                    "1": "1.2.0",
                                    "2": "R (>= 3.0.2), methods",
                                    "3": "GPL-3 | file LICENSE",
                                    "4": "/opt/mssql/mlservices/runtime/R/library"
                                },
                                {
                                    "0": "sourcetools",
                                    "1": "0.1.7",
                                    "2": "R (>= 3.0.2)",
                                    "3": "MIT + file LICENSE",
                                    "4": "/opt/mssql/mlservices/runtime/R/library"
                                },
                                {
                                    "0": "sparklyr",
                                    "1": "0.9.3",
                                    "2": "R (>= 3.2)",
                                    "3": "Apache License 2.0 | file LICENSE",
                                    "4": "/opt/mssql/mlservices/runtime/R/library"
                                },
                                {
                                    "0": "spatial",
                                    "1": "7.3-11",
                                    "2": "R (>= 3.0.0), graphics, stats, utils",
                                    "3": "GPL-2 | GPL-3",
                                    "4": "/opt/mssql/mlservices/runtime/R/library"
                                },
                                {
                                    "0": "splines",
                                    "1": "3.4.4",
                                    "2": "NULL",
                                    "3": "Part of R 3.4.4",
                                    "4": "/opt/mssql/mlservices/runtime/R/library"
                                },
                                {
                                    "0": "stats",
                                    "1": "3.4.4",
                                    "2": "NULL",
                                    "3": "Part of R 3.4.4",
                                    "4": "/opt/mssql/mlservices/runtime/R/library"
                                },
                                {
                                    "0": "stats4",
                                    "1": "3.4.4",
                                    "2": "NULL",
                                    "3": "Part of R 3.4.4",
                                    "4": "/opt/mssql/mlservices/runtime/R/library"
                                },
                                {
                                    "0": "stringi",
                                    "1": "1.2.4",
                                    "2": "R (>= 2.14)",
                                    "3": "file LICENSE",
                                    "4": "/opt/mssql/mlservices/runtime/R/library"
                                },
                                {
                                    "0": "stringr",
                                    "1": "1.3.1",
                                    "2": "R (>= 3.1)",
                                    "3": "GPL-2 | file LICENSE",
                                    "4": "/opt/mssql/mlservices/runtime/R/library"
                                },
                                {
                                    "0": "survival",
                                    "1": "2.41-3",
                                    "2": "R (>= 2.13.0)",
                                    "3": "LGPL (>= 2)",
                                    "4": "/opt/mssql/mlservices/runtime/R/library"
                                },
                                {
                                    "0": "tcltk",
                                    "1": "3.4.4",
                                    "2": "NULL",
                                    "3": "Part of R 3.4.4",
                                    "4": "/opt/mssql/mlservices/runtime/R/library"
                                },
                                {
                                    "0": "tibble",
                                    "1": "1.4.2",
                                    "2": "R (>= 3.1.0)",
                                    "3": "MIT + file LICENSE",
                                    "4": "/opt/mssql/mlservices/runtime/R/library"
                                },
                                {
                                    "0": "tidyr",
                                    "1": "0.8.2",
                                    "2": "R (>= 3.1)",
                                    "3": "MIT + file LICENSE",
                                    "4": "/opt/mssql/mlservices/runtime/R/library"
                                },
                                {
                                    "0": "tidyselect",
                                    "1": "0.2.5",
                                    "2": "R (>= 3.1)",
                                    "3": "GPL-3",
                                    "4": "/opt/mssql/mlservices/runtime/R/library"
                                },
                                {
                                    "0": "tools",
                                    "1": "3.4.4",
                                    "2": "NULL",
                                    "3": "Part of R 3.4.4",
                                    "4": "/opt/mssql/mlservices/runtime/R/library"
                                },
                                {
                                    "0": "utf8",
                                    "1": "1.1.4",
                                    "2": "R (>= 2.10)",
                                    "3": "Apache License (== 2.0) | file LICENSE",
                                    "4": "/opt/mssql/mlservices/runtime/R/library"
                                },
                                {
                                    "0": "utils",
                                    "1": "3.4.4",
                                    "2": "NULL",
                                    "3": "Part of R 3.4.4",
                                    "4": "/opt/mssql/mlservices/runtime/R/library"
                                },
                                {
                                    "0": "withr",
                                    "1": "2.1.2",
                                    "2": "R (>= 3.0.2)",
                                    "3": "GPL (>= 2)",
                                    "4": "/opt/mssql/mlservices/runtime/R/library"
                                },
                                {
                                    "0": "xml2",
                                    "1": "1.2.0",
                                    "2": "R (>= 3.1.0)",
                                    "3": "GPL (>= 2)",
                                    "4": "/opt/mssql/mlservices/runtime/R/library"
                                },
                                {
                                    "0": "xtable",
                                    "1": "1.8-3",
                                    "2": "R (>= 2.10.0)",
                                    "3": "GPL (>= 2)",
                                    "4": "/opt/mssql/mlservices/runtime/R/library"
                                },
                                {
                                    "0": "yaml",
                                    "1": "2.2.0",
                                    "2": "NULL",
                                    "3": "BSD_3_clause + file LICENSE",
                                    "4": "/opt/mssql/mlservices/runtime/R/library"
                                }
                            ]
                        },
                        "text/html": "<table><tr><th>Package</th><th>Version</th><th>Depends</th><th>License</th><th>LibPath</th></tr><tr><td>CompatibilityAPI</td><td>1.1.0</td><td>\nR (&gt;= 3.2.2)</td><td>file LICENSE</td><td>/opt/mssql/mlservices/libraries/RServer</td></tr><tr><td>MicrosoftML</td><td>9.4.6</td><td>R (&gt;= 3.3.2), methods, RevoScaleR (&gt;= 9.2.1)</td><td>file LICENSE</td><td>/opt/mssql/mlservices/libraries/RServer</td></tr><tr><td>RevoPemaR</td><td>10.0.0</td><td>R (&gt;= 3.1.1), methods</td><td>Apache License 2.0</td><td>/opt/mssql/mlservices/libraries/RServer</td></tr><tr><td>RevoScaleR</td><td>9.4.6</td><td>R (&gt;= 3.2.2)</td><td>file LICENSE</td><td>/opt/mssql/mlservices/libraries/RServer</td></tr><tr><td>RevoTreeView</td><td>10.0.0</td><td>NULL</td><td>file LICENSE</td><td>/opt/mssql/mlservices/libraries/RServer</td></tr><tr><td>doRSR</td><td>10.0.0</td><td>R (&gt;= 2.5.0), foreach(&gt;= 1.2.0), iterators(&gt;= 1.0.0), RevoScaleR(&gt;= 2.0-0), utils,\nRevoUtils</td><td>file LICENSE</td><td>/opt/mssql/mlservices/libraries/RServer</td></tr><tr><td>mrsdeploy</td><td>1.1.3</td><td>R (&gt;= 3.3.0)</td><td>file LICENSE</td><td>/opt/mssql/mlservices/libraries/RServer</td></tr><tr><td>sqlrutils</td><td>1.0.0</td><td>R (&gt;= 3.2.2)</td><td>file LICENSE</td><td>/opt/mssql/mlservices/libraries/RServer</td></tr><tr><td>BH</td><td>1.66.0-1</td><td>NULL</td><td>BSL-1.0</td><td>/opt/mssql/mlservices/runtime/R/library</td></tr><tr><td>DBI</td><td>1.0.0</td><td>R (&gt;= 3.0.0), methods</td><td>LGPL (&gt;= 2)</td><td>/opt/mssql/mlservices/runtime/R/library</td></tr><tr><td>KernSmooth</td><td>2.23-15</td><td>R (&gt;= 2.5.0), stats</td><td>Unlimited</td><td>/opt/mssql/mlservices/runtime/R/library</td></tr><tr><td>MASS</td><td>7.3-49</td><td>R (&gt;= 3.1.0), grDevices, graphics, stats, utils</td><td>GPL-2 | GPL-3</td><td>/opt/mssql/mlservices/runtime/R/library</td></tr><tr><td>Matrix</td><td>1.2-12</td><td>R (&gt;= 3.0.1)</td><td>GPL (&gt;= 2) | file LICENCE</td><td>/opt/mssql/mlservices/runtime/R/library</td></tr><tr><td>MicrosoftR</td><td>3.4.4.0105</td><td>NULL</td><td>file LICENSE</td><td>/opt/mssql/mlservices/runtime/R/library</td></tr><tr><td>R6</td><td>2.3.0</td><td>R (&gt;= 3.0)</td><td>MIT + file LICENSE</td><td>/opt/mssql/mlservices/runtime/R/library</td></tr><tr><td>RUnit</td><td>0.4.26</td><td>R (&gt;= 2.5.0), utils (&gt;= 2.5.0), methods (&gt;= 2.5.0)</td><td>GPL-2</td><td>/opt/mssql/mlservices/runtime/R/library</td></tr><tr><td>Rcpp</td><td>1.0.0</td><td>R (&gt;= 3.0.0)</td><td>GPL (&gt;= 2)</td><td>/opt/mssql/mlservices/runtime/R/library</td></tr><tr><td>RevoIOQ</td><td>8.0.10</td><td>R (&gt;= 2.6.2), RUnit (&gt;= 0.4.26), tools</td><td>GPL-2</td><td>/opt/mssql/mlservices/runtime/R/library</td></tr><tr><td>RevoMods</td><td>11.0.0</td><td>R (&gt;= 2.6.2)</td><td>GPL-2</td><td>/opt/mssql/mlservices/runtime/R/library</td></tr><tr><td>RevoUtils</td><td>10.0.9</td><td>NULL</td><td>GPL-2</td><td>/opt/mssql/mlservices/runtime/R/library</td></tr><tr><td>RevoUtilsMath</td><td>10.0.1</td><td>NULL</td><td>file LICENSE</td><td>/opt/mssql/mlservices/runtime/R/library</td></tr><tr><td>assertthat</td><td>0.2.0</td><td>NULL</td><td>GPL-3</td><td>/opt/mssql/mlservices/runtime/R/library</td></tr><tr><td>backports</td><td>1.1.2</td><td>R (&gt;= 3.0.0)</td><td>GPL-2</td><td>/opt/mssql/mlservices/runtime/R/library</td></tr><tr><td>base</td><td>3.4.4</td><td>NULL</td><td>Part of R 3.4.4</td><td>/opt/mssql/mlservices/runtime/R/library</td></tr><tr><td>base64enc</td><td>0.1-3</td><td>R (&gt;= 2.9.0)</td><td>GPL-2 | GPL-3</td><td>/opt/mssql/mlservices/runtime/R/library</td></tr><tr><td>bindr</td><td>0.1.1</td><td>NULL</td><td>MIT + file LICENSE</td><td>/opt/mssql/mlservices/runtime/R/library</td></tr><tr><td>bindrcpp</td><td>0.2.2</td><td>NULL</td><td>MIT + file LICENSE</td><td>/opt/mssql/mlservices/runtime/R/library</td></tr><tr><td>boot</td><td>1.3-20</td><td>R (&gt;= 3.0.0), graphics, stats</td><td>Unlimited</td><td>/opt/mssql/mlservices/runtime/R/library</td></tr><tr><td>broom</td><td>0.5.0</td><td>R (&gt;= 3.1)</td><td>MIT + file LICENSE</td><td>/opt/mssql/mlservices/runtime/R/library</td></tr><tr><td>checkpoint</td><td>0.4.3</td><td>\nR(&gt;= 3.0.0)</td><td>GPL-2</td><td>/opt/mssql/mlservices/runtime/R/library</td></tr><tr><td>class</td><td>7.3-14</td><td>R (&gt;= 3.0.0), stats, utils</td><td>GPL-2 | GPL-3</td><td>/opt/mssql/mlservices/runtime/R/library</td></tr><tr><td>cli</td><td>1.0.1</td><td>R (&gt;= 2.10)</td><td>MIT + file LICENSE</td><td>/opt/mssql/mlservices/runtime/R/library</td></tr><tr><td>clipr</td><td>0.4.1</td><td>NULL</td><td>GPL-3</td><td>/opt/mssql/mlservices/runtime/R/library</td></tr><tr><td>cluster</td><td>2.0.6</td><td>R (&gt;= 3.0.1)</td><td>GPL (&gt;= 2)</td><td>/opt/mssql/mlservices/runtime/R/library</td></tr><tr><td>codetools</td><td>0.2-15</td><td>R (&gt;= 2.1)</td><td>GPL</td><td>/opt/mssql/mlservices/runtime/R/library</td></tr><tr><td>compiler</td><td>3.4.4</td><td>NULL</td><td>Part of R 3.4.4</td><td>/opt/mssql/mlservices/runtime/R/library</td></tr><tr><td>config</td><td>0.3</td><td>NULL</td><td>GPL-3</td><td>/opt/mssql/mlservices/runtime/R/library</td></tr><tr><td>crayon</td><td>1.3.4</td><td>NULL</td><td>MIT + file LICENSE</td><td>/opt/mssql/mlservices/runtime/R/library</td></tr><tr><td>curl</td><td>3.2</td><td>R (&gt;= 3.0.0)</td><td>MIT + file LICENSE</td><td>/opt/mssql/mlservices/runtime/R/library</td></tr><tr><td>datasets</td><td>3.4.4</td><td>NULL</td><td>Part of R 3.4.4</td><td>/opt/mssql/mlservices/runtime/R/library</td></tr><tr><td>dbplyr</td><td>1.2.2</td><td>R (&gt;= 3.2)</td><td>MIT + file LICENSE</td><td>/opt/mssql/mlservices/runtime/R/library</td></tr><tr><td>deployrRserve</td><td>9.0.0</td><td>R (&gt;= 1.5.0)</td><td>GPL version 2</td><td>/opt/mssql/mlservices/runtime/R/library</td></tr><tr><td>digest</td><td>0.6.18</td><td>R (&gt;= 3.1.0)</td><td>GPL (&gt;= 2)</td><td>/opt/mssql/mlservices/runtime/R/library</td></tr><tr><td>doParallel</td><td>1.0.12</td><td>R (&gt;= 2.14.0), foreach(&gt;= 1.2.0), iterators(&gt;= 1.0.0), parallel, utils</td><td>GPL-2</td><td>/opt/mssql/mlservices/runtime/R/library</td></tr><tr><td>dplyr</td><td>0.7.8</td><td>R (&gt;= 3.1.2)</td><td>MIT + file LICENSE</td><td>/opt/mssql/mlservices/runtime/R/library</td></tr><tr><td>fansi</td><td>0.4.0</td><td>R (&gt;= 3.1.0)</td><td>GPL (&gt;= 2)</td><td>/opt/mssql/mlservices/runtime/R/library</td></tr><tr><td>foreach</td><td>1.4.5</td><td>R (&gt;= 2.5.0)</td><td>Apache License (== 2.0)</td><td>/opt/mssql/mlservices/runtime/R/library</td></tr><tr><td>foreign</td><td>0.8-69</td><td>R (&gt;= 3.0.0)</td><td>GPL (&gt;= 2)</td><td>/opt/mssql/mlservices/runtime/R/library</td></tr><tr><td>forge</td><td>0.1.0</td><td>R (&gt;= 3.1.2)</td><td>Apache License (&gt;= 2.0)</td><td>/opt/mssql/mlservices/runtime/R/library</td></tr><tr><td>glue</td><td>1.3.0</td><td>R (&gt;= 3.1)</td><td>MIT + file LICENSE</td><td>/opt/mssql/mlservices/runtime/R/library</td></tr><tr><td>grDevices</td><td>3.4.4</td><td>NULL</td><td>Part of R 3.4.4</td><td>/opt/mssql/mlservices/runtime/R/library</td></tr><tr><td>graphics</td><td>3.4.4</td><td>NULL</td><td>Part of R 3.4.4</td><td>/opt/mssql/mlservices/runtime/R/library</td></tr><tr><td>grid</td><td>3.4.4</td><td>NULL</td><td>Part of R 3.4.4</td><td>/opt/mssql/mlservices/runtime/R/library</td></tr><tr><td>hms</td><td>0.4.2</td><td>NULL</td><td>GPL-3</td><td>/opt/mssql/mlservices/runtime/R/library</td></tr><tr><td>htmltools</td><td>0.3.6</td><td>R (&gt;= 2.14.1)</td><td>GPL (&gt;= 2)</td><td>/opt/mssql/mlservices/runtime/R/library</td></tr><tr><td>htmlwidgets</td><td>1.3</td><td>NULL</td><td>MIT + file LICENSE</td><td>/opt/mssql/mlservices/runtime/R/library</td></tr><tr><td>httpuv</td><td>1.4.5</td><td>R (&gt;= 2.15.1), methods</td><td>GPL (&gt;= 2) | file LICENSE</td><td>/opt/mssql/mlservices/runtime/R/library</td></tr><tr><td>httr</td><td>1.3.1</td><td>R (&gt;= 3.0.0)</td><td>MIT + file LICENSE</td><td>/opt/mssql/mlservices/runtime/R/library</td></tr><tr><td>iterators</td><td>1.0.9</td><td>R (&gt;= 2.5.0), utils</td><td>Apache License (== 2.0)</td><td>/opt/mssql/mlservices/runtime/R/library</td></tr><tr><td>jsonlite</td><td>1.5</td><td>methods</td><td>MIT + file LICENSE</td><td>/opt/mssql/mlservices/runtime/R/library</td></tr><tr><td>later</td><td>0.7.5</td><td>NULL</td><td>GPL (&gt;= 2)</td><td>/opt/mssql/mlservices/runtime/R/library</td></tr><tr><td>lattice</td><td>0.20-35</td><td>R (&gt;= 3.0.0)</td><td>GPL (&gt;= 2)</td><td>/opt/mssql/mlservices/runtime/R/library</td></tr><tr><td>lazyeval</td><td>0.2.1</td><td>R (&gt;= 3.1.0)</td><td>GPL-3</td><td>/opt/mssql/mlservices/runtime/R/library</td></tr><tr><td>magrittr</td><td>1.5</td><td>NULL</td><td>MIT + file LICENSE</td><td>/opt/mssql/mlservices/runtime/R/library</td></tr><tr><td>methods</td><td>3.4.4</td><td>NULL</td><td>Part of R 3.4.4</td><td>/opt/mssql/mlservices/runtime/R/library</td></tr><tr><td>mgcv</td><td>1.8-23</td><td>R (&gt;= 2.14.0), nlme (&gt;= 3.1-64)</td><td>GPL (&gt;= 2)</td><td>/opt/mssql/mlservices/runtime/R/library</td></tr><tr><td>mime</td><td>0.6</td><td>NULL</td><td>GPL</td><td>/opt/mssql/mlservices/runtime/R/library</td></tr><tr><td>mnormt</td><td>1.5-5</td><td>R (&gt;= 2.2.0)</td><td>GPL-2 | GPL-3</td><td>/opt/mssql/mlservices/runtime/R/library</td></tr><tr><td>nlme</td><td>3.1-131.1</td><td>R (&gt;= 3.3.0)</td><td>GPL (&gt;= 2) | file LICENCE</td><td>/opt/mssql/mlservices/runtime/R/library</td></tr><tr><td>nnet</td><td>7.3-12</td><td>R (&gt;= 2.14.0), stats, utils</td><td>GPL-2 | GPL-3</td><td>/opt/mssql/mlservices/runtime/R/library</td></tr><tr><td>openssl</td><td>1.1</td><td>NULL</td><td>MIT + file LICENSE</td><td>/opt/mssql/mlservices/runtime/R/library</td></tr><tr><td>parallel</td><td>3.4.4</td><td>NULL</td><td>Part of R 3.4.4</td><td>/opt/mssql/mlservices/runtime/R/library</td></tr><tr><td>pillar</td><td>1.3.0</td><td>NULL</td><td>GPL-3</td><td>/opt/mssql/mlservices/runtime/R/library</td></tr><tr><td>pkgconfig</td><td>2.0.2</td><td>NULL</td><td>MIT + file LICENSE</td><td>/opt/mssql/mlservices/runtime/R/library</td></tr><tr><td>plogr</td><td>0.2.0</td><td>NULL</td><td>MIT + file LICENSE</td><td>/opt/mssql/mlservices/runtime/R/library</td></tr><tr><td>plyr</td><td>1.8.4</td><td>R (&gt;= 3.1.0)</td><td>MIT + file LICENSE</td><td>/opt/mssql/mlservices/runtime/R/library</td></tr><tr><td>png</td><td>0.1-7</td><td>R (&gt;= 2.9.0)</td><td>GPL-2 | GPL-3</td><td>/opt/mssql/mlservices/runtime/R/library</td></tr><tr><td>promises</td><td>1.0.1</td><td>NULL</td><td>MIT + file LICENSE</td><td>/opt/mssql/mlservices/runtime/R/library</td></tr><tr><td>psych</td><td>1.8.10</td><td>R (&gt;= 2.10)</td><td>GPL (&gt;= 2)</td><td>/opt/mssql/mlservices/runtime/R/library</td></tr><tr><td>purrr</td><td>0.2.5</td><td>R (&gt;= 3.1)</td><td>GPL-3 | file LICENSE</td><td>/opt/mssql/mlservices/runtime/R/library</td></tr><tr><td>r2d3</td><td>0.2.2</td><td>R (&gt;= 3.1.2)</td><td>BSD_3_clause + file LICENSE</td><td>/opt/mssql/mlservices/runtime/R/library</td></tr><tr><td>rappdirs</td><td>0.3.1</td><td>R (&gt;= 2.14), methods</td><td>MIT + file LICENSE</td><td>/opt/mssql/mlservices/runtime/R/library</td></tr><tr><td>readr</td><td>1.2.1</td><td>R (&gt;= 3.0.2)</td><td>GPL (&gt;= 2) | file LICENSE</td><td>/opt/mssql/mlservices/runtime/R/library</td></tr><tr><td>reshape2</td><td>1.4.3</td><td>R (&gt;= 3.1)</td><td>MIT + file LICENSE</td><td>/opt/mssql/mlservices/runtime/R/library</td></tr><tr><td>rlang</td><td>0.3.0.1</td><td>R (&gt;= 3.1.0)</td><td>GPL-3</td><td>/opt/mssql/mlservices/runtime/R/library</td></tr><tr><td>rpart</td><td>4.1-13</td><td>R (&gt;= 2.15.0), graphics, stats, grDevices</td><td>GPL-2 | GPL-3</td><td>/opt/mssql/mlservices/runtime/R/library</td></tr><tr><td>rprojroot</td><td>1.3-2</td><td>R (&gt;= 3.0.0)</td><td>GPL-3</td><td>/opt/mssql/mlservices/runtime/R/library</td></tr><tr><td>rstudioapi</td><td>0.8</td><td>NULL</td><td>MIT + file LICENSE</td><td>/opt/mssql/mlservices/runtime/R/library</td></tr><tr><td>shiny</td><td>1.2.0</td><td>R (&gt;= 3.0.2), methods</td><td>GPL-3 | file LICENSE</td><td>/opt/mssql/mlservices/runtime/R/library</td></tr><tr><td>sourcetools</td><td>0.1.7</td><td>R (&gt;= 3.0.2)</td><td>MIT + file LICENSE</td><td>/opt/mssql/mlservices/runtime/R/library</td></tr><tr><td>sparklyr</td><td>0.9.3</td><td>R (&gt;= 3.2)</td><td>Apache License 2.0 | file LICENSE</td><td>/opt/mssql/mlservices/runtime/R/library</td></tr><tr><td>spatial</td><td>7.3-11</td><td>R (&gt;= 3.0.0), graphics, stats, utils</td><td>GPL-2 | GPL-3</td><td>/opt/mssql/mlservices/runtime/R/library</td></tr><tr><td>splines</td><td>3.4.4</td><td>NULL</td><td>Part of R 3.4.4</td><td>/opt/mssql/mlservices/runtime/R/library</td></tr><tr><td>stats</td><td>3.4.4</td><td>NULL</td><td>Part of R 3.4.4</td><td>/opt/mssql/mlservices/runtime/R/library</td></tr><tr><td>stats4</td><td>3.4.4</td><td>NULL</td><td>Part of R 3.4.4</td><td>/opt/mssql/mlservices/runtime/R/library</td></tr><tr><td>stringi</td><td>1.2.4</td><td>R (&gt;= 2.14)</td><td>file LICENSE</td><td>/opt/mssql/mlservices/runtime/R/library</td></tr><tr><td>stringr</td><td>1.3.1</td><td>R (&gt;= 3.1)</td><td>GPL-2 | file LICENSE</td><td>/opt/mssql/mlservices/runtime/R/library</td></tr><tr><td>survival</td><td>2.41-3</td><td>R (&gt;= 2.13.0)</td><td>LGPL (&gt;= 2)</td><td>/opt/mssql/mlservices/runtime/R/library</td></tr><tr><td>tcltk</td><td>3.4.4</td><td>NULL</td><td>Part of R 3.4.4</td><td>/opt/mssql/mlservices/runtime/R/library</td></tr><tr><td>tibble</td><td>1.4.2</td><td>R (&gt;= 3.1.0)</td><td>MIT + file LICENSE</td><td>/opt/mssql/mlservices/runtime/R/library</td></tr><tr><td>tidyr</td><td>0.8.2</td><td>R (&gt;= 3.1)</td><td>MIT + file LICENSE</td><td>/opt/mssql/mlservices/runtime/R/library</td></tr><tr><td>tidyselect</td><td>0.2.5</td><td>R (&gt;= 3.1)</td><td>GPL-3</td><td>/opt/mssql/mlservices/runtime/R/library</td></tr><tr><td>tools</td><td>3.4.4</td><td>NULL</td><td>Part of R 3.4.4</td><td>/opt/mssql/mlservices/runtime/R/library</td></tr><tr><td>utf8</td><td>1.1.4</td><td>R (&gt;= 2.10)</td><td>Apache License (== 2.0) | file LICENSE</td><td>/opt/mssql/mlservices/runtime/R/library</td></tr><tr><td>utils</td><td>3.4.4</td><td>NULL</td><td>Part of R 3.4.4</td><td>/opt/mssql/mlservices/runtime/R/library</td></tr><tr><td>withr</td><td>2.1.2</td><td>R (&gt;= 3.0.2)</td><td>GPL (&gt;= 2)</td><td>/opt/mssql/mlservices/runtime/R/library</td></tr><tr><td>xml2</td><td>1.2.0</td><td>R (&gt;= 3.1.0)</td><td>GPL (&gt;= 2)</td><td>/opt/mssql/mlservices/runtime/R/library</td></tr><tr><td>xtable</td><td>1.8-3</td><td>R (&gt;= 2.10.0)</td><td>GPL (&gt;= 2)</td><td>/opt/mssql/mlservices/runtime/R/library</td></tr><tr><td>yaml</td><td>2.2.0</td><td>NULL</td><td>BSD_3_clause + file LICENSE</td><td>/opt/mssql/mlservices/runtime/R/library</td></tr></table>"
                    },
                    "metadata": {}
                }
            ],
            "execution_count": 4
        },
        {
            "cell_type": "code",
            "source": "/* Get Python Info */\r\nEXECUTE sp_execute_external_script\r\n@language =N'Python',\r\n@script=N'import sys\r\nprint(sys.version)';\r\nGO\r\n\r\nEXECUTE sp_execute_external_script \r\n  @language = N'Python', \r\n  @script = N'import pip\r\nimport pandas as pd\r\ninstalled_packages = pip.get_installed_distributions()\r\ninstalled_packages_list = sorted([\"%s==%s\" % (i.key, i.version)\r\n   for i in installed_packages])\r\ndf = pd.DataFrame(installed_packages_list)\r\nOutputDataSet = df'\r\nWITH RESULT SETS (( InstalledPackageAndVersion nvarchar (150) ))",
            "metadata": {},
            "outputs": [
                {
                    "output_type": "display_data",
                    "data": {
                        "text/html": "STDOUT message(s) from external script: \n3.5.2 |Anaconda 4.2.0 (64-bit)| (default, Jul  2 2016, 17:53:06) \n[GCC 4.4.7 20120313 (Red Hat 4.4.7-1)]"
                    },
                    "metadata": {}
                },
                {
                    "output_type": "display_data",
                    "data": {
                        "text/html": "Total execution time: 00:00:02.1465806"
                    },
                    "metadata": {}
                },
                {
                    "output_type": "display_data",
                    "data": {
                        "text/html": "(169 rows affected)"
                    },
                    "metadata": {}
                },
                {
                    "output_type": "display_data",
                    "data": {
                        "text/html": "Total execution time: 00:00:02.3840336"
                    },
                    "metadata": {}
                },
                {
                    "output_type": "execute_result",
                    "execution_count": 5,
                    "data": {
                        "application/vnd.dataresource+json": {
                            "schema": {
                                "fields": [
                                    {
                                        "name": "InstalledPackageAndVersion"
                                    }
                                ]
                            },
                            "data": [
                                {
                                    "0": "adal==1.2.0"
                                },
                                {
                                    "0": "alabaster==0.7.9"
                                },
                                {
                                    "0": "anaconda-clean==1.0"
                                },
                                {
                                    "0": "anaconda-client==1.5.1"
                                },
                                {
                                    "0": "anaconda-navigator==1.3.1"
                                },
                                {
                                    "0": "argcomplete==1.0.0"
                                },
                                {
                                    "0": "astroid==1.4.7"
                                },
                                {
                                    "0": "astropy==1.2.1"
                                },
                                {
                                    "0": "autovizwidget==0.12.1"
                                },
                                {
                                    "0": "azureml-model-management-sdk==1.0.1b10"
                                },
                                {
                                    "0": "babel==2.3.4"
                                },
                                {
                                    "0": "backports.shutil-get-terminal-size==1.0.0"
                                },
                                {
                                    "0": "beautifulsoup4==4.5.1"
                                },
                                {
                                    "0": "bitarray==0.8.1"
                                },
                                {
                                    "0": "blaze==0.10.1"
                                },
                                {
                                    "0": "bokeh==0.12.5"
                                },
                                {
                                    "0": "boto==2.42.0"
                                },
                                {
                                    "0": "bottleneck==1.2.0"
                                },
                                {
                                    "0": "cffi==1.7.0"
                                },
                                {
                                    "0": "chest==0.2.3"
                                },
                                {
                                    "0": "click==6.6"
                                },
                                {
                                    "0": "cloudpickle==0.2.2"
                                },
                                {
                                    "0": "clyent==1.2.2"
                                },
                                {
                                    "0": "colorama==0.3.7"
                                },
                                {
                                    "0": "conda-build==2.0.2"
                                },
                                {
                                    "0": "conda==4.3.30"
                                },
                                {
                                    "0": "configobj==5.0.6"
                                },
                                {
                                    "0": "contextlib2==0.5.3"
                                },
                                {
                                    "0": "cryptography==1.5"
                                },
                                {
                                    "0": "cycler==0.10.0"
                                },
                                {
                                    "0": "cython==0.25.2"
                                },
                                {
                                    "0": "cytoolz==0.8.2"
                                },
                                {
                                    "0": "dask==0.11.0"
                                },
                                {
                                    "0": "datashape==0.5.4"
                                },
                                {
                                    "0": "decorator==4.0.10"
                                },
                                {
                                    "0": "dill==0.2.6"
                                },
                                {
                                    "0": "docutils==0.12"
                                },
                                {
                                    "0": "dynd==0.7.3.dev1"
                                },
                                {
                                    "0": "et-xmlfile==1.0.1"
                                },
                                {
                                    "0": "fastcache==1.0.2"
                                },
                                {
                                    "0": "filelock==2.0.6"
                                },
                                {
                                    "0": "flask-cors==2.1.2"
                                },
                                {
                                    "0": "flask==0.11.1"
                                },
                                {
                                    "0": "gevent==1.1.2"
                                },
                                {
                                    "0": "greenlet==0.4.10"
                                },
                                {
                                    "0": "h5py==2.7.0"
                                },
                                {
                                    "0": "hdijupyterutils==0.12.1"
                                },
                                {
                                    "0": "heapdict==1.0.0"
                                },
                                {
                                    "0": "idna==2.1"
                                },
                                {
                                    "0": "imagesize==0.7.1"
                                },
                                {
                                    "0": "ipykernel==4.6.0"
                                },
                                {
                                    "0": "ipython-genutils==0.2.0"
                                },
                                {
                                    "0": "ipython==5.3.0"
                                },
                                {
                                    "0": "ipywidgets==6.0.0"
                                },
                                {
                                    "0": "itsdangerous==0.24"
                                },
                                {
                                    "0": "jdcal==1.3"
                                },
                                {
                                    "0": "jedi==0.9.0"
                                },
                                {
                                    "0": "jinja2==2.8"
                                },
                                {
                                    "0": "jsonschema==2.5.1"
                                },
                                {
                                    "0": "jupyter-client==5.0.1"
                                },
                                {
                                    "0": "jupyter-console==5.1.0"
                                },
                                {
                                    "0": "jupyter-core==4.2.0"
                                },
                                {
                                    "0": "jupyter==1.0.0"
                                },
                                {
                                    "0": "lazy-object-proxy==1.2.1"
                                },
                                {
                                    "0": "liac-arff==2.3.1"
                                },
                                {
                                    "0": "llvmlite==0.16.0"
                                },
                                {
                                    "0": "locket==0.2.0"
                                },
                                {
                                    "0": "lxml==3.7.3"
                                },
                                {
                                    "0": "markupsafe==0.23"
                                },
                                {
                                    "0": "matplotlib==2.0.0"
                                },
                                {
                                    "0": "microsoftml==9.4.6"
                                },
                                {
                                    "0": "mistune==0.7.4"
                                },
                                {
                                    "0": "mpmath==0.19"
                                },
                                {
                                    "0": "multipledispatch==0.4.9"
                                },
                                {
                                    "0": "nb-anacondacloud==1.2.0"
                                },
                                {
                                    "0": "nb-conda-kernels==2.0.0"
                                },
                                {
                                    "0": "nb-conda==2.0.0"
                                },
                                {
                                    "0": "nbconvert==4.2.0"
                                },
                                {
                                    "0": "nbformat==4.1.0"
                                },
                                {
                                    "0": "nbpresent==3.0.2"
                                },
                                {
                                    "0": "networkx==1.11"
                                },
                                {
                                    "0": "nltk==3.2.2"
                                },
                                {
                                    "0": "nose==1.3.7"
                                },
                                {
                                    "0": "notebook==5.0.0"
                                },
                                {
                                    "0": "numba==0.31.0"
                                },
                                {
                                    "0": "numexpr==2.6.2"
                                },
                                {
                                    "0": "numpy==1.12.1"
                                },
                                {
                                    "0": "numpydoc==0.6.0"
                                },
                                {
                                    "0": "odo==0.5.0"
                                },
                                {
                                    "0": "olefile==0.44"
                                },
                                {
                                    "0": "openpyxl==2.4.1"
                                },
                                {
                                    "0": "pandas-datareader==0.2.1"
                                },
                                {
                                    "0": "pandas==0.19.2"
                                },
                                {
                                    "0": "pandasql==0.7.3"
                                },
                                {
                                    "0": "partd==0.3.7"
                                },
                                {
                                    "0": "pathlib2==2.2.1"
                                },
                                {
                                    "0": "patsy==0.4.1"
                                },
                                {
                                    "0": "pep8==1.7.0"
                                },
                                {
                                    "0": "pexpect==4.0.1"
                                },
                                {
                                    "0": "pickleshare==0.7.4"
                                },
                                {
                                    "0": "pillow==4.2.1"
                                },
                                {
                                    "0": "pip==9.0.1"
                                },
                                {
                                    "0": "pkginfo==1.3.2"
                                },
                                {
                                    "0": "plotly==1.12.9"
                                },
                                {
                                    "0": "ply==3.9"
                                },
                                {
                                    "0": "prompt-toolkit==1.0.14"
                                },
                                {
                                    "0": "psutil==5.2.1"
                                },
                                {
                                    "0": "ptyprocess==0.5.1"
                                },
                                {
                                    "0": "py==1.4.31"
                                },
                                {
                                    "0": "pyasn1==0.1.9"
                                },
                                {
                                    "0": "pycosat==0.6.1"
                                },
                                {
                                    "0": "pycparser==2.14"
                                },
                                {
                                    "0": "pycrypto==2.6.1"
                                },
                                {
                                    "0": "pycurl==7.43.0"
                                },
                                {
                                    "0": "pyflakes==1.3.0"
                                },
                                {
                                    "0": "pygments==2.1.3"
                                },
                                {
                                    "0": "pyjwt==1.7.1"
                                },
                                {
                                    "0": "pykerberos==1.1.14"
                                },
                                {
                                    "0": "pylint==1.5.4"
                                },
                                {
                                    "0": "pyodbc==4.0.16"
                                },
                                {
                                    "0": "pyopenssl==16.2.0"
                                },
                                {
                                    "0": "pyparsing==2.1.4"
                                },
                                {
                                    "0": "pytest==3.0.7"
                                },
                                {
                                    "0": "python-dateutil==2.6.0"
                                },
                                {
                                    "0": "pytz==2016.6.1"
                                },
                                {
                                    "0": "pywavelets==0.5.2"
                                },
                                {
                                    "0": "pyyaml==3.12"
                                },
                                {
                                    "0": "pyzmq==15.4.0"
                                },
                                {
                                    "0": "qtawesome==0.3.3"
                                },
                                {
                                    "0": "qtconsole==4.2.1"
                                },
                                {
                                    "0": "qtpy==1.1.2"
                                },
                                {
                                    "0": "redis==2.10.5"
                                },
                                {
                                    "0": "requests-file==1.4.1"
                                },
                                {
                                    "0": "requests-kerberos==0.11.0"
                                },
                                {
                                    "0": "requests==2.13.0"
                                },
                                {
                                    "0": "revoscalepy==9.4.6"
                                },
                                {
                                    "0": "rope-py3k==0.9.4.post1"
                                },
                                {
                                    "0": "ruamel-yaml==-VERSION"
                                },
                                {
                                    "0": "scikit-image==0.13.0"
                                },
                                {
                                    "0": "scikit-learn==0.18.1"
                                },
                                {
                                    "0": "scipy==0.19.0"
                                },
                                {
                                    "0": "seaborn==0.7.1"
                                },
                                {
                                    "0": "setuptools==27.2.0"
                                },
                                {
                                    "0": "simplegeneric==0.8.1"
                                },
                                {
                                    "0": "singledispatch==3.4.0.3"
                                },
                                {
                                    "0": "six==1.10.0"
                                },
                                {
                                    "0": "snowballstemmer==1.2.1"
                                },
                                {
                                    "0": "sockjs-tornado==1.0.3"
                                },
                                {
                                    "0": "sparkmagic==0.12.1"
                                },
                                {
                                    "0": "sphinx==1.5.4"
                                },
                                {
                                    "0": "spyder==3.0.0"
                                },
                                {
                                    "0": "sqlalchemy==1.1.9"
                                },
                                {
                                    "0": "sqlparse==0.1.19"
                                },
                                {
                                    "0": "statsmodels==0.8.0"
                                },
                                {
                                    "0": "sympy==1.0"
                                },
                                {
                                    "0": "tables==3.4.2"
                                },
                                {
                                    "0": "terminado==0.6"
                                },
                                {
                                    "0": "toolz==0.8.2"
                                },
                                {
                                    "0": "tornado==4.4.1"
                                },
                                {
                                    "0": "traitlets==4.3.2"
                                },
                                {
                                    "0": "unicodecsv==0.14.1"
                                },
                                {
                                    "0": "wcwidth==0.1.7"
                                },
                                {
                                    "0": "werkzeug==0.11.11"
                                },
                                {
                                    "0": "wheel==0.29.0"
                                },
                                {
                                    "0": "widgetsnbextension==2.0.0"
                                },
                                {
                                    "0": "wrapt==1.10.6"
                                },
                                {
                                    "0": "xlrd==1.0.0"
                                },
                                {
                                    "0": "xlsxwriter==0.9.6"
                                },
                                {
                                    "0": "xlwt==1.2.0"
                                }
                            ]
                        },
                        "text/html": "<table><tr><th>InstalledPackageAndVersion</th></tr><tr><td>adal==1.2.0</td></tr><tr><td>alabaster==0.7.9</td></tr><tr><td>anaconda-clean==1.0</td></tr><tr><td>anaconda-client==1.5.1</td></tr><tr><td>anaconda-navigator==1.3.1</td></tr><tr><td>argcomplete==1.0.0</td></tr><tr><td>astroid==1.4.7</td></tr><tr><td>astropy==1.2.1</td></tr><tr><td>autovizwidget==0.12.1</td></tr><tr><td>azureml-model-management-sdk==1.0.1b10</td></tr><tr><td>babel==2.3.4</td></tr><tr><td>backports.shutil-get-terminal-size==1.0.0</td></tr><tr><td>beautifulsoup4==4.5.1</td></tr><tr><td>bitarray==0.8.1</td></tr><tr><td>blaze==0.10.1</td></tr><tr><td>bokeh==0.12.5</td></tr><tr><td>boto==2.42.0</td></tr><tr><td>bottleneck==1.2.0</td></tr><tr><td>cffi==1.7.0</td></tr><tr><td>chest==0.2.3</td></tr><tr><td>click==6.6</td></tr><tr><td>cloudpickle==0.2.2</td></tr><tr><td>clyent==1.2.2</td></tr><tr><td>colorama==0.3.7</td></tr><tr><td>conda-build==2.0.2</td></tr><tr><td>conda==4.3.30</td></tr><tr><td>configobj==5.0.6</td></tr><tr><td>contextlib2==0.5.3</td></tr><tr><td>cryptography==1.5</td></tr><tr><td>cycler==0.10.0</td></tr><tr><td>cython==0.25.2</td></tr><tr><td>cytoolz==0.8.2</td></tr><tr><td>dask==0.11.0</td></tr><tr><td>datashape==0.5.4</td></tr><tr><td>decorator==4.0.10</td></tr><tr><td>dill==0.2.6</td></tr><tr><td>docutils==0.12</td></tr><tr><td>dynd==0.7.3.dev1</td></tr><tr><td>et-xmlfile==1.0.1</td></tr><tr><td>fastcache==1.0.2</td></tr><tr><td>filelock==2.0.6</td></tr><tr><td>flask-cors==2.1.2</td></tr><tr><td>flask==0.11.1</td></tr><tr><td>gevent==1.1.2</td></tr><tr><td>greenlet==0.4.10</td></tr><tr><td>h5py==2.7.0</td></tr><tr><td>hdijupyterutils==0.12.1</td></tr><tr><td>heapdict==1.0.0</td></tr><tr><td>idna==2.1</td></tr><tr><td>imagesize==0.7.1</td></tr><tr><td>ipykernel==4.6.0</td></tr><tr><td>ipython-genutils==0.2.0</td></tr><tr><td>ipython==5.3.0</td></tr><tr><td>ipywidgets==6.0.0</td></tr><tr><td>itsdangerous==0.24</td></tr><tr><td>jdcal==1.3</td></tr><tr><td>jedi==0.9.0</td></tr><tr><td>jinja2==2.8</td></tr><tr><td>jsonschema==2.5.1</td></tr><tr><td>jupyter-client==5.0.1</td></tr><tr><td>jupyter-console==5.1.0</td></tr><tr><td>jupyter-core==4.2.0</td></tr><tr><td>jupyter==1.0.0</td></tr><tr><td>lazy-object-proxy==1.2.1</td></tr><tr><td>liac-arff==2.3.1</td></tr><tr><td>llvmlite==0.16.0</td></tr><tr><td>locket==0.2.0</td></tr><tr><td>lxml==3.7.3</td></tr><tr><td>markupsafe==0.23</td></tr><tr><td>matplotlib==2.0.0</td></tr><tr><td>microsoftml==9.4.6</td></tr><tr><td>mistune==0.7.4</td></tr><tr><td>mpmath==0.19</td></tr><tr><td>multipledispatch==0.4.9</td></tr><tr><td>nb-anacondacloud==1.2.0</td></tr><tr><td>nb-conda-kernels==2.0.0</td></tr><tr><td>nb-conda==2.0.0</td></tr><tr><td>nbconvert==4.2.0</td></tr><tr><td>nbformat==4.1.0</td></tr><tr><td>nbpresent==3.0.2</td></tr><tr><td>networkx==1.11</td></tr><tr><td>nltk==3.2.2</td></tr><tr><td>nose==1.3.7</td></tr><tr><td>notebook==5.0.0</td></tr><tr><td>numba==0.31.0</td></tr><tr><td>numexpr==2.6.2</td></tr><tr><td>numpy==1.12.1</td></tr><tr><td>numpydoc==0.6.0</td></tr><tr><td>odo==0.5.0</td></tr><tr><td>olefile==0.44</td></tr><tr><td>openpyxl==2.4.1</td></tr><tr><td>pandas-datareader==0.2.1</td></tr><tr><td>pandas==0.19.2</td></tr><tr><td>pandasql==0.7.3</td></tr><tr><td>partd==0.3.7</td></tr><tr><td>pathlib2==2.2.1</td></tr><tr><td>patsy==0.4.1</td></tr><tr><td>pep8==1.7.0</td></tr><tr><td>pexpect==4.0.1</td></tr><tr><td>pickleshare==0.7.4</td></tr><tr><td>pillow==4.2.1</td></tr><tr><td>pip==9.0.1</td></tr><tr><td>pkginfo==1.3.2</td></tr><tr><td>plotly==1.12.9</td></tr><tr><td>ply==3.9</td></tr><tr><td>prompt-toolkit==1.0.14</td></tr><tr><td>psutil==5.2.1</td></tr><tr><td>ptyprocess==0.5.1</td></tr><tr><td>py==1.4.31</td></tr><tr><td>pyasn1==0.1.9</td></tr><tr><td>pycosat==0.6.1</td></tr><tr><td>pycparser==2.14</td></tr><tr><td>pycrypto==2.6.1</td></tr><tr><td>pycurl==7.43.0</td></tr><tr><td>pyflakes==1.3.0</td></tr><tr><td>pygments==2.1.3</td></tr><tr><td>pyjwt==1.7.1</td></tr><tr><td>pykerberos==1.1.14</td></tr><tr><td>pylint==1.5.4</td></tr><tr><td>pyodbc==4.0.16</td></tr><tr><td>pyopenssl==16.2.0</td></tr><tr><td>pyparsing==2.1.4</td></tr><tr><td>pytest==3.0.7</td></tr><tr><td>python-dateutil==2.6.0</td></tr><tr><td>pytz==2016.6.1</td></tr><tr><td>pywavelets==0.5.2</td></tr><tr><td>pyyaml==3.12</td></tr><tr><td>pyzmq==15.4.0</td></tr><tr><td>qtawesome==0.3.3</td></tr><tr><td>qtconsole==4.2.1</td></tr><tr><td>qtpy==1.1.2</td></tr><tr><td>redis==2.10.5</td></tr><tr><td>requests-file==1.4.1</td></tr><tr><td>requests-kerberos==0.11.0</td></tr><tr><td>requests==2.13.0</td></tr><tr><td>revoscalepy==9.4.6</td></tr><tr><td>rope-py3k==0.9.4.post1</td></tr><tr><td>ruamel-yaml==-VERSION</td></tr><tr><td>scikit-image==0.13.0</td></tr><tr><td>scikit-learn==0.18.1</td></tr><tr><td>scipy==0.19.0</td></tr><tr><td>seaborn==0.7.1</td></tr><tr><td>setuptools==27.2.0</td></tr><tr><td>simplegeneric==0.8.1</td></tr><tr><td>singledispatch==3.4.0.3</td></tr><tr><td>six==1.10.0</td></tr><tr><td>snowballstemmer==1.2.1</td></tr><tr><td>sockjs-tornado==1.0.3</td></tr><tr><td>sparkmagic==0.12.1</td></tr><tr><td>sphinx==1.5.4</td></tr><tr><td>spyder==3.0.0</td></tr><tr><td>sqlalchemy==1.1.9</td></tr><tr><td>sqlparse==0.1.19</td></tr><tr><td>statsmodels==0.8.0</td></tr><tr><td>sympy==1.0</td></tr><tr><td>tables==3.4.2</td></tr><tr><td>terminado==0.6</td></tr><tr><td>toolz==0.8.2</td></tr><tr><td>tornado==4.4.1</td></tr><tr><td>traitlets==4.3.2</td></tr><tr><td>unicodecsv==0.14.1</td></tr><tr><td>wcwidth==0.1.7</td></tr><tr><td>werkzeug==0.11.11</td></tr><tr><td>wheel==0.29.0</td></tr><tr><td>widgetsnbextension==2.0.0</td></tr><tr><td>wrapt==1.10.6</td></tr><tr><td>xlrd==1.0.0</td></tr><tr><td>xlsxwriter==0.9.6</td></tr><tr><td>xlwt==1.2.0</td></tr></table>"
                    },
                    "metadata": {}
                }
            ],
            "execution_count": 5
        },
        {
            "cell_type": "markdown",
            "source": "<h2><img style=\"float: left; margin: 0px 15px 15px 0px;\" src=\"https://github.com/Microsoft/sqlworkshops/blob/master/graphics/pin.jpg?raw=true\">1.2 Programming SQL Server Machine Learning Services</h2>\r\n\r\nYou have two methods of working with Machine Learning Services in SQL Server:\r\n\r\n1. You can create your R or Python code on a workstation with the Microsoft R or Python Libraries installed, which run certain operations on the SQL Server Instance remotely.\r\n2. You can \"wrap\" the R or Python code in a Stored Procedure server-side, and run standard Transact-SQL statements to call for the scoring.\r\n\r\nYou can use four methods of running the Models you create in Machine Learning Services (in SQL Server 2019):\r\n\r\n1. Using the Extensibility Framework, you can create trained Machine Learning Models, and store them as a binary object in a SQL Server table. You can then \"score\" (do the predictions or classifications) in SQL Server by loading the binary model and using it in Python or R code wrapped in a Stored Procedure.\r\n2. Using the Native Scoring feature of the `PREDICT` Transact-SQL statement against a trained Machine Learning Model. The model that you use must have been created using one of the supported algorithms from the RevoScaleR package. \r\n3. Using the `sp_rxPredict` stored procedure provided as a wrapper for the `rxPredict` R function in RevoScaleR and MicrosoftML, and the `rx_predict` Python function in revoscalepy and microsoftml. It is written in C++ and is optimized specifically for scoring operations.\r\n4. The *big data clusters* (BDC) feature provides not only the ML Server processes, but adds a Spark environment for *SparkR, PySpark, SparkML* and other libraries for Machine Learning over HDFS and database data.  This course focuses on the previous three methods, but a [full course on using BDC is here](https://github.com/Microsoft/sqlworkshops/tree/master/sqlserver2019bigdataclusters).\r\n ",
            "metadata": {}
        },
        {
            "cell_type": "markdown",
            "source": "<p><img style=\"float: left; margin: 0px 15px 15px 0px;\" src=\"https://github.com/Microsoft/sqlworkshops/blob/master/graphics/thinking.jpg?raw=true\"><b>For Further Study</b></p>\n\n<br>\n<br>\n\n- Primary Documentation: [https://docs.microsoft.com/en-us/sql/advanced-analytics/r/sql-server-r-services?view=sql-server-2017](https://docs.microsoft.com/en-us/sql/advanced-analytics/r/sql-server-r-services?view=sql-server-2017)\n\n- https://microsoft.github.io/sql-ml-tutorials/R/customerclustering/",
            "metadata": {}
        },
        {
            "cell_type": "markdown",
            "source": "<p><img style=\"float: left; margin: 0px 15px 15px 0px;\" src=\"https://github.com/Microsoft/sqlworkshops/blob/master/graphics/education1.png?raw=true\"><b>Next</b>: Project Methodology and Data Science</p>\r\n\r\nNext, you'll learn more about setting up your project structure and working with Data Science in *02 Project Methodology and Data Science*. Open that Notebook to continue.\r\n",
            "metadata": {}
        }
    ]
}